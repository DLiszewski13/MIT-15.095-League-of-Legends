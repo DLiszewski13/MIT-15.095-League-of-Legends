{
 "cells": [
  {
   "cell_type": "code",
   "execution_count": 1,
   "metadata": {},
   "outputs": [],
   "source": [
    "using CSV, DataFrames, Statistics, Random, RCall"
   ]
  },
  {
   "cell_type": "code",
   "execution_count": 2,
   "metadata": {
    "scrolled": true
   },
   "outputs": [
    {
     "data": {
      "text/html": [
       "<table class=\"data-frame\"><thead><tr><th></th><th>side</th><th>league</th><th>playoffs</th><th>gamelength</th><th>avg_kda_6mon_top</th><th>avg_kda_6mon_jng</th></tr><tr><th></th><th>Categorical…⍰</th><th>Categorical…⍰</th><th>Int64⍰</th><th>Int64⍰</th><th>Float64⍰</th><th>Float64⍰</th></tr></thead><tbody><p>1,849 rows × 484 columns (omitted printing of 478 columns)</p><tr><th>1</th><td>Blue</td><td>LCS.A</td><td>0</td><td>1811</td><td>3.92933</td><td>2.68922</td></tr><tr><th>2</th><td>Blue</td><td>LPL</td><td>0</td><td>1630</td><td>5.04964</td><td>4.11696</td></tr><tr><th>3</th><td>Blue</td><td>CBLOL</td><td>0</td><td>1704</td><td>5.3046</td><td>6.97874</td></tr><tr><th>4</th><td>Blue</td><td>CBLOL</td><td>0</td><td>1864</td><td>4.23485</td><td>missing</td></tr><tr><th>5</th><td>Blue</td><td>LCS</td><td>0</td><td>2130</td><td>4.12121</td><td>5.20884</td></tr><tr><th>6</th><td>Blue</td><td>LCS</td><td>0</td><td>1919</td><td>5.88556</td><td>3.06349</td></tr><tr><th>7</th><td>Blue</td><td>LCS</td><td>0</td><td>1716</td><td>4.24306</td><td>3.28958</td></tr><tr><th>8</th><td>Blue</td><td>LPL</td><td>0</td><td>2331</td><td>4.43556</td><td>4.73712</td></tr><tr><th>9</th><td>Blue</td><td>LPL</td><td>0</td><td>2140</td><td>4.08241</td><td>6.5977</td></tr><tr><th>10</th><td>Blue</td><td>CBLOL</td><td>0</td><td>3078</td><td>5.23681</td><td>7.49008</td></tr><tr><th>11</th><td>Blue</td><td>CBLOL</td><td>0</td><td>2123</td><td>4.72756</td><td>4.44057</td></tr><tr><th>12</th><td>Blue</td><td>CBLOL</td><td>0</td><td>1985</td><td>4.23485</td><td>4.19048</td></tr><tr><th>13</th><td>Blue</td><td>LCS</td><td>0</td><td>1716</td><td>3.40076</td><td>4.71021</td></tr><tr><th>14</th><td>Blue</td><td>LCS</td><td>0</td><td>2059</td><td>3.5625</td><td>missing</td></tr><tr><th>15</th><td>Blue</td><td>LPL</td><td>0</td><td>1996</td><td>3.56159</td><td>missing</td></tr><tr><th>16</th><td>Blue</td><td>LPL</td><td>0</td><td>1847</td><td>2.97917</td><td>4.6037</td></tr><tr><th>17</th><td>Blue</td><td>LPL</td><td>0</td><td>1491</td><td>4.52366</td><td>4.79946</td></tr><tr><th>18</th><td>Blue</td><td>LFL</td><td>0</td><td>2820</td><td>2.44846</td><td>2.36008</td></tr><tr><th>19</th><td>Blue</td><td>LCK</td><td>0</td><td>1871</td><td>2.30315</td><td>3.104</td></tr><tr><th>20</th><td>Blue</td><td>LPL</td><td>0</td><td>1829</td><td>5.51503</td><td>5.84143</td></tr><tr><th>21</th><td>Blue</td><td>LCK</td><td>0</td><td>2016</td><td>3.73889</td><td>4.4201</td></tr><tr><th>22</th><td>Blue</td><td>LFL</td><td>0</td><td>2333</td><td>2.74537</td><td>1.85</td></tr><tr><th>23</th><td>Blue</td><td>CK</td><td>0</td><td>1677</td><td>missing</td><td>3.04493</td></tr><tr><th>24</th><td>Blue</td><td>OCS</td><td>0</td><td>2304</td><td>7.08333</td><td>missing</td></tr><tr><th>25</th><td>Blue</td><td>OCS</td><td>0</td><td>1476</td><td>5.46667</td><td>6.0</td></tr><tr><th>26</th><td>Blue</td><td>OCS</td><td>0</td><td>1323</td><td>3.15</td><td>4.78125</td></tr><tr><th>27</th><td>Blue</td><td>OCS</td><td>0</td><td>1794</td><td>1.56</td><td>2.63</td></tr><tr><th>28</th><td>Blue</td><td>LPL</td><td>0</td><td>2285</td><td>3.92667</td><td>4.62304</td></tr><tr><th>29</th><td>Blue</td><td>LPL</td><td>0</td><td>1795</td><td>3.92667</td><td>4.62304</td></tr><tr><th>30</th><td>Blue</td><td>LCK</td><td>0</td><td>2728</td><td>3.91113</td><td>3.62763</td></tr><tr><th>&vellip;</th><td>&vellip;</td><td>&vellip;</td><td>&vellip;</td><td>&vellip;</td><td>&vellip;</td><td>&vellip;</td></tr></tbody></table>"
      ],
      "text/latex": [
       "\\begin{tabular}{r|ccccccc}\n",
       "\t& side & league & playoffs & gamelength & avg\\_kda\\_6mon\\_top & avg\\_kda\\_6mon\\_jng & \\\\\n",
       "\t\\hline\n",
       "\t& Categorical…⍰ & Categorical…⍰ & Int64⍰ & Int64⍰ & Float64⍰ & Float64⍰ & \\\\\n",
       "\t\\hline\n",
       "\t1 & Blue & LCS.A & 0 & 1811 & 3.92933 & 2.68922 & $\\dots$ \\\\\n",
       "\t2 & Blue & LPL & 0 & 1630 & 5.04964 & 4.11696 & $\\dots$ \\\\\n",
       "\t3 & Blue & CBLOL & 0 & 1704 & 5.3046 & 6.97874 & $\\dots$ \\\\\n",
       "\t4 & Blue & CBLOL & 0 & 1864 & 4.23485 &  & $\\dots$ \\\\\n",
       "\t5 & Blue & LCS & 0 & 2130 & 4.12121 & 5.20884 & $\\dots$ \\\\\n",
       "\t6 & Blue & LCS & 0 & 1919 & 5.88556 & 3.06349 & $\\dots$ \\\\\n",
       "\t7 & Blue & LCS & 0 & 1716 & 4.24306 & 3.28958 & $\\dots$ \\\\\n",
       "\t8 & Blue & LPL & 0 & 2331 & 4.43556 & 4.73712 & $\\dots$ \\\\\n",
       "\t9 & Blue & LPL & 0 & 2140 & 4.08241 & 6.5977 & $\\dots$ \\\\\n",
       "\t10 & Blue & CBLOL & 0 & 3078 & 5.23681 & 7.49008 & $\\dots$ \\\\\n",
       "\t11 & Blue & CBLOL & 0 & 2123 & 4.72756 & 4.44057 & $\\dots$ \\\\\n",
       "\t12 & Blue & CBLOL & 0 & 1985 & 4.23485 & 4.19048 & $\\dots$ \\\\\n",
       "\t13 & Blue & LCS & 0 & 1716 & 3.40076 & 4.71021 & $\\dots$ \\\\\n",
       "\t14 & Blue & LCS & 0 & 2059 & 3.5625 &  & $\\dots$ \\\\\n",
       "\t15 & Blue & LPL & 0 & 1996 & 3.56159 &  & $\\dots$ \\\\\n",
       "\t16 & Blue & LPL & 0 & 1847 & 2.97917 & 4.6037 & $\\dots$ \\\\\n",
       "\t17 & Blue & LPL & 0 & 1491 & 4.52366 & 4.79946 & $\\dots$ \\\\\n",
       "\t18 & Blue & LFL & 0 & 2820 & 2.44846 & 2.36008 & $\\dots$ \\\\\n",
       "\t19 & Blue & LCK & 0 & 1871 & 2.30315 & 3.104 & $\\dots$ \\\\\n",
       "\t20 & Blue & LPL & 0 & 1829 & 5.51503 & 5.84143 & $\\dots$ \\\\\n",
       "\t21 & Blue & LCK & 0 & 2016 & 3.73889 & 4.4201 & $\\dots$ \\\\\n",
       "\t22 & Blue & LFL & 0 & 2333 & 2.74537 & 1.85 & $\\dots$ \\\\\n",
       "\t23 & Blue & CK & 0 & 1677 &  & 3.04493 & $\\dots$ \\\\\n",
       "\t24 & Blue & OCS & 0 & 2304 & 7.08333 &  & $\\dots$ \\\\\n",
       "\t25 & Blue & OCS & 0 & 1476 & 5.46667 & 6.0 & $\\dots$ \\\\\n",
       "\t26 & Blue & OCS & 0 & 1323 & 3.15 & 4.78125 & $\\dots$ \\\\\n",
       "\t27 & Blue & OCS & 0 & 1794 & 1.56 & 2.63 & $\\dots$ \\\\\n",
       "\t28 & Blue & LPL & 0 & 2285 & 3.92667 & 4.62304 & $\\dots$ \\\\\n",
       "\t29 & Blue & LPL & 0 & 1795 & 3.92667 & 4.62304 & $\\dots$ \\\\\n",
       "\t30 & Blue & LCK & 0 & 2728 & 3.91113 & 3.62763 & $\\dots$ \\\\\n",
       "\t$\\dots$ & $\\dots$ & $\\dots$ & $\\dots$ & $\\dots$ & $\\dots$ & $\\dots$ &  \\\\\n",
       "\\end{tabular}\n"
      ],
      "text/plain": [
       "1849×484 DataFrame. Omitted printing of 480 columns\n",
       "│ Row  │ side          │ league        │ playoffs │ gamelength │\n",
       "│      │ \u001b[90mCategorical…⍰\u001b[39m │ \u001b[90mCategorical…⍰\u001b[39m │ \u001b[90mInt64⍰\u001b[39m   │ \u001b[90mInt64⍰\u001b[39m     │\n",
       "├──────┼───────────────┼───────────────┼──────────┼────────────┤\n",
       "│ 1    │ Blue          │ LCS.A         │ 0        │ 1811       │\n",
       "│ 2    │ Blue          │ LPL           │ 0        │ 1630       │\n",
       "│ 3    │ Blue          │ CBLOL         │ 0        │ 1704       │\n",
       "│ 4    │ Blue          │ CBLOL         │ 0        │ 1864       │\n",
       "│ 5    │ Blue          │ LCS           │ 0        │ 2130       │\n",
       "│ 6    │ Blue          │ LCS           │ 0        │ 1919       │\n",
       "│ 7    │ Blue          │ LCS           │ 0        │ 1716       │\n",
       "│ 8    │ Blue          │ LPL           │ 0        │ 2331       │\n",
       "│ 9    │ Blue          │ LPL           │ 0        │ 2140       │\n",
       "│ 10   │ Blue          │ CBLOL         │ 0        │ 3078       │\n",
       "⋮\n",
       "│ 1839 │ Red           │ VCS           │ 0        │ 1674       │\n",
       "│ 1840 │ Red           │ KeSPA         │ 0        │ 2259       │\n",
       "│ 1841 │ Red           │ KeSPA         │ 0        │ 2195       │\n",
       "│ 1842 │ Red           │ KeSPA         │ 0        │ 2415       │\n",
       "│ 1843 │ Red           │ KeSPA         │ 0        │ 1695       │\n",
       "│ 1844 │ Red           │ KeSPA         │ 0        │ 1507       │\n",
       "│ 1845 │ Red           │ KeSPA         │ 0        │ 1884       │\n",
       "│ 1846 │ Red           │ KeSPA         │ 0        │ 1955       │\n",
       "│ 1847 │ Red           │ KeSPA         │ 0        │ 1943       │\n",
       "│ 1848 │ Red           │ KeSPA         │ 0        │ 1619       │\n",
       "│ 1849 │ Red           │ KeSPA         │ 0        │ 2837       │"
      ]
     },
     "execution_count": 2,
     "metadata": {},
     "output_type": "execute_result"
    }
   ],
   "source": [
    "# Reading in data\n",
    "test_0_5 = DataFrame(CSV.File(\"/Users/pan/Dropbox (MIT)/ML_league/data/test_0.5_2019.csv\", header=true, missingstring=\"NA\", categorical=true))\n",
    "\n",
    "# Making variables categorical variables, train set\n",
    "# categorical!(train_2y1y_2row, :playoffs)\n",
    "\n",
    "# Same categorical for testing set\n",
    "allowmissing!(test_0_5)"
   ]
  },
  {
   "cell_type": "code",
   "execution_count": 29,
   "metadata": {},
   "outputs": [
    {
     "data": {
      "text/html": [
       "<table class=\"data-frame\"><thead><tr><th></th><th>playoffs</th><th>gamelength</th><th>avg_kda_6mon_top</th><th>avg_kda_6mon_jng</th><th>avg_kda_6mon_mid</th><th>avg_kda_6mon_bot</th></tr><tr><th></th><th>Int64⍰</th><th>Int64⍰</th><th>Float64⍰</th><th>Float64⍰</th><th>Float64⍰</th><th>Float64⍰</th></tr></thead><tbody><p>1,849 rows × 482 columns (omitted printing of 476 columns)</p><tr><th>1</th><td>0</td><td>1811</td><td>3.92933</td><td>2.68922</td><td>1.5</td><td>4.95942</td></tr><tr><th>2</th><td>0</td><td>1630</td><td>5.04964</td><td>4.11696</td><td>4.71541</td><td>4.9691</td></tr><tr><th>3</th><td>0</td><td>1704</td><td>5.3046</td><td>6.97874</td><td>6.41708</td><td>8.41667</td></tr><tr><th>4</th><td>0</td><td>1864</td><td>4.23485</td><td>missing</td><td>5.6381</td><td>6.925</td></tr><tr><th>5</th><td>0</td><td>2130</td><td>4.12121</td><td>5.20884</td><td>7.80159</td><td>6.72727</td></tr><tr><th>6</th><td>0</td><td>1919</td><td>5.88556</td><td>3.06349</td><td>3.60463</td><td>4.80417</td></tr><tr><th>7</th><td>0</td><td>1716</td><td>4.24306</td><td>3.28958</td><td>4.46667</td><td>5.73397</td></tr><tr><th>8</th><td>0</td><td>2331</td><td>4.43556</td><td>4.73712</td><td>missing</td><td>5.43182</td></tr><tr><th>9</th><td>0</td><td>2140</td><td>4.08241</td><td>6.5977</td><td>6.01939</td><td>5.65764</td></tr><tr><th>10</th><td>0</td><td>3078</td><td>5.23681</td><td>7.49008</td><td>8.34127</td><td>8.61111</td></tr><tr><th>11</th><td>0</td><td>2123</td><td>4.72756</td><td>4.44057</td><td>4.40321</td><td>2.89286</td></tr><tr><th>12</th><td>0</td><td>1985</td><td>4.23485</td><td>4.19048</td><td>5.6381</td><td>6.925</td></tr><tr><th>13</th><td>0</td><td>1716</td><td>3.40076</td><td>4.71021</td><td>6.42667</td><td>7.51333</td></tr><tr><th>14</th><td>0</td><td>2059</td><td>3.5625</td><td>missing</td><td>4.19</td><td>3.89815</td></tr><tr><th>15</th><td>0</td><td>1996</td><td>3.56159</td><td>missing</td><td>4.85606</td><td>4.33985</td></tr><tr><th>16</th><td>0</td><td>1847</td><td>2.97917</td><td>4.6037</td><td>4.96</td><td>4.99688</td></tr><tr><th>17</th><td>0</td><td>1491</td><td>4.52366</td><td>4.79946</td><td>4.38306</td><td>6.01398</td></tr><tr><th>18</th><td>0</td><td>2820</td><td>2.44846</td><td>2.36008</td><td>2.64167</td><td>2.72745</td></tr><tr><th>19</th><td>0</td><td>1871</td><td>2.30315</td><td>3.104</td><td>3.02927</td><td>3.25</td></tr><tr><th>20</th><td>0</td><td>1829</td><td>5.51503</td><td>5.84143</td><td>7.31381</td><td>6.64095</td></tr><tr><th>21</th><td>0</td><td>2016</td><td>3.73889</td><td>4.4201</td><td>5.57326</td><td>6.11489</td></tr><tr><th>22</th><td>0</td><td>2333</td><td>2.74537</td><td>1.85</td><td>3.8249</td><td>2.33542</td></tr><tr><th>23</th><td>0</td><td>1677</td><td>missing</td><td>3.04493</td><td>5.25641</td><td>missing</td></tr><tr><th>24</th><td>0</td><td>2304</td><td>7.08333</td><td>missing</td><td>4.23095</td><td>2.33333</td></tr><tr><th>25</th><td>0</td><td>1476</td><td>5.46667</td><td>6.0</td><td>5.9</td><td>5.33333</td></tr><tr><th>26</th><td>0</td><td>1323</td><td>3.15</td><td>4.78125</td><td>4.23095</td><td>3.48333</td></tr><tr><th>27</th><td>0</td><td>1794</td><td>1.56</td><td>2.63</td><td>0.666667</td><td>missing</td></tr><tr><th>28</th><td>0</td><td>2285</td><td>3.92667</td><td>4.62304</td><td>4.1119</td><td>5.31618</td></tr><tr><th>29</th><td>0</td><td>1795</td><td>3.92667</td><td>4.62304</td><td>4.1119</td><td>5.31618</td></tr><tr><th>30</th><td>0</td><td>2728</td><td>3.91113</td><td>3.62763</td><td>3.40465</td><td>4.94713</td></tr><tr><th>&vellip;</th><td>&vellip;</td><td>&vellip;</td><td>&vellip;</td><td>&vellip;</td><td>&vellip;</td><td>&vellip;</td></tr></tbody></table>"
      ],
      "text/latex": [
       "\\begin{tabular}{r|ccccccc}\n",
       "\t& playoffs & gamelength & avg\\_kda\\_6mon\\_top & avg\\_kda\\_6mon\\_jng & avg\\_kda\\_6mon\\_mid & avg\\_kda\\_6mon\\_bot & \\\\\n",
       "\t\\hline\n",
       "\t& Int64⍰ & Int64⍰ & Float64⍰ & Float64⍰ & Float64⍰ & Float64⍰ & \\\\\n",
       "\t\\hline\n",
       "\t1 & 0 & 1811 & 3.92933 & 2.68922 & 1.5 & 4.95942 & $\\dots$ \\\\\n",
       "\t2 & 0 & 1630 & 5.04964 & 4.11696 & 4.71541 & 4.9691 & $\\dots$ \\\\\n",
       "\t3 & 0 & 1704 & 5.3046 & 6.97874 & 6.41708 & 8.41667 & $\\dots$ \\\\\n",
       "\t4 & 0 & 1864 & 4.23485 &  & 5.6381 & 6.925 & $\\dots$ \\\\\n",
       "\t5 & 0 & 2130 & 4.12121 & 5.20884 & 7.80159 & 6.72727 & $\\dots$ \\\\\n",
       "\t6 & 0 & 1919 & 5.88556 & 3.06349 & 3.60463 & 4.80417 & $\\dots$ \\\\\n",
       "\t7 & 0 & 1716 & 4.24306 & 3.28958 & 4.46667 & 5.73397 & $\\dots$ \\\\\n",
       "\t8 & 0 & 2331 & 4.43556 & 4.73712 &  & 5.43182 & $\\dots$ \\\\\n",
       "\t9 & 0 & 2140 & 4.08241 & 6.5977 & 6.01939 & 5.65764 & $\\dots$ \\\\\n",
       "\t10 & 0 & 3078 & 5.23681 & 7.49008 & 8.34127 & 8.61111 & $\\dots$ \\\\\n",
       "\t11 & 0 & 2123 & 4.72756 & 4.44057 & 4.40321 & 2.89286 & $\\dots$ \\\\\n",
       "\t12 & 0 & 1985 & 4.23485 & 4.19048 & 5.6381 & 6.925 & $\\dots$ \\\\\n",
       "\t13 & 0 & 1716 & 3.40076 & 4.71021 & 6.42667 & 7.51333 & $\\dots$ \\\\\n",
       "\t14 & 0 & 2059 & 3.5625 &  & 4.19 & 3.89815 & $\\dots$ \\\\\n",
       "\t15 & 0 & 1996 & 3.56159 &  & 4.85606 & 4.33985 & $\\dots$ \\\\\n",
       "\t16 & 0 & 1847 & 2.97917 & 4.6037 & 4.96 & 4.99688 & $\\dots$ \\\\\n",
       "\t17 & 0 & 1491 & 4.52366 & 4.79946 & 4.38306 & 6.01398 & $\\dots$ \\\\\n",
       "\t18 & 0 & 2820 & 2.44846 & 2.36008 & 2.64167 & 2.72745 & $\\dots$ \\\\\n",
       "\t19 & 0 & 1871 & 2.30315 & 3.104 & 3.02927 & 3.25 & $\\dots$ \\\\\n",
       "\t20 & 0 & 1829 & 5.51503 & 5.84143 & 7.31381 & 6.64095 & $\\dots$ \\\\\n",
       "\t21 & 0 & 2016 & 3.73889 & 4.4201 & 5.57326 & 6.11489 & $\\dots$ \\\\\n",
       "\t22 & 0 & 2333 & 2.74537 & 1.85 & 3.8249 & 2.33542 & $\\dots$ \\\\\n",
       "\t23 & 0 & 1677 &  & 3.04493 & 5.25641 &  & $\\dots$ \\\\\n",
       "\t24 & 0 & 2304 & 7.08333 &  & 4.23095 & 2.33333 & $\\dots$ \\\\\n",
       "\t25 & 0 & 1476 & 5.46667 & 6.0 & 5.9 & 5.33333 & $\\dots$ \\\\\n",
       "\t26 & 0 & 1323 & 3.15 & 4.78125 & 4.23095 & 3.48333 & $\\dots$ \\\\\n",
       "\t27 & 0 & 1794 & 1.56 & 2.63 & 0.666667 &  & $\\dots$ \\\\\n",
       "\t28 & 0 & 2285 & 3.92667 & 4.62304 & 4.1119 & 5.31618 & $\\dots$ \\\\\n",
       "\t29 & 0 & 1795 & 3.92667 & 4.62304 & 4.1119 & 5.31618 & $\\dots$ \\\\\n",
       "\t30 & 0 & 2728 & 3.91113 & 3.62763 & 3.40465 & 4.94713 & $\\dots$ \\\\\n",
       "\t$\\dots$ & $\\dots$ & $\\dots$ & $\\dots$ & $\\dots$ & $\\dots$ & $\\dots$ &  \\\\\n",
       "\\end{tabular}\n"
      ],
      "text/plain": [
       "1849×482 DataFrame. Omitted printing of 478 columns\n",
       "│ Row  │ playoffs │ gamelength │ avg_kda_6mon_top │ avg_kda_6mon_jng │\n",
       "│      │ \u001b[90mInt64⍰\u001b[39m   │ \u001b[90mInt64⍰\u001b[39m     │ \u001b[90mFloat64⍰\u001b[39m         │ \u001b[90mFloat64⍰\u001b[39m         │\n",
       "├──────┼──────────┼────────────┼──────────────────┼──────────────────┤\n",
       "│ 1    │ 0        │ 1811       │ 3.92933          │ 2.68922          │\n",
       "│ 2    │ 0        │ 1630       │ 5.04964          │ 4.11696          │\n",
       "│ 3    │ 0        │ 1704       │ 5.3046           │ 6.97874          │\n",
       "│ 4    │ 0        │ 1864       │ 4.23485          │ \u001b[90mmissing\u001b[39m          │\n",
       "│ 5    │ 0        │ 2130       │ 4.12121          │ 5.20884          │\n",
       "│ 6    │ 0        │ 1919       │ 5.88556          │ 3.06349          │\n",
       "│ 7    │ 0        │ 1716       │ 4.24306          │ 3.28958          │\n",
       "│ 8    │ 0        │ 2331       │ 4.43556          │ 4.73712          │\n",
       "│ 9    │ 0        │ 2140       │ 4.08241          │ 6.5977           │\n",
       "│ 10   │ 0        │ 3078       │ 5.23681          │ 7.49008          │\n",
       "⋮\n",
       "│ 1839 │ 0        │ 1674       │ 4.23254          │ 6.25238          │\n",
       "│ 1840 │ 0        │ 2259       │ 3.91113          │ 3.62763          │\n",
       "│ 1841 │ 0        │ 2195       │ 5.04957          │ \u001b[90mmissing\u001b[39m          │\n",
       "│ 1842 │ 0        │ 2415       │ \u001b[90mmissing\u001b[39m          │ \u001b[90mmissing\u001b[39m          │\n",
       "│ 1843 │ 0        │ 1695       │ \u001b[90mmissing\u001b[39m          │ \u001b[90mmissing\u001b[39m          │\n",
       "│ 1844 │ 0        │ 1507       │ \u001b[90mmissing\u001b[39m          │ \u001b[90mmissing\u001b[39m          │\n",
       "│ 1845 │ 0        │ 1884       │ 2.47778          │ 3.61008          │\n",
       "│ 1846 │ 0        │ 1955       │ 3.91113          │ 2.85             │\n",
       "│ 1847 │ 0        │ 1943       │ 3.11429          │ 3.63434          │\n",
       "│ 1848 │ 0        │ 1619       │ \u001b[90mmissing\u001b[39m          │ \u001b[90mmissing\u001b[39m          │\n",
       "│ 1849 │ 0        │ 2837       │ \u001b[90mmissing\u001b[39m          │ 5.21815          │"
      ]
     },
     "execution_count": 29,
     "metadata": {},
     "output_type": "execute_result"
    }
   ],
   "source": [
    "test_0_5_noenemy = test_0_5[:,3:end]"
   ]
  },
  {
   "cell_type": "code",
   "execution_count": 31,
   "metadata": {},
   "outputs": [
    {
     "name": "stderr",
     "output_type": "stream",
     "text": [
      "\u001b[32mTrying different warm starts...      0%|                |  ETA: N/A\u001b[39m\n",
      "\u001b[A4m  Warmstart:  knn\u001b[39m\n",
      "\u001b[32mTrying different warm starts...     17%|██▋             |  ETA: 0:08:51\u001b[39m\n",
      "\u001b[A4m  Warmstart:  rand\u001b[39m\n",
      "\u001b[32mTrying different warm starts...     33%|█████▍          |  ETA: 0:05:10\u001b[39m\n",
      "\u001b[A4m  Warmstart:  rand\u001b[39m\n",
      "\u001b[32mTrying different warm starts...     50%|████████        |  ETA: 0:03:20\u001b[39m\n",
      "\u001b[A4m  Warmstart:  rand\u001b[39m\n",
      "\u001b[32mTrying different warm starts...     67%|██████████▋     |  ETA: 0:02:03\u001b[39m\n",
      "\u001b[A4m  Warmstart:  rand\u001b[39m\n",
      "\u001b[32mTrying different warm starts...     83%|█████████████▍  |  ETA: 0:00:58\u001b[39m\n",
      "\u001b[A4m  Warmstart:  rand\u001b[39m\n",
      "\u001b[32mTrying different warm starts...    100%|████████████████| Time: 0:05:29\u001b[39m\n",
      "\u001b[A4m  Warmstart:  rand\u001b[39m"
     ]
    },
    {
     "name": "stdout",
     "output_type": "stream",
     "text": [
      "\n",
      "\n"
     ]
    },
    {
     "data": {
      "text/html": [
       "<table class=\"data-frame\"><thead><tr><th></th><th>playoffs</th><th>gamelength</th><th>avg_kda_6mon_top</th><th>avg_kda_6mon_jng</th><th>avg_kda_6mon_mid</th><th>avg_kda_6mon_bot</th></tr><tr><th></th><th>Float64⍰</th><th>Float64⍰</th><th>Float64⍰</th><th>Float64⍰</th><th>Float64⍰</th><th>Float64⍰</th></tr></thead><tbody><p>1,849 rows × 482 columns (omitted printing of 476 columns)</p><tr><th>1</th><td>0.0</td><td>1811.0</td><td>3.92933</td><td>2.68922</td><td>1.5</td><td>4.95942</td></tr><tr><th>2</th><td>0.0</td><td>1630.0</td><td>5.04964</td><td>4.11696</td><td>4.71541</td><td>4.9691</td></tr><tr><th>3</th><td>0.0</td><td>1704.0</td><td>5.3046</td><td>6.97874</td><td>6.41708</td><td>8.41667</td></tr><tr><th>4</th><td>0.0</td><td>1864.0</td><td>4.23485</td><td>4.94303</td><td>5.6381</td><td>6.925</td></tr><tr><th>5</th><td>0.0</td><td>2130.0</td><td>4.12121</td><td>5.20884</td><td>7.80159</td><td>6.72727</td></tr><tr><th>6</th><td>0.0</td><td>1919.0</td><td>5.88556</td><td>3.06349</td><td>3.60463</td><td>4.80417</td></tr><tr><th>7</th><td>0.0</td><td>1716.0</td><td>4.24306</td><td>3.28958</td><td>4.46667</td><td>5.73397</td></tr><tr><th>8</th><td>0.0</td><td>2331.0</td><td>4.43556</td><td>4.73712</td><td>5.25073</td><td>5.43182</td></tr><tr><th>9</th><td>0.0</td><td>2140.0</td><td>4.08241</td><td>6.5977</td><td>6.01939</td><td>5.65764</td></tr><tr><th>10</th><td>0.0</td><td>3078.0</td><td>5.23681</td><td>7.49008</td><td>8.34127</td><td>8.61111</td></tr><tr><th>11</th><td>0.0</td><td>2123.0</td><td>4.72756</td><td>4.44057</td><td>4.40321</td><td>2.89286</td></tr><tr><th>12</th><td>0.0</td><td>1985.0</td><td>4.23485</td><td>4.19048</td><td>5.6381</td><td>6.925</td></tr><tr><th>13</th><td>0.0</td><td>1716.0</td><td>3.40076</td><td>4.71021</td><td>6.42667</td><td>7.51333</td></tr><tr><th>14</th><td>0.0</td><td>2059.0</td><td>3.5625</td><td>4.30526</td><td>4.19</td><td>3.89815</td></tr><tr><th>15</th><td>0.0</td><td>1996.0</td><td>3.56159</td><td>4.94354</td><td>4.85606</td><td>4.33985</td></tr><tr><th>16</th><td>0.0</td><td>1847.0</td><td>2.97917</td><td>4.6037</td><td>4.96</td><td>4.99688</td></tr><tr><th>17</th><td>0.0</td><td>1491.0</td><td>4.52366</td><td>4.79946</td><td>4.38306</td><td>6.01398</td></tr><tr><th>18</th><td>0.0</td><td>2820.0</td><td>2.44846</td><td>2.36008</td><td>2.64167</td><td>2.72745</td></tr><tr><th>19</th><td>0.0</td><td>1871.0</td><td>2.30315</td><td>3.104</td><td>3.02927</td><td>3.25</td></tr><tr><th>20</th><td>0.0</td><td>1829.0</td><td>5.51503</td><td>5.84143</td><td>7.31381</td><td>6.64095</td></tr><tr><th>21</th><td>0.0</td><td>2016.0</td><td>3.73889</td><td>4.4201</td><td>5.57326</td><td>6.11489</td></tr><tr><th>22</th><td>0.0</td><td>2333.0</td><td>2.74537</td><td>1.85</td><td>3.8249</td><td>2.33542</td></tr><tr><th>23</th><td>0.0</td><td>1677.0</td><td>3.65455</td><td>3.04493</td><td>5.25641</td><td>5.19481</td></tr><tr><th>24</th><td>0.0</td><td>2304.0</td><td>7.08333</td><td>4.77128</td><td>4.23095</td><td>2.33333</td></tr><tr><th>25</th><td>0.0</td><td>1476.0</td><td>5.46667</td><td>6.0</td><td>5.9</td><td>5.33333</td></tr><tr><th>26</th><td>0.0</td><td>1323.0</td><td>3.15</td><td>4.78125</td><td>4.23095</td><td>3.48333</td></tr><tr><th>27</th><td>0.0</td><td>1794.0</td><td>1.56</td><td>2.63</td><td>0.666667</td><td>5.47336</td></tr><tr><th>28</th><td>0.0</td><td>2285.0</td><td>3.92667</td><td>4.62304</td><td>4.1119</td><td>5.31618</td></tr><tr><th>29</th><td>0.0</td><td>1795.0</td><td>3.92667</td><td>4.62304</td><td>4.1119</td><td>5.31618</td></tr><tr><th>30</th><td>0.0</td><td>2728.0</td><td>3.91113</td><td>3.62763</td><td>3.40465</td><td>4.94713</td></tr><tr><th>&vellip;</th><td>&vellip;</td><td>&vellip;</td><td>&vellip;</td><td>&vellip;</td><td>&vellip;</td><td>&vellip;</td></tr></tbody></table>"
      ],
      "text/latex": [
       "\\begin{tabular}{r|ccccccc}\n",
       "\t& playoffs & gamelength & avg\\_kda\\_6mon\\_top & avg\\_kda\\_6mon\\_jng & avg\\_kda\\_6mon\\_mid & avg\\_kda\\_6mon\\_bot & \\\\\n",
       "\t\\hline\n",
       "\t& Float64⍰ & Float64⍰ & Float64⍰ & Float64⍰ & Float64⍰ & Float64⍰ & \\\\\n",
       "\t\\hline\n",
       "\t1 & 0.0 & 1811.0 & 3.92933 & 2.68922 & 1.5 & 4.95942 & $\\dots$ \\\\\n",
       "\t2 & 0.0 & 1630.0 & 5.04964 & 4.11696 & 4.71541 & 4.9691 & $\\dots$ \\\\\n",
       "\t3 & 0.0 & 1704.0 & 5.3046 & 6.97874 & 6.41708 & 8.41667 & $\\dots$ \\\\\n",
       "\t4 & 0.0 & 1864.0 & 4.23485 & 4.94303 & 5.6381 & 6.925 & $\\dots$ \\\\\n",
       "\t5 & 0.0 & 2130.0 & 4.12121 & 5.20884 & 7.80159 & 6.72727 & $\\dots$ \\\\\n",
       "\t6 & 0.0 & 1919.0 & 5.88556 & 3.06349 & 3.60463 & 4.80417 & $\\dots$ \\\\\n",
       "\t7 & 0.0 & 1716.0 & 4.24306 & 3.28958 & 4.46667 & 5.73397 & $\\dots$ \\\\\n",
       "\t8 & 0.0 & 2331.0 & 4.43556 & 4.73712 & 5.25073 & 5.43182 & $\\dots$ \\\\\n",
       "\t9 & 0.0 & 2140.0 & 4.08241 & 6.5977 & 6.01939 & 5.65764 & $\\dots$ \\\\\n",
       "\t10 & 0.0 & 3078.0 & 5.23681 & 7.49008 & 8.34127 & 8.61111 & $\\dots$ \\\\\n",
       "\t11 & 0.0 & 2123.0 & 4.72756 & 4.44057 & 4.40321 & 2.89286 & $\\dots$ \\\\\n",
       "\t12 & 0.0 & 1985.0 & 4.23485 & 4.19048 & 5.6381 & 6.925 & $\\dots$ \\\\\n",
       "\t13 & 0.0 & 1716.0 & 3.40076 & 4.71021 & 6.42667 & 7.51333 & $\\dots$ \\\\\n",
       "\t14 & 0.0 & 2059.0 & 3.5625 & 4.30526 & 4.19 & 3.89815 & $\\dots$ \\\\\n",
       "\t15 & 0.0 & 1996.0 & 3.56159 & 4.94354 & 4.85606 & 4.33985 & $\\dots$ \\\\\n",
       "\t16 & 0.0 & 1847.0 & 2.97917 & 4.6037 & 4.96 & 4.99688 & $\\dots$ \\\\\n",
       "\t17 & 0.0 & 1491.0 & 4.52366 & 4.79946 & 4.38306 & 6.01398 & $\\dots$ \\\\\n",
       "\t18 & 0.0 & 2820.0 & 2.44846 & 2.36008 & 2.64167 & 2.72745 & $\\dots$ \\\\\n",
       "\t19 & 0.0 & 1871.0 & 2.30315 & 3.104 & 3.02927 & 3.25 & $\\dots$ \\\\\n",
       "\t20 & 0.0 & 1829.0 & 5.51503 & 5.84143 & 7.31381 & 6.64095 & $\\dots$ \\\\\n",
       "\t21 & 0.0 & 2016.0 & 3.73889 & 4.4201 & 5.57326 & 6.11489 & $\\dots$ \\\\\n",
       "\t22 & 0.0 & 2333.0 & 2.74537 & 1.85 & 3.8249 & 2.33542 & $\\dots$ \\\\\n",
       "\t23 & 0.0 & 1677.0 & 3.65455 & 3.04493 & 5.25641 & 5.19481 & $\\dots$ \\\\\n",
       "\t24 & 0.0 & 2304.0 & 7.08333 & 4.77128 & 4.23095 & 2.33333 & $\\dots$ \\\\\n",
       "\t25 & 0.0 & 1476.0 & 5.46667 & 6.0 & 5.9 & 5.33333 & $\\dots$ \\\\\n",
       "\t26 & 0.0 & 1323.0 & 3.15 & 4.78125 & 4.23095 & 3.48333 & $\\dots$ \\\\\n",
       "\t27 & 0.0 & 1794.0 & 1.56 & 2.63 & 0.666667 & 5.47336 & $\\dots$ \\\\\n",
       "\t28 & 0.0 & 2285.0 & 3.92667 & 4.62304 & 4.1119 & 5.31618 & $\\dots$ \\\\\n",
       "\t29 & 0.0 & 1795.0 & 3.92667 & 4.62304 & 4.1119 & 5.31618 & $\\dots$ \\\\\n",
       "\t30 & 0.0 & 2728.0 & 3.91113 & 3.62763 & 3.40465 & 4.94713 & $\\dots$ \\\\\n",
       "\t$\\dots$ & $\\dots$ & $\\dots$ & $\\dots$ & $\\dots$ & $\\dots$ & $\\dots$ &  \\\\\n",
       "\\end{tabular}\n"
      ],
      "text/plain": [
       "1849×482 DataFrame. Omitted printing of 478 columns\n",
       "│ Row  │ playoffs │ gamelength │ avg_kda_6mon_top │ avg_kda_6mon_jng │\n",
       "│      │ \u001b[90mFloat64⍰\u001b[39m │ \u001b[90mFloat64⍰\u001b[39m   │ \u001b[90mFloat64⍰\u001b[39m         │ \u001b[90mFloat64⍰\u001b[39m         │\n",
       "├──────┼──────────┼────────────┼──────────────────┼──────────────────┤\n",
       "│ 1    │ 0.0      │ 1811.0     │ 3.92933          │ 2.68922          │\n",
       "│ 2    │ 0.0      │ 1630.0     │ 5.04964          │ 4.11696          │\n",
       "│ 3    │ 0.0      │ 1704.0     │ 5.3046           │ 6.97874          │\n",
       "│ 4    │ 0.0      │ 1864.0     │ 4.23485          │ 4.94303          │\n",
       "│ 5    │ 0.0      │ 2130.0     │ 4.12121          │ 5.20884          │\n",
       "│ 6    │ 0.0      │ 1919.0     │ 5.88556          │ 3.06349          │\n",
       "│ 7    │ 0.0      │ 1716.0     │ 4.24306          │ 3.28958          │\n",
       "│ 8    │ 0.0      │ 2331.0     │ 4.43556          │ 4.73712          │\n",
       "│ 9    │ 0.0      │ 2140.0     │ 4.08241          │ 6.5977           │\n",
       "│ 10   │ 0.0      │ 3078.0     │ 5.23681          │ 7.49008          │\n",
       "⋮\n",
       "│ 1839 │ 0.0      │ 1674.0     │ 4.23254          │ 6.25238          │\n",
       "│ 1840 │ 0.0      │ 2259.0     │ 3.91113          │ 3.62763          │\n",
       "│ 1841 │ 0.0      │ 2195.0     │ 5.04957          │ 5.2218           │\n",
       "│ 1842 │ 0.0      │ 2415.0     │ 3.98081          │ 4.78576          │\n",
       "│ 1843 │ 0.0      │ 1695.0     │ 4.02421          │ 4.7543           │\n",
       "│ 1844 │ 0.0      │ 1507.0     │ 4.21327          │ 5.6334           │\n",
       "│ 1845 │ 0.0      │ 1884.0     │ 2.47778          │ 3.61008          │\n",
       "│ 1846 │ 0.0      │ 1955.0     │ 3.91113          │ 2.85             │\n",
       "│ 1847 │ 0.0      │ 1943.0     │ 3.11429          │ 3.63434          │\n",
       "│ 1848 │ 0.0      │ 1619.0     │ 4.56764          │ 5.7751           │\n",
       "│ 1849 │ 0.0      │ 2837.0     │ 4.45766          │ 5.21815          │"
      ]
     },
     "execution_count": 31,
     "metadata": {},
     "output_type": "execute_result"
    }
   ],
   "source": [
    "lol_imputed_knn = IAI.impute(test_0_5_noenemy,:opt_knn)"
   ]
  },
  {
   "cell_type": "code",
   "execution_count": 33,
   "metadata": {},
   "outputs": [
    {
     "data": {
      "text/plain": [
       "RObject{NilSxp}\n",
       "NULL\n"
      ]
     },
     "execution_count": 33,
     "metadata": {},
     "output_type": "execute_result"
    }
   ],
   "source": [
    "using CSV, DataFrames, RCall\n",
    "\n",
    "# CSV.write(\"/Users/pan/Desktop\", DataFrame(a));\n",
    "\n",
    "\n",
    "@rput lol_imputed_knn\n",
    "\n",
    "R\"\"\"\n",
    "write.csv(lol_imputed_knn,'/Users/pan/Dropbox (MIT)/ML_league/data/test_0.5_2019_nochamp_noenemy_nocat_imputed.csv', row.names = FALSE)\n",
    "\"\"\""
   ]
  },
  {
   "cell_type": "code",
   "execution_count": null,
   "metadata": {},
   "outputs": [],
   "source": []
  }
 ],
 "metadata": {
  "kernelspec": {
   "display_name": "Julia 1.3.1",
   "language": "julia",
   "name": "julia-1.3"
  },
  "language_info": {
   "file_extension": ".jl",
   "mimetype": "application/julia",
   "name": "julia",
   "version": "1.3.1"
  }
 },
 "nbformat": 4,
 "nbformat_minor": 4
}
