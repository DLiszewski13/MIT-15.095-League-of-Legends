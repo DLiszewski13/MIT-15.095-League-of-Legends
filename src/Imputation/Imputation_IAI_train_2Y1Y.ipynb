{
 "cells": [
  {
   "cell_type": "code",
   "execution_count": 149,
   "metadata": {},
   "outputs": [],
   "source": [
    "using CSV, DataFrames, Statistics, Random, RCall"
   ]
  },
  {
   "cell_type": "code",
   "execution_count": 150,
   "metadata": {
    "scrolled": true
   },
   "outputs": [
    {
     "data": {
      "text/html": [
       "<table class=\"data-frame\"><thead><tr><th></th><th>side</th><th>league</th><th>playoffs</th><th>gamelength</th><th>avg_kda_6mon_top</th><th>avg_kda_6mon_jng</th></tr><tr><th></th><th>Categorical…⍰</th><th>Categorical…⍰</th><th>Int64⍰</th><th>Int64⍰</th><th>Float64⍰</th><th>Float64⍰</th></tr></thead><tbody><p>20,284 rows × 484 columns (omitted printing of 478 columns)</p><tr><th>1</th><td>Blue</td><td>LPL</td><td>0</td><td>1590</td><td>missing</td><td>missing</td></tr><tr><th>2</th><td>Blue</td><td>LPL</td><td>0</td><td>1682</td><td>4.82222</td><td>4.93889</td></tr><tr><th>3</th><td>Blue</td><td>LPL</td><td>0</td><td>2148</td><td>missing</td><td>missing</td></tr><tr><th>4</th><td>Blue</td><td>LPL</td><td>0</td><td>2185</td><td>missing</td><td>missing</td></tr><tr><th>5</th><td>Blue</td><td>LPL</td><td>0</td><td>2482</td><td>missing</td><td>missing</td></tr><tr><th>6</th><td>Blue</td><td>LCK</td><td>0</td><td>2132</td><td>5.0</td><td>4.89867</td></tr><tr><th>7</th><td>Blue</td><td>LCK</td><td>0</td><td>1977</td><td>4.48829</td><td>4.98583</td></tr><tr><th>8</th><td>Blue</td><td>LPL</td><td>0</td><td>1689</td><td>missing</td><td>missing</td></tr><tr><th>9</th><td>Blue</td><td>LCK</td><td>0</td><td>1770</td><td>4.88942</td><td>1.4</td></tr><tr><th>10</th><td>Blue</td><td>LCK</td><td>0</td><td>2639</td><td>2.73844</td><td>3.87279</td></tr><tr><th>11</th><td>Blue</td><td>LPL</td><td>0</td><td>3432</td><td>missing</td><td>missing</td></tr><tr><th>12</th><td>Blue</td><td>LPL</td><td>0</td><td>1340</td><td>missing</td><td>missing</td></tr><tr><th>13</th><td>Blue</td><td>LCK</td><td>0</td><td>2783</td><td>3.62157</td><td>4.4719</td></tr><tr><th>14</th><td>Blue</td><td>LPL</td><td>0</td><td>1752</td><td>5.25</td><td>missing</td></tr><tr><th>15</th><td>Blue</td><td>LCK</td><td>0</td><td>2385</td><td>5.90998</td><td>7.23201</td></tr><tr><th>16</th><td>Blue</td><td>LPL</td><td>0</td><td>1802</td><td>5.25</td><td>missing</td></tr><tr><th>17</th><td>Blue</td><td>LCK</td><td>0</td><td>2250</td><td>3.62157</td><td>4.4719</td></tr><tr><th>18</th><td>Blue</td><td>LPL</td><td>0</td><td>1882</td><td>missing</td><td>missing</td></tr><tr><th>19</th><td>Blue</td><td>LCK</td><td>0</td><td>2664</td><td>4.29127</td><td>4.9473</td></tr><tr><th>20</th><td>Blue</td><td>LCK</td><td>0</td><td>1902</td><td>3.66374</td><td>3.91282</td></tr><tr><th>21</th><td>Blue</td><td>LCK</td><td>0</td><td>1686</td><td>4.29127</td><td>missing</td></tr><tr><th>22</th><td>Blue</td><td>CK</td><td>0</td><td>2560</td><td>6.0</td><td>3.20764</td></tr><tr><th>23</th><td>Blue</td><td>CK</td><td>0</td><td>1646</td><td>missing</td><td>3.63873</td></tr><tr><th>24</th><td>Blue</td><td>CK</td><td>0</td><td>1725</td><td>4.35315</td><td>5.27841</td></tr><tr><th>25</th><td>Blue</td><td>LCK</td><td>0</td><td>2012</td><td>4.88942</td><td>1.4</td></tr><tr><th>26</th><td>Blue</td><td>CK</td><td>0</td><td>1694</td><td>missing</td><td>5.35733</td></tr><tr><th>27</th><td>Blue</td><td>VCS</td><td>0</td><td>1814</td><td>missing</td><td>missing</td></tr><tr><th>28</th><td>Blue</td><td>LCK</td><td>0</td><td>2708</td><td>3.58822</td><td>5.71945</td></tr><tr><th>29</th><td>Blue</td><td>LCK</td><td>0</td><td>2387</td><td>4.88942</td><td>1.4</td></tr><tr><th>30</th><td>Blue</td><td>VCS</td><td>0</td><td>1954</td><td>missing</td><td>missing</td></tr><tr><th>&vellip;</th><td>&vellip;</td><td>&vellip;</td><td>&vellip;</td><td>&vellip;</td><td>&vellip;</td><td>&vellip;</td></tr></tbody></table>"
      ],
      "text/latex": [
       "\\begin{tabular}{r|ccccccc}\n",
       "\t& side & league & playoffs & gamelength & avg\\_kda\\_6mon\\_top & avg\\_kda\\_6mon\\_jng & \\\\\n",
       "\t\\hline\n",
       "\t& Categorical…⍰ & Categorical…⍰ & Int64⍰ & Int64⍰ & Float64⍰ & Float64⍰ & \\\\\n",
       "\t\\hline\n",
       "\t1 & Blue & LPL & 0 & 1590 &  &  & $\\dots$ \\\\\n",
       "\t2 & Blue & LPL & 0 & 1682 & 4.82222 & 4.93889 & $\\dots$ \\\\\n",
       "\t3 & Blue & LPL & 0 & 2148 &  &  & $\\dots$ \\\\\n",
       "\t4 & Blue & LPL & 0 & 2185 &  &  & $\\dots$ \\\\\n",
       "\t5 & Blue & LPL & 0 & 2482 &  &  & $\\dots$ \\\\\n",
       "\t6 & Blue & LCK & 0 & 2132 & 5.0 & 4.89867 & $\\dots$ \\\\\n",
       "\t7 & Blue & LCK & 0 & 1977 & 4.48829 & 4.98583 & $\\dots$ \\\\\n",
       "\t8 & Blue & LPL & 0 & 1689 &  &  & $\\dots$ \\\\\n",
       "\t9 & Blue & LCK & 0 & 1770 & 4.88942 & 1.4 & $\\dots$ \\\\\n",
       "\t10 & Blue & LCK & 0 & 2639 & 2.73844 & 3.87279 & $\\dots$ \\\\\n",
       "\t11 & Blue & LPL & 0 & 3432 &  &  & $\\dots$ \\\\\n",
       "\t12 & Blue & LPL & 0 & 1340 &  &  & $\\dots$ \\\\\n",
       "\t13 & Blue & LCK & 0 & 2783 & 3.62157 & 4.4719 & $\\dots$ \\\\\n",
       "\t14 & Blue & LPL & 0 & 1752 & 5.25 &  & $\\dots$ \\\\\n",
       "\t15 & Blue & LCK & 0 & 2385 & 5.90998 & 7.23201 & $\\dots$ \\\\\n",
       "\t16 & Blue & LPL & 0 & 1802 & 5.25 &  & $\\dots$ \\\\\n",
       "\t17 & Blue & LCK & 0 & 2250 & 3.62157 & 4.4719 & $\\dots$ \\\\\n",
       "\t18 & Blue & LPL & 0 & 1882 &  &  & $\\dots$ \\\\\n",
       "\t19 & Blue & LCK & 0 & 2664 & 4.29127 & 4.9473 & $\\dots$ \\\\\n",
       "\t20 & Blue & LCK & 0 & 1902 & 3.66374 & 3.91282 & $\\dots$ \\\\\n",
       "\t21 & Blue & LCK & 0 & 1686 & 4.29127 &  & $\\dots$ \\\\\n",
       "\t22 & Blue & CK & 0 & 2560 & 6.0 & 3.20764 & $\\dots$ \\\\\n",
       "\t23 & Blue & CK & 0 & 1646 &  & 3.63873 & $\\dots$ \\\\\n",
       "\t24 & Blue & CK & 0 & 1725 & 4.35315 & 5.27841 & $\\dots$ \\\\\n",
       "\t25 & Blue & LCK & 0 & 2012 & 4.88942 & 1.4 & $\\dots$ \\\\\n",
       "\t26 & Blue & CK & 0 & 1694 &  & 5.35733 & $\\dots$ \\\\\n",
       "\t27 & Blue & VCS & 0 & 1814 &  &  & $\\dots$ \\\\\n",
       "\t28 & Blue & LCK & 0 & 2708 & 3.58822 & 5.71945 & $\\dots$ \\\\\n",
       "\t29 & Blue & LCK & 0 & 2387 & 4.88942 & 1.4 & $\\dots$ \\\\\n",
       "\t30 & Blue & VCS & 0 & 1954 &  &  & $\\dots$ \\\\\n",
       "\t$\\dots$ & $\\dots$ & $\\dots$ & $\\dots$ & $\\dots$ & $\\dots$ & $\\dots$ &  \\\\\n",
       "\\end{tabular}\n"
      ],
      "text/plain": [
       "20284×484 DataFrame. Omitted printing of 480 columns\n",
       "│ Row   │ side          │ league        │ playoffs │ gamelength │\n",
       "│       │ \u001b[90mCategorical…⍰\u001b[39m │ \u001b[90mCategorical…⍰\u001b[39m │ \u001b[90mInt64⍰\u001b[39m   │ \u001b[90mInt64⍰\u001b[39m     │\n",
       "├───────┼───────────────┼───────────────┼──────────┼────────────┤\n",
       "│ 1     │ Blue          │ LPL           │ 0        │ 1590       │\n",
       "│ 2     │ Blue          │ LPL           │ 0        │ 1682       │\n",
       "│ 3     │ Blue          │ LPL           │ 0        │ 2148       │\n",
       "│ 4     │ Blue          │ LPL           │ 0        │ 2185       │\n",
       "│ 5     │ Blue          │ LPL           │ 0        │ 2482       │\n",
       "│ 6     │ Blue          │ LCK           │ 0        │ 2132       │\n",
       "│ 7     │ Blue          │ LCK           │ 0        │ 1977       │\n",
       "│ 8     │ Blue          │ LPL           │ 0        │ 1689       │\n",
       "│ 9     │ Blue          │ LCK           │ 0        │ 1770       │\n",
       "│ 10    │ Blue          │ LCK           │ 0        │ 2639       │\n",
       "⋮\n",
       "│ 20274 │ Red           │ KeSPA         │ 0        │ 1619       │\n",
       "│ 20275 │ Red           │ KeSPA         │ 0        │ 2577       │\n",
       "│ 20276 │ Red           │ KeSPA         │ 0        │ 1780       │\n",
       "│ 20277 │ Red           │ KeSPA         │ 0        │ 2014       │\n",
       "│ 20278 │ Red           │ KeSPA         │ 0        │ 1832       │\n",
       "│ 20279 │ Red           │ KeSPA         │ 0        │ 2023       │\n",
       "│ 20280 │ Red           │ KeSPA         │ 0        │ 2149       │\n",
       "│ 20281 │ Red           │ KeSPA         │ 0        │ 2062       │\n",
       "│ 20282 │ Red           │ KeSPA         │ 0        │ 2837       │\n",
       "│ 20283 │ Red           │ KeSPA         │ 0        │ 1883       │\n",
       "│ 20284 │ Red           │ KeSPA         │ 0        │ 1513       │"
      ]
     },
     "execution_count": 150,
     "metadata": {},
     "output_type": "execute_result"
    }
   ],
   "source": [
    "# Reading in data\n",
    "train_2y1y_2row = DataFrame(CSV.File(\"../data/train_2y1y_2row_nochamp.csv\", header=true, missingstring=\"NA\", categorical=true))\n",
    "\n",
    "# Making variables categorical variables, train set\n",
    "# categorical!(train_2y1y_2row, :playoffs)\n",
    "\n",
    "# Same categorical for testing set\n",
    "allowmissing!(train_2y1y_2row)"
   ]
  },
  {
   "cell_type": "code",
   "execution_count": 164,
   "metadata": {},
   "outputs": [
    {
     "data": {
      "text/html": [
       "<table class=\"data-frame\"><thead><tr><th></th><th>playoffs</th><th>gamelength</th><th>avg_kda_6mon_top</th><th>avg_kda_6mon_jng</th><th>avg_kda_6mon_mid</th><th>avg_kda_6mon_bot</th></tr><tr><th></th><th>Int64⍰</th><th>Int64⍰</th><th>Float64⍰</th><th>Float64⍰</th><th>Float64⍰</th><th>Float64⍰</th></tr></thead><tbody><p>20,284 rows × 242 columns (omitted printing of 236 columns)</p><tr><th>1</th><td>0</td><td>1590</td><td>missing</td><td>missing</td><td>missing</td><td>missing</td></tr><tr><th>2</th><td>0</td><td>1682</td><td>4.82222</td><td>4.93889</td><td>7.07778</td><td>missing</td></tr><tr><th>3</th><td>0</td><td>2148</td><td>missing</td><td>missing</td><td>missing</td><td>missing</td></tr><tr><th>4</th><td>0</td><td>2185</td><td>missing</td><td>missing</td><td>missing</td><td>missing</td></tr><tr><th>5</th><td>0</td><td>2482</td><td>missing</td><td>missing</td><td>missing</td><td>missing</td></tr><tr><th>6</th><td>0</td><td>2132</td><td>5.0</td><td>4.89867</td><td>8.40333</td><td>5.94791</td></tr><tr><th>7</th><td>0</td><td>1977</td><td>4.48829</td><td>4.98583</td><td>4.69099</td><td>5.10068</td></tr><tr><th>8</th><td>0</td><td>1689</td><td>missing</td><td>missing</td><td>missing</td><td>missing</td></tr><tr><th>9</th><td>0</td><td>1770</td><td>4.88942</td><td>1.4</td><td>5.58077</td><td>5.64006</td></tr><tr><th>10</th><td>0</td><td>2639</td><td>2.73844</td><td>3.87279</td><td>4.5415</td><td>4.37483</td></tr><tr><th>11</th><td>0</td><td>3432</td><td>missing</td><td>missing</td><td>missing</td><td>missing</td></tr><tr><th>12</th><td>0</td><td>1340</td><td>missing</td><td>missing</td><td>missing</td><td>missing</td></tr><tr><th>13</th><td>0</td><td>2783</td><td>3.62157</td><td>4.4719</td><td>5.18814</td><td>5.13644</td></tr><tr><th>14</th><td>0</td><td>1752</td><td>5.25</td><td>missing</td><td>missing</td><td>missing</td></tr><tr><th>15</th><td>0</td><td>2385</td><td>5.90998</td><td>7.23201</td><td>6.40571</td><td>6.74259</td></tr><tr><th>16</th><td>0</td><td>1802</td><td>5.25</td><td>missing</td><td>missing</td><td>missing</td></tr><tr><th>17</th><td>0</td><td>2250</td><td>3.62157</td><td>4.4719</td><td>5.18814</td><td>5.13644</td></tr><tr><th>18</th><td>0</td><td>1882</td><td>missing</td><td>missing</td><td>missing</td><td>missing</td></tr><tr><th>19</th><td>0</td><td>2664</td><td>4.29127</td><td>4.9473</td><td>4.91602</td><td>5.26818</td></tr><tr><th>20</th><td>0</td><td>1902</td><td>3.66374</td><td>3.91282</td><td>3.69667</td><td>5.40278</td></tr><tr><th>21</th><td>0</td><td>1686</td><td>4.29127</td><td>missing</td><td>4.91602</td><td>5.26818</td></tr><tr><th>22</th><td>0</td><td>2560</td><td>6.0</td><td>3.20764</td><td>5.025</td><td>6.16667</td></tr><tr><th>23</th><td>0</td><td>1646</td><td>missing</td><td>3.63873</td><td>4.37982</td><td>4.72838</td></tr><tr><th>24</th><td>0</td><td>1725</td><td>4.35315</td><td>5.27841</td><td>5.82037</td><td>10.0476</td></tr><tr><th>25</th><td>0</td><td>2012</td><td>4.88942</td><td>1.4</td><td>5.58077</td><td>5.64006</td></tr><tr><th>26</th><td>0</td><td>1694</td><td>missing</td><td>5.35733</td><td>6.53291</td><td>missing</td></tr><tr><th>27</th><td>0</td><td>1814</td><td>missing</td><td>missing</td><td>missing</td><td>missing</td></tr><tr><th>28</th><td>0</td><td>2708</td><td>3.58822</td><td>5.71945</td><td>4.30316</td><td>4.16379</td></tr><tr><th>29</th><td>0</td><td>2387</td><td>4.88942</td><td>1.4</td><td>5.58077</td><td>5.64006</td></tr><tr><th>30</th><td>0</td><td>1954</td><td>missing</td><td>missing</td><td>missing</td><td>missing</td></tr><tr><th>&vellip;</th><td>&vellip;</td><td>&vellip;</td><td>&vellip;</td><td>&vellip;</td><td>&vellip;</td><td>&vellip;</td></tr></tbody></table>"
      ],
      "text/latex": [
       "\\begin{tabular}{r|ccccccc}\n",
       "\t& playoffs & gamelength & avg\\_kda\\_6mon\\_top & avg\\_kda\\_6mon\\_jng & avg\\_kda\\_6mon\\_mid & avg\\_kda\\_6mon\\_bot & \\\\\n",
       "\t\\hline\n",
       "\t& Int64⍰ & Int64⍰ & Float64⍰ & Float64⍰ & Float64⍰ & Float64⍰ & \\\\\n",
       "\t\\hline\n",
       "\t1 & 0 & 1590 &  &  &  &  & $\\dots$ \\\\\n",
       "\t2 & 0 & 1682 & 4.82222 & 4.93889 & 7.07778 &  & $\\dots$ \\\\\n",
       "\t3 & 0 & 2148 &  &  &  &  & $\\dots$ \\\\\n",
       "\t4 & 0 & 2185 &  &  &  &  & $\\dots$ \\\\\n",
       "\t5 & 0 & 2482 &  &  &  &  & $\\dots$ \\\\\n",
       "\t6 & 0 & 2132 & 5.0 & 4.89867 & 8.40333 & 5.94791 & $\\dots$ \\\\\n",
       "\t7 & 0 & 1977 & 4.48829 & 4.98583 & 4.69099 & 5.10068 & $\\dots$ \\\\\n",
       "\t8 & 0 & 1689 &  &  &  &  & $\\dots$ \\\\\n",
       "\t9 & 0 & 1770 & 4.88942 & 1.4 & 5.58077 & 5.64006 & $\\dots$ \\\\\n",
       "\t10 & 0 & 2639 & 2.73844 & 3.87279 & 4.5415 & 4.37483 & $\\dots$ \\\\\n",
       "\t11 & 0 & 3432 &  &  &  &  & $\\dots$ \\\\\n",
       "\t12 & 0 & 1340 &  &  &  &  & $\\dots$ \\\\\n",
       "\t13 & 0 & 2783 & 3.62157 & 4.4719 & 5.18814 & 5.13644 & $\\dots$ \\\\\n",
       "\t14 & 0 & 1752 & 5.25 &  &  &  & $\\dots$ \\\\\n",
       "\t15 & 0 & 2385 & 5.90998 & 7.23201 & 6.40571 & 6.74259 & $\\dots$ \\\\\n",
       "\t16 & 0 & 1802 & 5.25 &  &  &  & $\\dots$ \\\\\n",
       "\t17 & 0 & 2250 & 3.62157 & 4.4719 & 5.18814 & 5.13644 & $\\dots$ \\\\\n",
       "\t18 & 0 & 1882 &  &  &  &  & $\\dots$ \\\\\n",
       "\t19 & 0 & 2664 & 4.29127 & 4.9473 & 4.91602 & 5.26818 & $\\dots$ \\\\\n",
       "\t20 & 0 & 1902 & 3.66374 & 3.91282 & 3.69667 & 5.40278 & $\\dots$ \\\\\n",
       "\t21 & 0 & 1686 & 4.29127 &  & 4.91602 & 5.26818 & $\\dots$ \\\\\n",
       "\t22 & 0 & 2560 & 6.0 & 3.20764 & 5.025 & 6.16667 & $\\dots$ \\\\\n",
       "\t23 & 0 & 1646 &  & 3.63873 & 4.37982 & 4.72838 & $\\dots$ \\\\\n",
       "\t24 & 0 & 1725 & 4.35315 & 5.27841 & 5.82037 & 10.0476 & $\\dots$ \\\\\n",
       "\t25 & 0 & 2012 & 4.88942 & 1.4 & 5.58077 & 5.64006 & $\\dots$ \\\\\n",
       "\t26 & 0 & 1694 &  & 5.35733 & 6.53291 &  & $\\dots$ \\\\\n",
       "\t27 & 0 & 1814 &  &  &  &  & $\\dots$ \\\\\n",
       "\t28 & 0 & 2708 & 3.58822 & 5.71945 & 4.30316 & 4.16379 & $\\dots$ \\\\\n",
       "\t29 & 0 & 2387 & 4.88942 & 1.4 & 5.58077 & 5.64006 & $\\dots$ \\\\\n",
       "\t30 & 0 & 1954 &  &  &  &  & $\\dots$ \\\\\n",
       "\t$\\dots$ & $\\dots$ & $\\dots$ & $\\dots$ & $\\dots$ & $\\dots$ & $\\dots$ &  \\\\\n",
       "\\end{tabular}\n"
      ],
      "text/plain": [
       "20284×242 DataFrame. Omitted printing of 238 columns\n",
       "│ Row   │ playoffs │ gamelength │ avg_kda_6mon_top │ avg_kda_6mon_jng │\n",
       "│       │ \u001b[90mInt64⍰\u001b[39m   │ \u001b[90mInt64⍰\u001b[39m     │ \u001b[90mFloat64⍰\u001b[39m         │ \u001b[90mFloat64⍰\u001b[39m         │\n",
       "├───────┼──────────┼────────────┼──────────────────┼──────────────────┤\n",
       "│ 1     │ 0        │ 1590       │ \u001b[90mmissing\u001b[39m          │ \u001b[90mmissing\u001b[39m          │\n",
       "│ 2     │ 0        │ 1682       │ 4.82222          │ 4.93889          │\n",
       "│ 3     │ 0        │ 2148       │ \u001b[90mmissing\u001b[39m          │ \u001b[90mmissing\u001b[39m          │\n",
       "│ 4     │ 0        │ 2185       │ \u001b[90mmissing\u001b[39m          │ \u001b[90mmissing\u001b[39m          │\n",
       "│ 5     │ 0        │ 2482       │ \u001b[90mmissing\u001b[39m          │ \u001b[90mmissing\u001b[39m          │\n",
       "│ 6     │ 0        │ 2132       │ 5.0              │ 4.89867          │\n",
       "│ 7     │ 0        │ 1977       │ 4.48829          │ 4.98583          │\n",
       "│ 8     │ 0        │ 1689       │ \u001b[90mmissing\u001b[39m          │ \u001b[90mmissing\u001b[39m          │\n",
       "│ 9     │ 0        │ 1770       │ 4.88942          │ 1.4              │\n",
       "│ 10    │ 0        │ 2639       │ 2.73844          │ 3.87279          │\n",
       "⋮\n",
       "│ 20274 │ 0        │ 1619       │ \u001b[90mmissing\u001b[39m          │ \u001b[90mmissing\u001b[39m          │\n",
       "│ 20275 │ 0        │ 2577       │ 5.03618          │ 4.81377          │\n",
       "│ 20276 │ 0        │ 1780       │ \u001b[90mmissing\u001b[39m          │ 8.52778          │\n",
       "│ 20277 │ 0        │ 2014       │ 2.85347          │ \u001b[90mmissing\u001b[39m          │\n",
       "│ 20278 │ 0        │ 1832       │ 3.91113          │ 3.62763          │\n",
       "│ 20279 │ 0        │ 2023       │ 3.91113          │ 2.85             │\n",
       "│ 20280 │ 0        │ 2149       │ \u001b[90mmissing\u001b[39m          │ 5.21815          │\n",
       "│ 20281 │ 0        │ 2062       │ \u001b[90mmissing\u001b[39m          │ 5.21815          │\n",
       "│ 20282 │ 0        │ 2837       │ \u001b[90mmissing\u001b[39m          │ 5.21815          │\n",
       "│ 20283 │ 0        │ 1883       │ \u001b[90mmissing\u001b[39m          │ \u001b[90mmissing\u001b[39m          │\n",
       "│ 20284 │ 0        │ 1513       │ \u001b[90mmissing\u001b[39m          │ \u001b[90mmissing\u001b[39m          │"
      ]
     },
     "execution_count": 164,
     "metadata": {},
     "output_type": "execute_result"
    }
   ],
   "source": [
    "train_2y1y_2row_noenemy = train_2y1y_2row[:,3:244]"
   ]
  },
  {
   "cell_type": "code",
   "execution_count": 167,
   "metadata": {},
   "outputs": [
    {
     "name": "stderr",
     "output_type": "stream",
     "text": [
      "\u001b[32mTrying different warm starts...      0%|                |  ETA: N/A\u001b[39m\n",
      "\u001b[A4m  Warmstart:  rand\u001b[39m\n",
      "\u001b[32mTrying different warm starts...     50%|████████        |  ETA: 2:10:57\u001b[39m\n",
      "\u001b[A4m  Warmstart:  rand\u001b[39m\n",
      "\u001b[32mTrying different warm starts...    100%|████████████████| Time: 4:14:39\u001b[39m\n",
      "\u001b[A4m  Warmstart:  rand\u001b[39m"
     ]
    },
    {
     "name": "stdout",
     "output_type": "stream",
     "text": [
      "\n",
      "\n"
     ]
    },
    {
     "data": {
      "text/html": [
       "<table class=\"data-frame\"><thead><tr><th></th><th>playoffs</th><th>gamelength</th><th>avg_kda_6mon_top</th><th>avg_kda_6mon_jng</th><th>avg_kda_6mon_mid</th><th>avg_kda_6mon_bot</th></tr><tr><th></th><th>Float64⍰</th><th>Float64⍰</th><th>Float64⍰</th><th>Float64⍰</th><th>Float64⍰</th><th>Float64⍰</th></tr></thead><tbody><p>20,284 rows × 242 columns (omitted printing of 236 columns)</p><tr><th>1</th><td>0.0</td><td>1590.0</td><td>4.20161</td><td>4.00574</td><td>5.44411</td><td>5.65361</td></tr><tr><th>2</th><td>0.0</td><td>1682.0</td><td>4.82222</td><td>4.93889</td><td>7.07778</td><td>6.40584</td></tr><tr><th>3</th><td>0.0</td><td>2148.0</td><td>4.14359</td><td>4.38106</td><td>5.26331</td><td>5.60427</td></tr><tr><th>4</th><td>0.0</td><td>2185.0</td><td>3.98756</td><td>4.36608</td><td>4.94367</td><td>5.29543</td></tr><tr><th>5</th><td>0.0</td><td>2482.0</td><td>3.86861</td><td>4.18974</td><td>5.0131</td><td>5.08281</td></tr><tr><th>6</th><td>0.0</td><td>2132.0</td><td>5.0</td><td>4.89867</td><td>8.40333</td><td>5.94791</td></tr><tr><th>7</th><td>0.0</td><td>1977.0</td><td>4.48829</td><td>4.98583</td><td>4.69099</td><td>5.10068</td></tr><tr><th>8</th><td>0.0</td><td>1689.0</td><td>4.06913</td><td>4.50804</td><td>5.34272</td><td>5.26004</td></tr><tr><th>9</th><td>0.0</td><td>1770.0</td><td>4.88942</td><td>1.4</td><td>5.58077</td><td>5.64006</td></tr><tr><th>10</th><td>0.0</td><td>2639.0</td><td>2.73844</td><td>3.87279</td><td>4.5415</td><td>4.37483</td></tr><tr><th>11</th><td>0.0</td><td>3432.0</td><td>4.07619</td><td>4.63035</td><td>5.02881</td><td>5.59414</td></tr><tr><th>12</th><td>0.0</td><td>1340.0</td><td>4.15108</td><td>4.86961</td><td>5.25622</td><td>5.81084</td></tr><tr><th>13</th><td>0.0</td><td>2783.0</td><td>3.62157</td><td>4.4719</td><td>5.18814</td><td>5.13644</td></tr><tr><th>14</th><td>0.0</td><td>1752.0</td><td>5.25</td><td>5.16024</td><td>5.82467</td><td>6.08572</td></tr><tr><th>15</th><td>0.0</td><td>2385.0</td><td>5.90998</td><td>7.23201</td><td>6.40571</td><td>6.74259</td></tr><tr><th>16</th><td>0.0</td><td>1802.0</td><td>5.25</td><td>5.11338</td><td>5.78153</td><td>6.02619</td></tr><tr><th>17</th><td>0.0</td><td>2250.0</td><td>3.62157</td><td>4.4719</td><td>5.18814</td><td>5.13644</td></tr><tr><th>18</th><td>0.0</td><td>1882.0</td><td>4.72977</td><td>5.46979</td><td>5.94132</td><td>6.51596</td></tr><tr><th>19</th><td>0.0</td><td>2664.0</td><td>4.29127</td><td>4.9473</td><td>4.91602</td><td>5.26818</td></tr><tr><th>20</th><td>0.0</td><td>1902.0</td><td>3.66374</td><td>3.91282</td><td>3.69667</td><td>5.40278</td></tr><tr><th>21</th><td>0.0</td><td>1686.0</td><td>4.29127</td><td>4.9473</td><td>4.91602</td><td>5.26818</td></tr><tr><th>22</th><td>0.0</td><td>2560.0</td><td>6.0</td><td>3.20764</td><td>5.025</td><td>6.16667</td></tr><tr><th>23</th><td>0.0</td><td>1646.0</td><td>4.12591</td><td>3.63873</td><td>4.37982</td><td>4.72838</td></tr><tr><th>24</th><td>0.0</td><td>1725.0</td><td>4.35315</td><td>5.27841</td><td>5.82037</td><td>10.0476</td></tr><tr><th>25</th><td>0.0</td><td>2012.0</td><td>4.88942</td><td>1.4</td><td>5.58077</td><td>5.64006</td></tr><tr><th>26</th><td>0.0</td><td>1694.0</td><td>4.33081</td><td>5.35733</td><td>6.53291</td><td>5.77183</td></tr><tr><th>27</th><td>0.0</td><td>1814.0</td><td>4.24525</td><td>4.91854</td><td>5.42601</td><td>5.49819</td></tr><tr><th>28</th><td>0.0</td><td>2708.0</td><td>3.58822</td><td>5.71945</td><td>4.30316</td><td>4.16379</td></tr><tr><th>29</th><td>0.0</td><td>2387.0</td><td>4.88942</td><td>1.4</td><td>5.58077</td><td>5.64006</td></tr><tr><th>30</th><td>0.0</td><td>1954.0</td><td>4.11934</td><td>4.76974</td><td>5.37191</td><td>5.60135</td></tr><tr><th>&vellip;</th><td>&vellip;</td><td>&vellip;</td><td>&vellip;</td><td>&vellip;</td><td>&vellip;</td><td>&vellip;</td></tr></tbody></table>"
      ],
      "text/latex": [
       "\\begin{tabular}{r|ccccccc}\n",
       "\t& playoffs & gamelength & avg\\_kda\\_6mon\\_top & avg\\_kda\\_6mon\\_jng & avg\\_kda\\_6mon\\_mid & avg\\_kda\\_6mon\\_bot & \\\\\n",
       "\t\\hline\n",
       "\t& Float64⍰ & Float64⍰ & Float64⍰ & Float64⍰ & Float64⍰ & Float64⍰ & \\\\\n",
       "\t\\hline\n",
       "\t1 & 0.0 & 1590.0 & 4.20161 & 4.00574 & 5.44411 & 5.65361 & $\\dots$ \\\\\n",
       "\t2 & 0.0 & 1682.0 & 4.82222 & 4.93889 & 7.07778 & 6.40584 & $\\dots$ \\\\\n",
       "\t3 & 0.0 & 2148.0 & 4.14359 & 4.38106 & 5.26331 & 5.60427 & $\\dots$ \\\\\n",
       "\t4 & 0.0 & 2185.0 & 3.98756 & 4.36608 & 4.94367 & 5.29543 & $\\dots$ \\\\\n",
       "\t5 & 0.0 & 2482.0 & 3.86861 & 4.18974 & 5.0131 & 5.08281 & $\\dots$ \\\\\n",
       "\t6 & 0.0 & 2132.0 & 5.0 & 4.89867 & 8.40333 & 5.94791 & $\\dots$ \\\\\n",
       "\t7 & 0.0 & 1977.0 & 4.48829 & 4.98583 & 4.69099 & 5.10068 & $\\dots$ \\\\\n",
       "\t8 & 0.0 & 1689.0 & 4.06913 & 4.50804 & 5.34272 & 5.26004 & $\\dots$ \\\\\n",
       "\t9 & 0.0 & 1770.0 & 4.88942 & 1.4 & 5.58077 & 5.64006 & $\\dots$ \\\\\n",
       "\t10 & 0.0 & 2639.0 & 2.73844 & 3.87279 & 4.5415 & 4.37483 & $\\dots$ \\\\\n",
       "\t11 & 0.0 & 3432.0 & 4.07619 & 4.63035 & 5.02881 & 5.59414 & $\\dots$ \\\\\n",
       "\t12 & 0.0 & 1340.0 & 4.15108 & 4.86961 & 5.25622 & 5.81084 & $\\dots$ \\\\\n",
       "\t13 & 0.0 & 2783.0 & 3.62157 & 4.4719 & 5.18814 & 5.13644 & $\\dots$ \\\\\n",
       "\t14 & 0.0 & 1752.0 & 5.25 & 5.16024 & 5.82467 & 6.08572 & $\\dots$ \\\\\n",
       "\t15 & 0.0 & 2385.0 & 5.90998 & 7.23201 & 6.40571 & 6.74259 & $\\dots$ \\\\\n",
       "\t16 & 0.0 & 1802.0 & 5.25 & 5.11338 & 5.78153 & 6.02619 & $\\dots$ \\\\\n",
       "\t17 & 0.0 & 2250.0 & 3.62157 & 4.4719 & 5.18814 & 5.13644 & $\\dots$ \\\\\n",
       "\t18 & 0.0 & 1882.0 & 4.72977 & 5.46979 & 5.94132 & 6.51596 & $\\dots$ \\\\\n",
       "\t19 & 0.0 & 2664.0 & 4.29127 & 4.9473 & 4.91602 & 5.26818 & $\\dots$ \\\\\n",
       "\t20 & 0.0 & 1902.0 & 3.66374 & 3.91282 & 3.69667 & 5.40278 & $\\dots$ \\\\\n",
       "\t21 & 0.0 & 1686.0 & 4.29127 & 4.9473 & 4.91602 & 5.26818 & $\\dots$ \\\\\n",
       "\t22 & 0.0 & 2560.0 & 6.0 & 3.20764 & 5.025 & 6.16667 & $\\dots$ \\\\\n",
       "\t23 & 0.0 & 1646.0 & 4.12591 & 3.63873 & 4.37982 & 4.72838 & $\\dots$ \\\\\n",
       "\t24 & 0.0 & 1725.0 & 4.35315 & 5.27841 & 5.82037 & 10.0476 & $\\dots$ \\\\\n",
       "\t25 & 0.0 & 2012.0 & 4.88942 & 1.4 & 5.58077 & 5.64006 & $\\dots$ \\\\\n",
       "\t26 & 0.0 & 1694.0 & 4.33081 & 5.35733 & 6.53291 & 5.77183 & $\\dots$ \\\\\n",
       "\t27 & 0.0 & 1814.0 & 4.24525 & 4.91854 & 5.42601 & 5.49819 & $\\dots$ \\\\\n",
       "\t28 & 0.0 & 2708.0 & 3.58822 & 5.71945 & 4.30316 & 4.16379 & $\\dots$ \\\\\n",
       "\t29 & 0.0 & 2387.0 & 4.88942 & 1.4 & 5.58077 & 5.64006 & $\\dots$ \\\\\n",
       "\t30 & 0.0 & 1954.0 & 4.11934 & 4.76974 & 5.37191 & 5.60135 & $\\dots$ \\\\\n",
       "\t$\\dots$ & $\\dots$ & $\\dots$ & $\\dots$ & $\\dots$ & $\\dots$ & $\\dots$ &  \\\\\n",
       "\\end{tabular}\n"
      ],
      "text/plain": [
       "20284×242 DataFrame. Omitted printing of 238 columns\n",
       "│ Row   │ playoffs │ gamelength │ avg_kda_6mon_top │ avg_kda_6mon_jng │\n",
       "│       │ \u001b[90mFloat64⍰\u001b[39m │ \u001b[90mFloat64⍰\u001b[39m   │ \u001b[90mFloat64⍰\u001b[39m         │ \u001b[90mFloat64⍰\u001b[39m         │\n",
       "├───────┼──────────┼────────────┼──────────────────┼──────────────────┤\n",
       "│ 1     │ 0.0      │ 1590.0     │ 4.20161          │ 4.00574          │\n",
       "│ 2     │ 0.0      │ 1682.0     │ 4.82222          │ 4.93889          │\n",
       "│ 3     │ 0.0      │ 2148.0     │ 4.14359          │ 4.38106          │\n",
       "│ 4     │ 0.0      │ 2185.0     │ 3.98756          │ 4.36608          │\n",
       "│ 5     │ 0.0      │ 2482.0     │ 3.86861          │ 4.18974          │\n",
       "│ 6     │ 0.0      │ 2132.0     │ 5.0              │ 4.89867          │\n",
       "│ 7     │ 0.0      │ 1977.0     │ 4.48829          │ 4.98583          │\n",
       "│ 8     │ 0.0      │ 1689.0     │ 4.06913          │ 4.50804          │\n",
       "│ 9     │ 0.0      │ 1770.0     │ 4.88942          │ 1.4              │\n",
       "│ 10    │ 0.0      │ 2639.0     │ 2.73844          │ 3.87279          │\n",
       "⋮\n",
       "│ 20274 │ 0.0      │ 1619.0     │ 3.98649          │ 4.61228          │\n",
       "│ 20275 │ 0.0      │ 2577.0     │ 5.03618          │ 4.81377          │\n",
       "│ 20276 │ 0.0      │ 1780.0     │ 4.91534          │ 8.52778          │\n",
       "│ 20277 │ 0.0      │ 2014.0     │ 2.85347          │ 4.87176          │\n",
       "│ 20278 │ 0.0      │ 1832.0     │ 3.91113          │ 3.62763          │\n",
       "│ 20279 │ 0.0      │ 2023.0     │ 3.91113          │ 2.85             │\n",
       "│ 20280 │ 0.0      │ 2149.0     │ 5.11741          │ 5.21815          │\n",
       "│ 20281 │ 0.0      │ 2062.0     │ 4.91282          │ 5.21815          │\n",
       "│ 20282 │ 0.0      │ 2837.0     │ 4.10048          │ 5.21815          │\n",
       "│ 20283 │ 0.0      │ 1883.0     │ 4.16405          │ 4.71519          │\n",
       "│ 20284 │ 0.0      │ 1513.0     │ 4.51624          │ 5.40569          │"
      ]
     },
     "execution_count": 167,
     "metadata": {},
     "output_type": "execute_result"
    }
   ],
   "source": [
    "lol_imputed_knn = IAI.impute(train_2y1y_2row_noenemy,:opt_knn,max_iter=50,warmstart_use_knn=false,warmstart_num_random_starts=2)"
   ]
  },
  {
   "cell_type": "code",
   "execution_count": 168,
   "metadata": {},
   "outputs": [
    {
     "data": {
      "text/plain": [
       "RObject{NilSxp}\n",
       "NULL\n"
      ]
     },
     "execution_count": 168,
     "metadata": {},
     "output_type": "execute_result"
    }
   ],
   "source": [
    "using CSV, DataFrames, RCall\n",
    "\n",
    "# CSV.write(\"/Users/pan/Desktop\", DataFrame(a));\n",
    "\n",
    "\n",
    "@rput lol_imputed_knn\n",
    "\n",
    "R\"\"\"\n",
    "write.csv(lol_imputed_knn,'../data/train_2y1y_2row_nochamp_noenemy_nocat_imputed.csv', row.names = FALSE)\n",
    "\"\"\""
   ]
  },
  {
   "cell_type": "code",
   "execution_count": null,
   "metadata": {},
   "outputs": [],
   "source": []
  }
 ],
 "metadata": {
  "kernelspec": {
   "display_name": "Julia 1.3.1",
   "language": "julia",
   "name": "julia-1.3"
  },
  "language_info": {
   "file_extension": ".jl",
   "mimetype": "application/julia",
   "name": "julia",
   "version": "1.3.1"
  }
 },
 "nbformat": 4,
 "nbformat_minor": 4
}
