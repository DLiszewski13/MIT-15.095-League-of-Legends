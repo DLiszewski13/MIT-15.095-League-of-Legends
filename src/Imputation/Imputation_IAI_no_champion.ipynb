{
 "cells": [
  {
   "cell_type": "code",
   "execution_count": 1,
   "metadata": {},
   "outputs": [],
   "source": [
    "using CSV, DataFrames, Statistics, Random, RCall"
   ]
  },
  {
   "cell_type": "code",
   "execution_count": 2,
   "metadata": {
    "scrolled": true
   },
   "outputs": [],
   "source": [
    "# Reading in data\n",
    "train_2y1y_2row = DataFrame(CSV.File(\"../data/train_2y1y_2row_nochamp_2019.csv\", header=true, missingstring=\"NA\", categorical=true))\n",
    "\n",
    "# Making variables categorical variables, train set\n",
    "# categorical!(train_2y1y_2row, :playoffs)\n",
    "\n",
    "# Same categorical for testing set\n",
    "allowmissing!(train_2y1y_2row)\n",
    ";"
   ]
  },
  {
   "cell_type": "code",
   "execution_count": 3,
   "metadata": {},
   "outputs": [
    {
     "data": {
      "text/html": [
       "<table class=\"data-frame\"><thead><tr><th></th><th>playoffs</th><th>gamelength</th><th>avg_kda_6mon_top</th><th>avg_kda_6mon_jng</th><th>avg_kda_6mon_mid</th><th>avg_kda_6mon_bot</th></tr><tr><th></th><th>Int64⍰</th><th>Int64⍰</th><th>Float64⍰</th><th>Float64⍰</th><th>Float64⍰</th><th>Float64⍰</th></tr></thead><tbody><p>10,896 rows × 242 columns (omitted printing of 236 columns)</p><tr><th>1</th><td>0</td><td>1770</td><td>3.79973</td><td>5.78351</td><td>6.83712</td><td>6.10606</td></tr><tr><th>2</th><td>0</td><td>2362</td><td>4.96364</td><td>3.35417</td><td>6.19848</td><td>missing</td></tr><tr><th>3</th><td>0</td><td>2128</td><td>missing</td><td>missing</td><td>3.10455</td><td>4.46372</td></tr><tr><th>4</th><td>0</td><td>1572</td><td>3.95536</td><td>4.24709</td><td>5.04524</td><td>5.35648</td></tr><tr><th>5</th><td>0</td><td>2267</td><td>3.17733</td><td>missing</td><td>4.15667</td><td>missing</td></tr><tr><th>6</th><td>0</td><td>2191</td><td>4.96364</td><td>3.35417</td><td>6.19848</td><td>missing</td></tr><tr><th>7</th><td>0</td><td>1924</td><td>4.13529</td><td>5.07353</td><td>6.70686</td><td>5.06373</td></tr><tr><th>8</th><td>0</td><td>1661</td><td>3.79973</td><td>5.78351</td><td>6.83712</td><td>6.10606</td></tr><tr><th>9</th><td>0</td><td>2121</td><td>5.33081</td><td>5.3662</td><td>7.35909</td><td>5.88231</td></tr><tr><th>10</th><td>0</td><td>1895</td><td>missing</td><td>5.44592</td><td>missing</td><td>7.10246</td></tr><tr><th>11</th><td>0</td><td>1875</td><td>4.40992</td><td>missing</td><td>5.22897</td><td>4.70363</td></tr><tr><th>12</th><td>0</td><td>1180</td><td>missing</td><td>missing</td><td>missing</td><td>missing</td></tr><tr><th>13</th><td>0</td><td>1860</td><td>2.7737</td><td>missing</td><td>5.29015</td><td>3.59147</td></tr><tr><th>14</th><td>0</td><td>2071</td><td>2.69153</td><td>3.53205</td><td>4.78179</td><td>5.25806</td></tr><tr><th>15</th><td>0</td><td>1632</td><td>3.80612</td><td>5.00521</td><td>4.0697</td><td>3.76042</td></tr><tr><th>16</th><td>0</td><td>1986</td><td>3.60524</td><td>6.74781</td><td>3.74811</td><td>3.28704</td></tr><tr><th>17</th><td>0</td><td>2100</td><td>missing</td><td>missing</td><td>missing</td><td>missing</td></tr><tr><th>18</th><td>0</td><td>2255</td><td>6.56972</td><td>1.92778</td><td>7.54553</td><td>7.2561</td></tr><tr><th>19</th><td>0</td><td>1663</td><td>missing</td><td>missing</td><td>missing</td><td>missing</td></tr><tr><th>20</th><td>0</td><td>1719</td><td>5.33081</td><td>5.3662</td><td>7.35909</td><td>5.88231</td></tr><tr><th>21</th><td>0</td><td>1799</td><td>3.51667</td><td>4.66333</td><td>4.53145</td><td>5.20586</td></tr><tr><th>22</th><td>0</td><td>1926</td><td>missing</td><td>missing</td><td>4.42863</td><td>4.15476</td></tr><tr><th>23</th><td>0</td><td>2190</td><td>4.8623</td><td>5.22115</td><td>5.54167</td><td>12.0</td></tr><tr><th>24</th><td>0</td><td>2224</td><td>missing</td><td>missing</td><td>3.27796</td><td>3.01905</td></tr><tr><th>25</th><td>0</td><td>2062</td><td>3.05265</td><td>1.09286</td><td>5.00106</td><td>5.61852</td></tr><tr><th>26</th><td>0</td><td>2382</td><td>4.08142</td><td>6.31296</td><td>5.96944</td><td>missing</td></tr><tr><th>27</th><td>0</td><td>2073</td><td>4.8623</td><td>5.22115</td><td>5.54167</td><td>12.0</td></tr><tr><th>28</th><td>0</td><td>2594</td><td>3.81389</td><td>missing</td><td>5.68744</td><td>6.33144</td></tr><tr><th>29</th><td>0</td><td>2256</td><td>4.60096</td><td>4.4196</td><td>5.75962</td><td>6.28014</td></tr><tr><th>30</th><td>0</td><td>1491</td><td>4.44444</td><td>2.41667</td><td>1.5</td><td>4.99973</td></tr><tr><th>&vellip;</th><td>&vellip;</td><td>&vellip;</td><td>&vellip;</td><td>&vellip;</td><td>&vellip;</td><td>&vellip;</td></tr></tbody></table>"
      ],
      "text/latex": [
       "\\begin{tabular}{r|ccccccc}\n",
       "\t& playoffs & gamelength & avg\\_kda\\_6mon\\_top & avg\\_kda\\_6mon\\_jng & avg\\_kda\\_6mon\\_mid & avg\\_kda\\_6mon\\_bot & \\\\\n",
       "\t\\hline\n",
       "\t& Int64⍰ & Int64⍰ & Float64⍰ & Float64⍰ & Float64⍰ & Float64⍰ & \\\\\n",
       "\t\\hline\n",
       "\t1 & 0 & 1770 & 3.79973 & 5.78351 & 6.83712 & 6.10606 & $\\dots$ \\\\\n",
       "\t2 & 0 & 2362 & 4.96364 & 3.35417 & 6.19848 &  & $\\dots$ \\\\\n",
       "\t3 & 0 & 2128 &  &  & 3.10455 & 4.46372 & $\\dots$ \\\\\n",
       "\t4 & 0 & 1572 & 3.95536 & 4.24709 & 5.04524 & 5.35648 & $\\dots$ \\\\\n",
       "\t5 & 0 & 2267 & 3.17733 &  & 4.15667 &  & $\\dots$ \\\\\n",
       "\t6 & 0 & 2191 & 4.96364 & 3.35417 & 6.19848 &  & $\\dots$ \\\\\n",
       "\t7 & 0 & 1924 & 4.13529 & 5.07353 & 6.70686 & 5.06373 & $\\dots$ \\\\\n",
       "\t8 & 0 & 1661 & 3.79973 & 5.78351 & 6.83712 & 6.10606 & $\\dots$ \\\\\n",
       "\t9 & 0 & 2121 & 5.33081 & 5.3662 & 7.35909 & 5.88231 & $\\dots$ \\\\\n",
       "\t10 & 0 & 1895 &  & 5.44592 &  & 7.10246 & $\\dots$ \\\\\n",
       "\t11 & 0 & 1875 & 4.40992 &  & 5.22897 & 4.70363 & $\\dots$ \\\\\n",
       "\t12 & 0 & 1180 &  &  &  &  & $\\dots$ \\\\\n",
       "\t13 & 0 & 1860 & 2.7737 &  & 5.29015 & 3.59147 & $\\dots$ \\\\\n",
       "\t14 & 0 & 2071 & 2.69153 & 3.53205 & 4.78179 & 5.25806 & $\\dots$ \\\\\n",
       "\t15 & 0 & 1632 & 3.80612 & 5.00521 & 4.0697 & 3.76042 & $\\dots$ \\\\\n",
       "\t16 & 0 & 1986 & 3.60524 & 6.74781 & 3.74811 & 3.28704 & $\\dots$ \\\\\n",
       "\t17 & 0 & 2100 &  &  &  &  & $\\dots$ \\\\\n",
       "\t18 & 0 & 2255 & 6.56972 & 1.92778 & 7.54553 & 7.2561 & $\\dots$ \\\\\n",
       "\t19 & 0 & 1663 &  &  &  &  & $\\dots$ \\\\\n",
       "\t20 & 0 & 1719 & 5.33081 & 5.3662 & 7.35909 & 5.88231 & $\\dots$ \\\\\n",
       "\t21 & 0 & 1799 & 3.51667 & 4.66333 & 4.53145 & 5.20586 & $\\dots$ \\\\\n",
       "\t22 & 0 & 1926 &  &  & 4.42863 & 4.15476 & $\\dots$ \\\\\n",
       "\t23 & 0 & 2190 & 4.8623 & 5.22115 & 5.54167 & 12.0 & $\\dots$ \\\\\n",
       "\t24 & 0 & 2224 &  &  & 3.27796 & 3.01905 & $\\dots$ \\\\\n",
       "\t25 & 0 & 2062 & 3.05265 & 1.09286 & 5.00106 & 5.61852 & $\\dots$ \\\\\n",
       "\t26 & 0 & 2382 & 4.08142 & 6.31296 & 5.96944 &  & $\\dots$ \\\\\n",
       "\t27 & 0 & 2073 & 4.8623 & 5.22115 & 5.54167 & 12.0 & $\\dots$ \\\\\n",
       "\t28 & 0 & 2594 & 3.81389 &  & 5.68744 & 6.33144 & $\\dots$ \\\\\n",
       "\t29 & 0 & 2256 & 4.60096 & 4.4196 & 5.75962 & 6.28014 & $\\dots$ \\\\\n",
       "\t30 & 0 & 1491 & 4.44444 & 2.41667 & 1.5 & 4.99973 & $\\dots$ \\\\\n",
       "\t$\\dots$ & $\\dots$ & $\\dots$ & $\\dots$ & $\\dots$ & $\\dots$ & $\\dots$ &  \\\\\n",
       "\\end{tabular}\n"
      ],
      "text/plain": [
       "10896×242 DataFrame. Omitted printing of 238 columns\n",
       "│ Row   │ playoffs │ gamelength │ avg_kda_6mon_top │ avg_kda_6mon_jng │\n",
       "│       │ \u001b[90mInt64⍰\u001b[39m   │ \u001b[90mInt64⍰\u001b[39m     │ \u001b[90mFloat64⍰\u001b[39m         │ \u001b[90mFloat64⍰\u001b[39m         │\n",
       "├───────┼──────────┼────────────┼──────────────────┼──────────────────┤\n",
       "│ 1     │ 0        │ 1770       │ 3.79973          │ 5.78351          │\n",
       "│ 2     │ 0        │ 2362       │ 4.96364          │ 3.35417          │\n",
       "│ 3     │ 0        │ 2128       │ \u001b[90mmissing\u001b[39m          │ \u001b[90mmissing\u001b[39m          │\n",
       "│ 4     │ 0        │ 1572       │ 3.95536          │ 4.24709          │\n",
       "│ 5     │ 0        │ 2267       │ 3.17733          │ \u001b[90mmissing\u001b[39m          │\n",
       "│ 6     │ 0        │ 2191       │ 4.96364          │ 3.35417          │\n",
       "│ 7     │ 0        │ 1924       │ 4.13529          │ 5.07353          │\n",
       "│ 8     │ 0        │ 1661       │ 3.79973          │ 5.78351          │\n",
       "│ 9     │ 0        │ 2121       │ 5.33081          │ 5.3662           │\n",
       "│ 10    │ 0        │ 1895       │ \u001b[90mmissing\u001b[39m          │ 5.44592          │\n",
       "⋮\n",
       "│ 10886 │ 0        │ 1619       │ \u001b[90mmissing\u001b[39m          │ \u001b[90mmissing\u001b[39m          │\n",
       "│ 10887 │ 0        │ 2577       │ 5.03618          │ 4.81377          │\n",
       "│ 10888 │ 0        │ 1780       │ \u001b[90mmissing\u001b[39m          │ 8.52778          │\n",
       "│ 10889 │ 0        │ 2014       │ 2.85347          │ \u001b[90mmissing\u001b[39m          │\n",
       "│ 10890 │ 0        │ 1832       │ 3.91113          │ 3.62763          │\n",
       "│ 10891 │ 0        │ 2023       │ 3.91113          │ 2.85             │\n",
       "│ 10892 │ 0        │ 2149       │ \u001b[90mmissing\u001b[39m          │ 5.21815          │\n",
       "│ 10893 │ 0        │ 2062       │ \u001b[90mmissing\u001b[39m          │ 5.21815          │\n",
       "│ 10894 │ 0        │ 2837       │ \u001b[90mmissing\u001b[39m          │ 5.21815          │\n",
       "│ 10895 │ 0        │ 1883       │ \u001b[90mmissing\u001b[39m          │ \u001b[90mmissing\u001b[39m          │\n",
       "│ 10896 │ 0        │ 1513       │ \u001b[90mmissing\u001b[39m          │ \u001b[90mmissing\u001b[39m          │"
      ]
     },
     "execution_count": 3,
     "metadata": {},
     "output_type": "execute_result"
    }
   ],
   "source": [
    "train_2y1y_2row_noenemy = train_2y1y_2row[:,3:244]"
   ]
  },
  {
   "cell_type": "code",
   "execution_count": 7,
   "metadata": {},
   "outputs": [
    {
     "name": "stderr",
     "output_type": "stream",
     "text": [
      "┌ Warning: Imputed value for X[265, 95] less than machine epsilon, has been rounded to zero.\n",
      "└ @ OptImpute /Users/iai/builds/InterpretableAI/SysImgBuilder/.julia/packages/OptImpute/vg9z8/src/learner.jl:72\n"
     ]
    },
    {
     "data": {
      "text/html": [
       "<table class=\"data-frame\"><thead><tr><th></th><th>playoffs</th><th>gamelength</th><th>avg_kda_6mon_top</th><th>avg_kda_6mon_jng</th><th>avg_kda_6mon_mid</th><th>avg_kda_6mon_bot</th></tr><tr><th></th><th>Float64⍰</th><th>Float64⍰</th><th>Float64⍰</th><th>Float64⍰</th><th>Float64⍰</th><th>Float64⍰</th></tr></thead><tbody><p>10,896 rows × 242 columns (omitted printing of 236 columns)</p><tr><th>1</th><td>0.0</td><td>1770.0</td><td>3.79973</td><td>5.78351</td><td>6.83712</td><td>6.10606</td></tr><tr><th>2</th><td>0.0</td><td>2362.0</td><td>4.96364</td><td>3.35417</td><td>6.19848</td><td>6.80604</td></tr><tr><th>3</th><td>0.0</td><td>2128.0</td><td>4.10017</td><td>4.62103</td><td>3.10455</td><td>4.46372</td></tr><tr><th>4</th><td>0.0</td><td>1572.0</td><td>3.95536</td><td>4.24709</td><td>5.04524</td><td>5.35648</td></tr><tr><th>5</th><td>0.0</td><td>2267.0</td><td>3.17733</td><td>4.87871</td><td>4.15667</td><td>5.90001</td></tr><tr><th>6</th><td>0.0</td><td>2191.0</td><td>4.96364</td><td>3.35417</td><td>6.19848</td><td>6.82632</td></tr><tr><th>7</th><td>0.0</td><td>1924.0</td><td>4.13529</td><td>5.07353</td><td>6.70686</td><td>5.06373</td></tr><tr><th>8</th><td>0.0</td><td>1661.0</td><td>3.79973</td><td>5.78351</td><td>6.83712</td><td>6.10606</td></tr><tr><th>9</th><td>0.0</td><td>2121.0</td><td>5.33081</td><td>5.3662</td><td>7.35909</td><td>5.88231</td></tr><tr><th>10</th><td>0.0</td><td>1895.0</td><td>4.36713</td><td>5.44592</td><td>5.52282</td><td>7.10246</td></tr><tr><th>11</th><td>0.0</td><td>1875.0</td><td>4.40992</td><td>5.85597</td><td>5.22897</td><td>4.70363</td></tr><tr><th>12</th><td>0.0</td><td>1180.0</td><td>4.21751</td><td>4.96627</td><td>5.62938</td><td>5.78321</td></tr><tr><th>13</th><td>0.0</td><td>1860.0</td><td>2.7737</td><td>5.50528</td><td>5.29015</td><td>3.59147</td></tr><tr><th>14</th><td>0.0</td><td>2071.0</td><td>2.69153</td><td>3.53205</td><td>4.78179</td><td>5.25806</td></tr><tr><th>15</th><td>0.0</td><td>1632.0</td><td>3.80612</td><td>5.00521</td><td>4.0697</td><td>3.76042</td></tr><tr><th>16</th><td>0.0</td><td>1986.0</td><td>3.60524</td><td>6.74781</td><td>3.74811</td><td>3.28704</td></tr><tr><th>17</th><td>0.0</td><td>2100.0</td><td>4.08459</td><td>4.73535</td><td>5.19717</td><td>5.45071</td></tr><tr><th>18</th><td>0.0</td><td>2255.0</td><td>6.56972</td><td>1.92778</td><td>7.54553</td><td>7.2561</td></tr><tr><th>19</th><td>0.0</td><td>1663.0</td><td>4.11619</td><td>4.61317</td><td>4.86026</td><td>5.28093</td></tr><tr><th>20</th><td>0.0</td><td>1719.0</td><td>5.33081</td><td>5.3662</td><td>7.35909</td><td>5.88231</td></tr><tr><th>21</th><td>0.0</td><td>1799.0</td><td>3.51667</td><td>4.66333</td><td>4.53145</td><td>5.20586</td></tr><tr><th>22</th><td>0.0</td><td>1926.0</td><td>3.64505</td><td>4.28455</td><td>4.42863</td><td>4.15476</td></tr><tr><th>23</th><td>0.0</td><td>2190.0</td><td>4.8623</td><td>5.22115</td><td>5.54167</td><td>12.0</td></tr><tr><th>24</th><td>0.0</td><td>2224.0</td><td>3.74595</td><td>4.34785</td><td>3.27796</td><td>3.01905</td></tr><tr><th>25</th><td>0.0</td><td>2062.0</td><td>3.05265</td><td>1.09286</td><td>5.00106</td><td>5.61852</td></tr><tr><th>26</th><td>0.0</td><td>2382.0</td><td>4.08142</td><td>6.31296</td><td>5.96944</td><td>5.61236</td></tr><tr><th>27</th><td>0.0</td><td>2073.0</td><td>4.8623</td><td>5.22115</td><td>5.54167</td><td>12.0</td></tr><tr><th>28</th><td>0.0</td><td>2594.0</td><td>3.81389</td><td>4.57799</td><td>5.68744</td><td>6.33144</td></tr><tr><th>29</th><td>0.0</td><td>2256.0</td><td>4.60096</td><td>4.4196</td><td>5.75962</td><td>6.28014</td></tr><tr><th>30</th><td>0.0</td><td>1491.0</td><td>4.44444</td><td>2.41667</td><td>1.5</td><td>4.99973</td></tr><tr><th>&vellip;</th><td>&vellip;</td><td>&vellip;</td><td>&vellip;</td><td>&vellip;</td><td>&vellip;</td><td>&vellip;</td></tr></tbody></table>"
      ],
      "text/latex": [
       "\\begin{tabular}{r|ccccccc}\n",
       "\t& playoffs & gamelength & avg\\_kda\\_6mon\\_top & avg\\_kda\\_6mon\\_jng & avg\\_kda\\_6mon\\_mid & avg\\_kda\\_6mon\\_bot & \\\\\n",
       "\t\\hline\n",
       "\t& Float64⍰ & Float64⍰ & Float64⍰ & Float64⍰ & Float64⍰ & Float64⍰ & \\\\\n",
       "\t\\hline\n",
       "\t1 & 0.0 & 1770.0 & 3.79973 & 5.78351 & 6.83712 & 6.10606 & $\\dots$ \\\\\n",
       "\t2 & 0.0 & 2362.0 & 4.96364 & 3.35417 & 6.19848 & 6.80604 & $\\dots$ \\\\\n",
       "\t3 & 0.0 & 2128.0 & 4.10017 & 4.62103 & 3.10455 & 4.46372 & $\\dots$ \\\\\n",
       "\t4 & 0.0 & 1572.0 & 3.95536 & 4.24709 & 5.04524 & 5.35648 & $\\dots$ \\\\\n",
       "\t5 & 0.0 & 2267.0 & 3.17733 & 4.87871 & 4.15667 & 5.90001 & $\\dots$ \\\\\n",
       "\t6 & 0.0 & 2191.0 & 4.96364 & 3.35417 & 6.19848 & 6.82632 & $\\dots$ \\\\\n",
       "\t7 & 0.0 & 1924.0 & 4.13529 & 5.07353 & 6.70686 & 5.06373 & $\\dots$ \\\\\n",
       "\t8 & 0.0 & 1661.0 & 3.79973 & 5.78351 & 6.83712 & 6.10606 & $\\dots$ \\\\\n",
       "\t9 & 0.0 & 2121.0 & 5.33081 & 5.3662 & 7.35909 & 5.88231 & $\\dots$ \\\\\n",
       "\t10 & 0.0 & 1895.0 & 4.36713 & 5.44592 & 5.52282 & 7.10246 & $\\dots$ \\\\\n",
       "\t11 & 0.0 & 1875.0 & 4.40992 & 5.85597 & 5.22897 & 4.70363 & $\\dots$ \\\\\n",
       "\t12 & 0.0 & 1180.0 & 4.21751 & 4.96627 & 5.62938 & 5.78321 & $\\dots$ \\\\\n",
       "\t13 & 0.0 & 1860.0 & 2.7737 & 5.50528 & 5.29015 & 3.59147 & $\\dots$ \\\\\n",
       "\t14 & 0.0 & 2071.0 & 2.69153 & 3.53205 & 4.78179 & 5.25806 & $\\dots$ \\\\\n",
       "\t15 & 0.0 & 1632.0 & 3.80612 & 5.00521 & 4.0697 & 3.76042 & $\\dots$ \\\\\n",
       "\t16 & 0.0 & 1986.0 & 3.60524 & 6.74781 & 3.74811 & 3.28704 & $\\dots$ \\\\\n",
       "\t17 & 0.0 & 2100.0 & 4.08459 & 4.73535 & 5.19717 & 5.45071 & $\\dots$ \\\\\n",
       "\t18 & 0.0 & 2255.0 & 6.56972 & 1.92778 & 7.54553 & 7.2561 & $\\dots$ \\\\\n",
       "\t19 & 0.0 & 1663.0 & 4.11619 & 4.61317 & 4.86026 & 5.28093 & $\\dots$ \\\\\n",
       "\t20 & 0.0 & 1719.0 & 5.33081 & 5.3662 & 7.35909 & 5.88231 & $\\dots$ \\\\\n",
       "\t21 & 0.0 & 1799.0 & 3.51667 & 4.66333 & 4.53145 & 5.20586 & $\\dots$ \\\\\n",
       "\t22 & 0.0 & 1926.0 & 3.64505 & 4.28455 & 4.42863 & 4.15476 & $\\dots$ \\\\\n",
       "\t23 & 0.0 & 2190.0 & 4.8623 & 5.22115 & 5.54167 & 12.0 & $\\dots$ \\\\\n",
       "\t24 & 0.0 & 2224.0 & 3.74595 & 4.34785 & 3.27796 & 3.01905 & $\\dots$ \\\\\n",
       "\t25 & 0.0 & 2062.0 & 3.05265 & 1.09286 & 5.00106 & 5.61852 & $\\dots$ \\\\\n",
       "\t26 & 0.0 & 2382.0 & 4.08142 & 6.31296 & 5.96944 & 5.61236 & $\\dots$ \\\\\n",
       "\t27 & 0.0 & 2073.0 & 4.8623 & 5.22115 & 5.54167 & 12.0 & $\\dots$ \\\\\n",
       "\t28 & 0.0 & 2594.0 & 3.81389 & 4.57799 & 5.68744 & 6.33144 & $\\dots$ \\\\\n",
       "\t29 & 0.0 & 2256.0 & 4.60096 & 4.4196 & 5.75962 & 6.28014 & $\\dots$ \\\\\n",
       "\t30 & 0.0 & 1491.0 & 4.44444 & 2.41667 & 1.5 & 4.99973 & $\\dots$ \\\\\n",
       "\t$\\dots$ & $\\dots$ & $\\dots$ & $\\dots$ & $\\dots$ & $\\dots$ & $\\dots$ &  \\\\\n",
       "\\end{tabular}\n"
      ],
      "text/plain": [
       "10896×242 DataFrame. Omitted printing of 238 columns\n",
       "│ Row   │ playoffs │ gamelength │ avg_kda_6mon_top │ avg_kda_6mon_jng │\n",
       "│       │ \u001b[90mFloat64⍰\u001b[39m │ \u001b[90mFloat64⍰\u001b[39m   │ \u001b[90mFloat64⍰\u001b[39m         │ \u001b[90mFloat64⍰\u001b[39m         │\n",
       "├───────┼──────────┼────────────┼──────────────────┼──────────────────┤\n",
       "│ 1     │ 0.0      │ 1770.0     │ 3.79973          │ 5.78351          │\n",
       "│ 2     │ 0.0      │ 2362.0     │ 4.96364          │ 3.35417          │\n",
       "│ 3     │ 0.0      │ 2128.0     │ 4.10017          │ 4.62103          │\n",
       "│ 4     │ 0.0      │ 1572.0     │ 3.95536          │ 4.24709          │\n",
       "│ 5     │ 0.0      │ 2267.0     │ 3.17733          │ 4.87871          │\n",
       "│ 6     │ 0.0      │ 2191.0     │ 4.96364          │ 3.35417          │\n",
       "│ 7     │ 0.0      │ 1924.0     │ 4.13529          │ 5.07353          │\n",
       "│ 8     │ 0.0      │ 1661.0     │ 3.79973          │ 5.78351          │\n",
       "│ 9     │ 0.0      │ 2121.0     │ 5.33081          │ 5.3662           │\n",
       "│ 10    │ 0.0      │ 1895.0     │ 4.36713          │ 5.44592          │\n",
       "⋮\n",
       "│ 10886 │ 0.0      │ 1619.0     │ 3.97657          │ 4.4722           │\n",
       "│ 10887 │ 0.0      │ 2577.0     │ 5.03618          │ 4.81377          │\n",
       "│ 10888 │ 0.0      │ 1780.0     │ 4.87201          │ 8.52778          │\n",
       "│ 10889 │ 0.0      │ 2014.0     │ 2.85347          │ 4.9417           │\n",
       "│ 10890 │ 0.0      │ 1832.0     │ 3.91113          │ 3.62763          │\n",
       "│ 10891 │ 0.0      │ 2023.0     │ 3.91113          │ 2.85             │\n",
       "│ 10892 │ 0.0      │ 2149.0     │ 5.22437          │ 5.21815          │\n",
       "│ 10893 │ 0.0      │ 2062.0     │ 4.3715           │ 5.21815          │\n",
       "│ 10894 │ 0.0      │ 2837.0     │ 4.9665           │ 5.21815          │\n",
       "│ 10895 │ 0.0      │ 1883.0     │ 4.30135          │ 5.05293          │\n",
       "│ 10896 │ 0.0      │ 1513.0     │ 4.29989          │ 5.13467          │"
      ]
     },
     "execution_count": 7,
     "metadata": {},
     "output_type": "execute_result"
    }
   ],
   "source": [
    "lol_imputed_knn = IAI.impute(train_2y1y_2row_noenemy,:opt_knn, max_iter=50, \n",
    "    warmstart_use_knn=false, warmstart_num_random_starts=1)"
   ]
  },
  {
   "cell_type": "code",
   "execution_count": 8,
   "metadata": {},
   "outputs": [
    {
     "data": {
      "text/plain": [
       "\"../data/train_2y1y_2row_nochamp_noenemy_2019_imputed.csv\""
      ]
     },
     "execution_count": 8,
     "metadata": {},
     "output_type": "execute_result"
    }
   ],
   "source": [
    "CSV.write(\"../data/train_2y1y_2row_nochamp_noenemy_2019_imputed.csv\", lol_imputed_knn)"
   ]
  },
  {
   "cell_type": "code",
   "execution_count": 11,
   "metadata": {},
   "outputs": [
    {
     "name": "stdout",
     "output_type": "stream",
     "text": [
      "\u001b[32m\u001b[1m    Status\u001b[22m\u001b[39m `~/.julia/environments/v1.0/Project.toml`\n",
      " \u001b[90m [7d9fca2a]\u001b[39m\u001b[37m Arpack v0.3.2 ⚲\u001b[39m\n",
      " \u001b[90m [336ed68f]\u001b[39m\u001b[37m CSV v0.5.21\u001b[39m\n",
      " \u001b[90m [e2554f3b]\u001b[39m\u001b[37m Clp v0.8.1\u001b[39m\n",
      " \u001b[90m [aaaa29a8]\u001b[39m\u001b[37m Clustering v0.14.2\u001b[39m\n",
      " \u001b[90m [a93c6f00]\u001b[39m\u001b[37m DataFrames v0.20.0\u001b[39m\n",
      " \u001b[90m [7806a523]\u001b[39m\u001b[37m DecisionTree v0.10.10\u001b[39m\n",
      " \u001b[90m [8d5ece8b]\u001b[39m\u001b[37m GLMNet v0.4.2 ⚲\u001b[39m\n",
      " \u001b[90m [2e9cd046]\u001b[39m\u001b[37m Gurobi v0.8.1\u001b[39m\n",
      " \u001b[90m [7073ff75]\u001b[39m\u001b[37m IJulia v1.21.3\u001b[39m\n",
      " \u001b[90m [033835bb]\u001b[39m\u001b[37m JLD2 v0.2.3\u001b[39m\n",
      " \u001b[90m [4076af6c]\u001b[39m\u001b[37m JuMP v0.21.3\u001b[39m\n",
      " \u001b[90m [2d691ee1]\u001b[39m\u001b[37m LIBLINEAR v0.5.1 ⚲\u001b[39m\n",
      " \u001b[90m [b1bec4e5]\u001b[39m\u001b[37m LIBSVM v0.4.0 ⚲\u001b[39m\n",
      " \u001b[90m [9920b226]\u001b[39m\u001b[37m MLDataPattern v0.5.3\u001b[39m\n",
      " \u001b[90m [cc2ba9b6]\u001b[39m\u001b[37m MLDataUtils v0.5.2\u001b[39m\n",
      " \u001b[90m [739be429]\u001b[39m\u001b[37m MbedTLS v0.6.8 ⚲\u001b[39m\n",
      " \u001b[90m [91a5bcdd]\u001b[39m\u001b[37m Plots v1.4.3\u001b[39m\n",
      " \u001b[90m [d330b81b]\u001b[39m\u001b[37m PyPlot v2.9.0\u001b[39m\n",
      " \u001b[90m [6f49c342]\u001b[39m\u001b[37m RCall v0.13.6\u001b[39m\n",
      " \u001b[90m [ce6b1742]\u001b[39m\u001b[37m RDatasets v0.6.10\u001b[39m\n",
      " \u001b[90m [79098fc4]\u001b[39m\u001b[37m Rmath v0.6.0 ⚲\u001b[39m\n",
      " \u001b[90m [3646fa90]\u001b[39m\u001b[37m ScikitLearn v0.6.2\u001b[39m\n",
      " \u001b[90m [276daf66]\u001b[39m\u001b[37m SpecialFunctions v0.8.0 ⚲\u001b[39m\n",
      " \u001b[90m [2913bbd2]\u001b[39m\u001b[37m StatsBase v0.32.2\u001b[39m\n"
     ]
    }
   ],
   "source": [
    "Pkg.status()"
   ]
  },
  {
   "cell_type": "code",
   "execution_count": 12,
   "metadata": {},
   "outputs": [
    {
     "data": {
      "text/html": [
       "<table class=\"data-frame\"><thead><tr><th></th><th>playoffs</th><th>gamelength</th><th>avg_kda_6mon_top</th><th>avg_kda_6mon_jng</th><th>avg_kda_6mon_mid</th><th>avg_kda_6mon_bot</th></tr><tr><th></th><th>Float64⍰</th><th>Float64⍰</th><th>Float64⍰</th><th>Float64⍰</th><th>Float64⍰</th><th>Float64⍰</th></tr></thead><tbody><p>10,896 rows × 242 columns (omitted printing of 236 columns)</p><tr><th>1</th><td>0.0</td><td>1770.0</td><td>3.79973</td><td>5.78351</td><td>6.83712</td><td>6.10606</td></tr><tr><th>2</th><td>0.0</td><td>2362.0</td><td>4.96364</td><td>3.35417</td><td>6.19848</td><td>6.80604</td></tr><tr><th>3</th><td>0.0</td><td>2128.0</td><td>4.10017</td><td>4.62103</td><td>3.10455</td><td>4.46372</td></tr><tr><th>4</th><td>0.0</td><td>1572.0</td><td>3.95536</td><td>4.24709</td><td>5.04524</td><td>5.35648</td></tr><tr><th>5</th><td>0.0</td><td>2267.0</td><td>3.17733</td><td>4.87871</td><td>4.15667</td><td>5.90001</td></tr><tr><th>6</th><td>0.0</td><td>2191.0</td><td>4.96364</td><td>3.35417</td><td>6.19848</td><td>6.82632</td></tr><tr><th>7</th><td>0.0</td><td>1924.0</td><td>4.13529</td><td>5.07353</td><td>6.70686</td><td>5.06373</td></tr><tr><th>8</th><td>0.0</td><td>1661.0</td><td>3.79973</td><td>5.78351</td><td>6.83712</td><td>6.10606</td></tr><tr><th>9</th><td>0.0</td><td>2121.0</td><td>5.33081</td><td>5.3662</td><td>7.35909</td><td>5.88231</td></tr><tr><th>10</th><td>0.0</td><td>1895.0</td><td>4.36713</td><td>5.44592</td><td>5.52282</td><td>7.10246</td></tr><tr><th>11</th><td>0.0</td><td>1875.0</td><td>4.40992</td><td>5.85597</td><td>5.22897</td><td>4.70363</td></tr><tr><th>12</th><td>0.0</td><td>1180.0</td><td>4.21751</td><td>4.96627</td><td>5.62938</td><td>5.78321</td></tr><tr><th>13</th><td>0.0</td><td>1860.0</td><td>2.7737</td><td>5.50528</td><td>5.29015</td><td>3.59147</td></tr><tr><th>14</th><td>0.0</td><td>2071.0</td><td>2.69153</td><td>3.53205</td><td>4.78179</td><td>5.25806</td></tr><tr><th>15</th><td>0.0</td><td>1632.0</td><td>3.80612</td><td>5.00521</td><td>4.0697</td><td>3.76042</td></tr><tr><th>16</th><td>0.0</td><td>1986.0</td><td>3.60524</td><td>6.74781</td><td>3.74811</td><td>3.28704</td></tr><tr><th>17</th><td>0.0</td><td>2100.0</td><td>4.08459</td><td>4.73535</td><td>5.19717</td><td>5.45071</td></tr><tr><th>18</th><td>0.0</td><td>2255.0</td><td>6.56972</td><td>1.92778</td><td>7.54553</td><td>7.2561</td></tr><tr><th>19</th><td>0.0</td><td>1663.0</td><td>4.11619</td><td>4.61317</td><td>4.86026</td><td>5.28093</td></tr><tr><th>20</th><td>0.0</td><td>1719.0</td><td>5.33081</td><td>5.3662</td><td>7.35909</td><td>5.88231</td></tr><tr><th>21</th><td>0.0</td><td>1799.0</td><td>3.51667</td><td>4.66333</td><td>4.53145</td><td>5.20586</td></tr><tr><th>22</th><td>0.0</td><td>1926.0</td><td>3.64505</td><td>4.28455</td><td>4.42863</td><td>4.15476</td></tr><tr><th>23</th><td>0.0</td><td>2190.0</td><td>4.8623</td><td>5.22115</td><td>5.54167</td><td>12.0</td></tr><tr><th>24</th><td>0.0</td><td>2224.0</td><td>3.74595</td><td>4.34785</td><td>3.27796</td><td>3.01905</td></tr><tr><th>25</th><td>0.0</td><td>2062.0</td><td>3.05265</td><td>1.09286</td><td>5.00106</td><td>5.61852</td></tr><tr><th>26</th><td>0.0</td><td>2382.0</td><td>4.08142</td><td>6.31296</td><td>5.96944</td><td>5.61236</td></tr><tr><th>27</th><td>0.0</td><td>2073.0</td><td>4.8623</td><td>5.22115</td><td>5.54167</td><td>12.0</td></tr><tr><th>28</th><td>0.0</td><td>2594.0</td><td>3.81389</td><td>4.57799</td><td>5.68744</td><td>6.33144</td></tr><tr><th>29</th><td>0.0</td><td>2256.0</td><td>4.60096</td><td>4.4196</td><td>5.75962</td><td>6.28014</td></tr><tr><th>30</th><td>0.0</td><td>1491.0</td><td>4.44444</td><td>2.41667</td><td>1.5</td><td>4.99973</td></tr><tr><th>&vellip;</th><td>&vellip;</td><td>&vellip;</td><td>&vellip;</td><td>&vellip;</td><td>&vellip;</td><td>&vellip;</td></tr></tbody></table>"
      ],
      "text/latex": [
       "\\begin{tabular}{r|ccccccc}\n",
       "\t& playoffs & gamelength & avg\\_kda\\_6mon\\_top & avg\\_kda\\_6mon\\_jng & avg\\_kda\\_6mon\\_mid & avg\\_kda\\_6mon\\_bot & \\\\\n",
       "\t\\hline\n",
       "\t& Float64⍰ & Float64⍰ & Float64⍰ & Float64⍰ & Float64⍰ & Float64⍰ & \\\\\n",
       "\t\\hline\n",
       "\t1 & 0.0 & 1770.0 & 3.79973 & 5.78351 & 6.83712 & 6.10606 & $\\dots$ \\\\\n",
       "\t2 & 0.0 & 2362.0 & 4.96364 & 3.35417 & 6.19848 & 6.80604 & $\\dots$ \\\\\n",
       "\t3 & 0.0 & 2128.0 & 4.10017 & 4.62103 & 3.10455 & 4.46372 & $\\dots$ \\\\\n",
       "\t4 & 0.0 & 1572.0 & 3.95536 & 4.24709 & 5.04524 & 5.35648 & $\\dots$ \\\\\n",
       "\t5 & 0.0 & 2267.0 & 3.17733 & 4.87871 & 4.15667 & 5.90001 & $\\dots$ \\\\\n",
       "\t6 & 0.0 & 2191.0 & 4.96364 & 3.35417 & 6.19848 & 6.82632 & $\\dots$ \\\\\n",
       "\t7 & 0.0 & 1924.0 & 4.13529 & 5.07353 & 6.70686 & 5.06373 & $\\dots$ \\\\\n",
       "\t8 & 0.0 & 1661.0 & 3.79973 & 5.78351 & 6.83712 & 6.10606 & $\\dots$ \\\\\n",
       "\t9 & 0.0 & 2121.0 & 5.33081 & 5.3662 & 7.35909 & 5.88231 & $\\dots$ \\\\\n",
       "\t10 & 0.0 & 1895.0 & 4.36713 & 5.44592 & 5.52282 & 7.10246 & $\\dots$ \\\\\n",
       "\t11 & 0.0 & 1875.0 & 4.40992 & 5.85597 & 5.22897 & 4.70363 & $\\dots$ \\\\\n",
       "\t12 & 0.0 & 1180.0 & 4.21751 & 4.96627 & 5.62938 & 5.78321 & $\\dots$ \\\\\n",
       "\t13 & 0.0 & 1860.0 & 2.7737 & 5.50528 & 5.29015 & 3.59147 & $\\dots$ \\\\\n",
       "\t14 & 0.0 & 2071.0 & 2.69153 & 3.53205 & 4.78179 & 5.25806 & $\\dots$ \\\\\n",
       "\t15 & 0.0 & 1632.0 & 3.80612 & 5.00521 & 4.0697 & 3.76042 & $\\dots$ \\\\\n",
       "\t16 & 0.0 & 1986.0 & 3.60524 & 6.74781 & 3.74811 & 3.28704 & $\\dots$ \\\\\n",
       "\t17 & 0.0 & 2100.0 & 4.08459 & 4.73535 & 5.19717 & 5.45071 & $\\dots$ \\\\\n",
       "\t18 & 0.0 & 2255.0 & 6.56972 & 1.92778 & 7.54553 & 7.2561 & $\\dots$ \\\\\n",
       "\t19 & 0.0 & 1663.0 & 4.11619 & 4.61317 & 4.86026 & 5.28093 & $\\dots$ \\\\\n",
       "\t20 & 0.0 & 1719.0 & 5.33081 & 5.3662 & 7.35909 & 5.88231 & $\\dots$ \\\\\n",
       "\t21 & 0.0 & 1799.0 & 3.51667 & 4.66333 & 4.53145 & 5.20586 & $\\dots$ \\\\\n",
       "\t22 & 0.0 & 1926.0 & 3.64505 & 4.28455 & 4.42863 & 4.15476 & $\\dots$ \\\\\n",
       "\t23 & 0.0 & 2190.0 & 4.8623 & 5.22115 & 5.54167 & 12.0 & $\\dots$ \\\\\n",
       "\t24 & 0.0 & 2224.0 & 3.74595 & 4.34785 & 3.27796 & 3.01905 & $\\dots$ \\\\\n",
       "\t25 & 0.0 & 2062.0 & 3.05265 & 1.09286 & 5.00106 & 5.61852 & $\\dots$ \\\\\n",
       "\t26 & 0.0 & 2382.0 & 4.08142 & 6.31296 & 5.96944 & 5.61236 & $\\dots$ \\\\\n",
       "\t27 & 0.0 & 2073.0 & 4.8623 & 5.22115 & 5.54167 & 12.0 & $\\dots$ \\\\\n",
       "\t28 & 0.0 & 2594.0 & 3.81389 & 4.57799 & 5.68744 & 6.33144 & $\\dots$ \\\\\n",
       "\t29 & 0.0 & 2256.0 & 4.60096 & 4.4196 & 5.75962 & 6.28014 & $\\dots$ \\\\\n",
       "\t30 & 0.0 & 1491.0 & 4.44444 & 2.41667 & 1.5 & 4.99973 & $\\dots$ \\\\\n",
       "\t$\\dots$ & $\\dots$ & $\\dots$ & $\\dots$ & $\\dots$ & $\\dots$ & $\\dots$ &  \\\\\n",
       "\\end{tabular}\n"
      ],
      "text/plain": [
       "10896×242 DataFrame. Omitted printing of 238 columns\n",
       "│ Row   │ playoffs │ gamelength │ avg_kda_6mon_top │ avg_kda_6mon_jng │\n",
       "│       │ \u001b[90mFloat64⍰\u001b[39m │ \u001b[90mFloat64⍰\u001b[39m   │ \u001b[90mFloat64⍰\u001b[39m         │ \u001b[90mFloat64⍰\u001b[39m         │\n",
       "├───────┼──────────┼────────────┼──────────────────┼──────────────────┤\n",
       "│ 1     │ 0.0      │ 1770.0     │ 3.79973          │ 5.78351          │\n",
       "│ 2     │ 0.0      │ 2362.0     │ 4.96364          │ 3.35417          │\n",
       "│ 3     │ 0.0      │ 2128.0     │ 4.10017          │ 4.62103          │\n",
       "│ 4     │ 0.0      │ 1572.0     │ 3.95536          │ 4.24709          │\n",
       "│ 5     │ 0.0      │ 2267.0     │ 3.17733          │ 4.87871          │\n",
       "│ 6     │ 0.0      │ 2191.0     │ 4.96364          │ 3.35417          │\n",
       "│ 7     │ 0.0      │ 1924.0     │ 4.13529          │ 5.07353          │\n",
       "│ 8     │ 0.0      │ 1661.0     │ 3.79973          │ 5.78351          │\n",
       "│ 9     │ 0.0      │ 2121.0     │ 5.33081          │ 5.3662           │\n",
       "│ 10    │ 0.0      │ 1895.0     │ 4.36713          │ 5.44592          │\n",
       "⋮\n",
       "│ 10886 │ 0.0      │ 1619.0     │ 3.97657          │ 4.4722           │\n",
       "│ 10887 │ 0.0      │ 2577.0     │ 5.03618          │ 4.81377          │\n",
       "│ 10888 │ 0.0      │ 1780.0     │ 4.87201          │ 8.52778          │\n",
       "│ 10889 │ 0.0      │ 2014.0     │ 2.85347          │ 4.9417           │\n",
       "│ 10890 │ 0.0      │ 1832.0     │ 3.91113          │ 3.62763          │\n",
       "│ 10891 │ 0.0      │ 2023.0     │ 3.91113          │ 2.85             │\n",
       "│ 10892 │ 0.0      │ 2149.0     │ 5.22437          │ 5.21815          │\n",
       "│ 10893 │ 0.0      │ 2062.0     │ 4.3715           │ 5.21815          │\n",
       "│ 10894 │ 0.0      │ 2837.0     │ 4.9665           │ 5.21815          │\n",
       "│ 10895 │ 0.0      │ 1883.0     │ 4.30135          │ 5.05293          │\n",
       "│ 10896 │ 0.0      │ 1513.0     │ 4.29989          │ 5.13467          │"
      ]
     },
     "execution_count": 12,
     "metadata": {},
     "output_type": "execute_result"
    }
   ],
   "source": [
    "lol_imputed_knn"
   ]
  },
  {
   "cell_type": "code",
   "execution_count": 13,
   "metadata": {},
   "outputs": [
    {
     "data": {
      "text/html": [
       "<table class=\"data-frame\"><thead><tr><th></th><th>side</th><th>league</th><th>playoffs</th><th>gamelength</th><th>avg_kda_6mon_top</th><th>avg_kda_6mon_jng</th></tr><tr><th></th><th>Categorical…⍰</th><th>Categorical…⍰</th><th>Int64⍰</th><th>Int64⍰</th><th>Float64⍰</th><th>Float64⍰</th></tr></thead><tbody><p>10,896 rows × 484 columns (omitted printing of 478 columns)</p><tr><th>1</th><td>Blue</td><td>CBLOL</td><td>0</td><td>1770</td><td>3.79973</td><td>5.78351</td></tr><tr><th>2</th><td>Blue</td><td>CBLOL</td><td>0</td><td>2362</td><td>4.96364</td><td>3.35417</td></tr><tr><th>3</th><td>Blue</td><td>CBLOL</td><td>0</td><td>2128</td><td>missing</td><td>missing</td></tr><tr><th>4</th><td>Blue</td><td>CBLOL</td><td>0</td><td>1572</td><td>3.95536</td><td>4.24709</td></tr><tr><th>5</th><td>Blue</td><td>CBLOL</td><td>0</td><td>2267</td><td>3.17733</td><td>missing</td></tr><tr><th>6</th><td>Blue</td><td>CBLOL</td><td>0</td><td>2191</td><td>4.96364</td><td>3.35417</td></tr><tr><th>7</th><td>Blue</td><td>CBLOL</td><td>0</td><td>1924</td><td>4.13529</td><td>5.07353</td></tr><tr><th>8</th><td>Blue</td><td>CBLOL</td><td>0</td><td>1661</td><td>3.79973</td><td>5.78351</td></tr><tr><th>9</th><td>Blue</td><td>LPL</td><td>0</td><td>2121</td><td>5.33081</td><td>5.3662</td></tr><tr><th>10</th><td>Blue</td><td>LPL</td><td>0</td><td>1895</td><td>missing</td><td>5.44592</td></tr><tr><th>11</th><td>Blue</td><td>LPL</td><td>0</td><td>1875</td><td>4.40992</td><td>missing</td></tr><tr><th>12</th><td>Blue</td><td>LPL</td><td>0</td><td>1180</td><td>missing</td><td>missing</td></tr><tr><th>13</th><td>Blue</td><td>LPL</td><td>0</td><td>1860</td><td>2.7737</td><td>missing</td></tr><tr><th>14</th><td>Blue</td><td>LPL</td><td>0</td><td>2071</td><td>2.69153</td><td>3.53205</td></tr><tr><th>15</th><td>Blue</td><td>LCK</td><td>0</td><td>1632</td><td>3.80612</td><td>5.00521</td></tr><tr><th>16</th><td>Blue</td><td>LCK</td><td>0</td><td>1986</td><td>3.60524</td><td>6.74781</td></tr><tr><th>17</th><td>Blue</td><td>LPL</td><td>0</td><td>2100</td><td>missing</td><td>missing</td></tr><tr><th>18</th><td>Blue</td><td>LCK</td><td>0</td><td>2255</td><td>6.56972</td><td>1.92778</td></tr><tr><th>19</th><td>Blue</td><td>LPL</td><td>0</td><td>1663</td><td>missing</td><td>missing</td></tr><tr><th>20</th><td>Blue</td><td>LPL</td><td>0</td><td>1719</td><td>5.33081</td><td>5.3662</td></tr><tr><th>21</th><td>Blue</td><td>LCK</td><td>0</td><td>1799</td><td>3.51667</td><td>4.66333</td></tr><tr><th>22</th><td>Blue</td><td>LPL</td><td>0</td><td>1926</td><td>missing</td><td>missing</td></tr><tr><th>23</th><td>Blue</td><td>LCK</td><td>0</td><td>2190</td><td>4.8623</td><td>5.22115</td></tr><tr><th>24</th><td>Blue</td><td>VCS</td><td>0</td><td>2224</td><td>missing</td><td>missing</td></tr><tr><th>25</th><td>Blue</td><td>LCK</td><td>0</td><td>2062</td><td>3.05265</td><td>1.09286</td></tr><tr><th>26</th><td>Blue</td><td>LMS</td><td>0</td><td>2382</td><td>4.08142</td><td>6.31296</td></tr><tr><th>27</th><td>Blue</td><td>LCK</td><td>0</td><td>2073</td><td>4.8623</td><td>5.22115</td></tr><tr><th>28</th><td>Blue</td><td>VCS</td><td>0</td><td>2594</td><td>3.81389</td><td>missing</td></tr><tr><th>29</th><td>Blue</td><td>LMS</td><td>0</td><td>2256</td><td>4.60096</td><td>4.4196</td></tr><tr><th>30</th><td>Blue</td><td>LCK</td><td>0</td><td>1491</td><td>4.44444</td><td>2.41667</td></tr><tr><th>&vellip;</th><td>&vellip;</td><td>&vellip;</td><td>&vellip;</td><td>&vellip;</td><td>&vellip;</td><td>&vellip;</td></tr></tbody></table>"
      ],
      "text/latex": [
       "\\begin{tabular}{r|ccccccc}\n",
       "\t& side & league & playoffs & gamelength & avg\\_kda\\_6mon\\_top & avg\\_kda\\_6mon\\_jng & \\\\\n",
       "\t\\hline\n",
       "\t& Categorical…⍰ & Categorical…⍰ & Int64⍰ & Int64⍰ & Float64⍰ & Float64⍰ & \\\\\n",
       "\t\\hline\n",
       "\t1 & Blue & CBLOL & 0 & 1770 & 3.79973 & 5.78351 & $\\dots$ \\\\\n",
       "\t2 & Blue & CBLOL & 0 & 2362 & 4.96364 & 3.35417 & $\\dots$ \\\\\n",
       "\t3 & Blue & CBLOL & 0 & 2128 &  &  & $\\dots$ \\\\\n",
       "\t4 & Blue & CBLOL & 0 & 1572 & 3.95536 & 4.24709 & $\\dots$ \\\\\n",
       "\t5 & Blue & CBLOL & 0 & 2267 & 3.17733 &  & $\\dots$ \\\\\n",
       "\t6 & Blue & CBLOL & 0 & 2191 & 4.96364 & 3.35417 & $\\dots$ \\\\\n",
       "\t7 & Blue & CBLOL & 0 & 1924 & 4.13529 & 5.07353 & $\\dots$ \\\\\n",
       "\t8 & Blue & CBLOL & 0 & 1661 & 3.79973 & 5.78351 & $\\dots$ \\\\\n",
       "\t9 & Blue & LPL & 0 & 2121 & 5.33081 & 5.3662 & $\\dots$ \\\\\n",
       "\t10 & Blue & LPL & 0 & 1895 &  & 5.44592 & $\\dots$ \\\\\n",
       "\t11 & Blue & LPL & 0 & 1875 & 4.40992 &  & $\\dots$ \\\\\n",
       "\t12 & Blue & LPL & 0 & 1180 &  &  & $\\dots$ \\\\\n",
       "\t13 & Blue & LPL & 0 & 1860 & 2.7737 &  & $\\dots$ \\\\\n",
       "\t14 & Blue & LPL & 0 & 2071 & 2.69153 & 3.53205 & $\\dots$ \\\\\n",
       "\t15 & Blue & LCK & 0 & 1632 & 3.80612 & 5.00521 & $\\dots$ \\\\\n",
       "\t16 & Blue & LCK & 0 & 1986 & 3.60524 & 6.74781 & $\\dots$ \\\\\n",
       "\t17 & Blue & LPL & 0 & 2100 &  &  & $\\dots$ \\\\\n",
       "\t18 & Blue & LCK & 0 & 2255 & 6.56972 & 1.92778 & $\\dots$ \\\\\n",
       "\t19 & Blue & LPL & 0 & 1663 &  &  & $\\dots$ \\\\\n",
       "\t20 & Blue & LPL & 0 & 1719 & 5.33081 & 5.3662 & $\\dots$ \\\\\n",
       "\t21 & Blue & LCK & 0 & 1799 & 3.51667 & 4.66333 & $\\dots$ \\\\\n",
       "\t22 & Blue & LPL & 0 & 1926 &  &  & $\\dots$ \\\\\n",
       "\t23 & Blue & LCK & 0 & 2190 & 4.8623 & 5.22115 & $\\dots$ \\\\\n",
       "\t24 & Blue & VCS & 0 & 2224 &  &  & $\\dots$ \\\\\n",
       "\t25 & Blue & LCK & 0 & 2062 & 3.05265 & 1.09286 & $\\dots$ \\\\\n",
       "\t26 & Blue & LMS & 0 & 2382 & 4.08142 & 6.31296 & $\\dots$ \\\\\n",
       "\t27 & Blue & LCK & 0 & 2073 & 4.8623 & 5.22115 & $\\dots$ \\\\\n",
       "\t28 & Blue & VCS & 0 & 2594 & 3.81389 &  & $\\dots$ \\\\\n",
       "\t29 & Blue & LMS & 0 & 2256 & 4.60096 & 4.4196 & $\\dots$ \\\\\n",
       "\t30 & Blue & LCK & 0 & 1491 & 4.44444 & 2.41667 & $\\dots$ \\\\\n",
       "\t$\\dots$ & $\\dots$ & $\\dots$ & $\\dots$ & $\\dots$ & $\\dots$ & $\\dots$ &  \\\\\n",
       "\\end{tabular}\n"
      ],
      "text/plain": [
       "10896×484 DataFrame. Omitted printing of 480 columns\n",
       "│ Row   │ side          │ league        │ playoffs │ gamelength │\n",
       "│       │ \u001b[90mCategorical…⍰\u001b[39m │ \u001b[90mCategorical…⍰\u001b[39m │ \u001b[90mInt64⍰\u001b[39m   │ \u001b[90mInt64⍰\u001b[39m     │\n",
       "├───────┼───────────────┼───────────────┼──────────┼────────────┤\n",
       "│ 1     │ Blue          │ CBLOL         │ 0        │ 1770       │\n",
       "│ 2     │ Blue          │ CBLOL         │ 0        │ 2362       │\n",
       "│ 3     │ Blue          │ CBLOL         │ 0        │ 2128       │\n",
       "│ 4     │ Blue          │ CBLOL         │ 0        │ 1572       │\n",
       "│ 5     │ Blue          │ CBLOL         │ 0        │ 2267       │\n",
       "│ 6     │ Blue          │ CBLOL         │ 0        │ 2191       │\n",
       "│ 7     │ Blue          │ CBLOL         │ 0        │ 1924       │\n",
       "│ 8     │ Blue          │ CBLOL         │ 0        │ 1661       │\n",
       "│ 9     │ Blue          │ LPL           │ 0        │ 2121       │\n",
       "│ 10    │ Blue          │ LPL           │ 0        │ 1895       │\n",
       "⋮\n",
       "│ 10886 │ Red           │ KeSPA         │ 0        │ 1619       │\n",
       "│ 10887 │ Red           │ KeSPA         │ 0        │ 2577       │\n",
       "│ 10888 │ Red           │ KeSPA         │ 0        │ 1780       │\n",
       "│ 10889 │ Red           │ KeSPA         │ 0        │ 2014       │\n",
       "│ 10890 │ Red           │ KeSPA         │ 0        │ 1832       │\n",
       "│ 10891 │ Red           │ KeSPA         │ 0        │ 2023       │\n",
       "│ 10892 │ Red           │ KeSPA         │ 0        │ 2149       │\n",
       "│ 10893 │ Red           │ KeSPA         │ 0        │ 2062       │\n",
       "│ 10894 │ Red           │ KeSPA         │ 0        │ 2837       │\n",
       "│ 10895 │ Red           │ KeSPA         │ 0        │ 1883       │\n",
       "│ 10896 │ Red           │ KeSPA         │ 0        │ 1513       │"
      ]
     },
     "execution_count": 13,
     "metadata": {},
     "output_type": "execute_result"
    }
   ],
   "source": [
    "train_2y1y_2row"
   ]
  },
  {
   "cell_type": "code",
   "execution_count": null,
   "metadata": {},
   "outputs": [],
   "source": []
  }
 ],
 "metadata": {
  "kernelspec": {
   "display_name": "Julia 1.0.5",
   "language": "julia",
   "name": "julia-1.0"
  },
  "language_info": {
   "file_extension": ".jl",
   "mimetype": "application/julia",
   "name": "julia",
   "version": "1.0.5"
  }
 },
 "nbformat": 4,
 "nbformat_minor": 4
}
