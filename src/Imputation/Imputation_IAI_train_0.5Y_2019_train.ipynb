{
 "cells": [
  {
   "cell_type": "code",
   "execution_count": 1,
   "metadata": {},
   "outputs": [],
   "source": [
    "using CSV, DataFrames, Statistics, Random, RCall"
   ]
  },
  {
   "cell_type": "code",
   "execution_count": 7,
   "metadata": {
    "scrolled": true
   },
   "outputs": [
    {
     "data": {
      "text/html": [
       "<table class=\"data-frame\"><thead><tr><th></th><th>side</th><th>league</th><th>playoffs</th><th>gamelength</th><th>avg_kda_6mon_top</th><th>avg_kda_6mon_jng</th></tr><tr><th></th><th>Categorical…⍰</th><th>Categorical…⍰</th><th>Int64⍰</th><th>Int64⍰</th><th>Float64⍰</th><th>Float64⍰</th></tr></thead><tbody><p>2,448 rows × 484 columns (omitted printing of 478 columns)</p><tr><th>1</th><td>Blue</td><td>CBLOL</td><td>0</td><td>1770</td><td>3.79973</td><td>5.78351</td></tr><tr><th>2</th><td>Blue</td><td>CBLOL</td><td>0</td><td>2128</td><td>missing</td><td>missing</td></tr><tr><th>3</th><td>Blue</td><td>CBLOL</td><td>0</td><td>2267</td><td>3.17733</td><td>missing</td></tr><tr><th>4</th><td>Blue</td><td>CBLOL</td><td>0</td><td>1924</td><td>4.13529</td><td>5.07353</td></tr><tr><th>5</th><td>Blue</td><td>LPL</td><td>0</td><td>2121</td><td>5.33081</td><td>5.3662</td></tr><tr><th>6</th><td>Blue</td><td>LPL</td><td>0</td><td>1875</td><td>4.40992</td><td>missing</td></tr><tr><th>7</th><td>Blue</td><td>LPL</td><td>0</td><td>1860</td><td>2.7737</td><td>missing</td></tr><tr><th>8</th><td>Blue</td><td>LCK</td><td>0</td><td>1632</td><td>3.80612</td><td>5.00521</td></tr><tr><th>9</th><td>Blue</td><td>LPL</td><td>0</td><td>2100</td><td>missing</td><td>missing</td></tr><tr><th>10</th><td>Blue</td><td>LPL</td><td>0</td><td>1663</td><td>missing</td><td>missing</td></tr><tr><th>11</th><td>Blue</td><td>LCK</td><td>0</td><td>1799</td><td>3.51667</td><td>4.66333</td></tr><tr><th>12</th><td>Blue</td><td>LCK</td><td>0</td><td>2190</td><td>4.8623</td><td>5.22115</td></tr><tr><th>13</th><td>Blue</td><td>LCK</td><td>0</td><td>2062</td><td>3.05265</td><td>1.09286</td></tr><tr><th>14</th><td>Blue</td><td>LCK</td><td>0</td><td>2073</td><td>4.8623</td><td>5.22115</td></tr><tr><th>15</th><td>Blue</td><td>LMS</td><td>0</td><td>2256</td><td>4.60096</td><td>4.4196</td></tr><tr><th>16</th><td>Blue</td><td>LMS</td><td>0</td><td>2287</td><td>3.18783</td><td>2.16667</td></tr><tr><th>17</th><td>Blue</td><td>LCK</td><td>0</td><td>1861</td><td>5.06719</td><td>6.26693</td></tr><tr><th>18</th><td>Blue</td><td>LMS</td><td>0</td><td>1735</td><td>4.15366</td><td>6.47652</td></tr><tr><th>19</th><td>Blue</td><td>LCS.A</td><td>0</td><td>1846</td><td>5.81667</td><td>5.44531</td></tr><tr><th>20</th><td>Blue</td><td>LCS.A</td><td>0</td><td>1972</td><td>3.07353</td><td>4.05507</td></tr><tr><th>21</th><td>Blue</td><td>LCS.A</td><td>0</td><td>2554</td><td>missing</td><td>missing</td></tr><tr><th>22</th><td>Blue</td><td>OPL</td><td>0</td><td>2154</td><td>3.16275</td><td>6.96896</td></tr><tr><th>23</th><td>Blue</td><td>OPL</td><td>0</td><td>1597</td><td>6.0625</td><td>2.54188</td></tr><tr><th>24</th><td>Blue</td><td>LMS</td><td>0</td><td>1400</td><td>missing</td><td>missing</td></tr><tr><th>25</th><td>Blue</td><td>LCK</td><td>0</td><td>1896</td><td>missing</td><td>5.25595</td></tr><tr><th>26</th><td>Blue</td><td>LMS</td><td>0</td><td>2605</td><td>missing</td><td>missing</td></tr><tr><th>27</th><td>Blue</td><td>LCK</td><td>0</td><td>1735</td><td>4.55882</td><td>1.5</td></tr><tr><th>28</th><td>Blue</td><td>LMS</td><td>0</td><td>1265</td><td>missing</td><td>missing</td></tr><tr><th>29</th><td>Blue</td><td>LPL</td><td>0</td><td>2030</td><td>6.43502</td><td>5.40256</td></tr><tr><th>30</th><td>Blue</td><td>VCS</td><td>0</td><td>2528</td><td>4.49444</td><td>5.22516</td></tr><tr><th>&vellip;</th><td>&vellip;</td><td>&vellip;</td><td>&vellip;</td><td>&vellip;</td><td>&vellip;</td><td>&vellip;</td></tr></tbody></table>"
      ],
      "text/latex": [
       "\\begin{tabular}{r|ccccccc}\n",
       "\t& side & league & playoffs & gamelength & avg\\_kda\\_6mon\\_top & avg\\_kda\\_6mon\\_jng & \\\\\n",
       "\t\\hline\n",
       "\t& Categorical…⍰ & Categorical…⍰ & Int64⍰ & Int64⍰ & Float64⍰ & Float64⍰ & \\\\\n",
       "\t\\hline\n",
       "\t1 & Blue & CBLOL & 0 & 1770 & 3.79973 & 5.78351 & $\\dots$ \\\\\n",
       "\t2 & Blue & CBLOL & 0 & 2128 &  &  & $\\dots$ \\\\\n",
       "\t3 & Blue & CBLOL & 0 & 2267 & 3.17733 &  & $\\dots$ \\\\\n",
       "\t4 & Blue & CBLOL & 0 & 1924 & 4.13529 & 5.07353 & $\\dots$ \\\\\n",
       "\t5 & Blue & LPL & 0 & 2121 & 5.33081 & 5.3662 & $\\dots$ \\\\\n",
       "\t6 & Blue & LPL & 0 & 1875 & 4.40992 &  & $\\dots$ \\\\\n",
       "\t7 & Blue & LPL & 0 & 1860 & 2.7737 &  & $\\dots$ \\\\\n",
       "\t8 & Blue & LCK & 0 & 1632 & 3.80612 & 5.00521 & $\\dots$ \\\\\n",
       "\t9 & Blue & LPL & 0 & 2100 &  &  & $\\dots$ \\\\\n",
       "\t10 & Blue & LPL & 0 & 1663 &  &  & $\\dots$ \\\\\n",
       "\t11 & Blue & LCK & 0 & 1799 & 3.51667 & 4.66333 & $\\dots$ \\\\\n",
       "\t12 & Blue & LCK & 0 & 2190 & 4.8623 & 5.22115 & $\\dots$ \\\\\n",
       "\t13 & Blue & LCK & 0 & 2062 & 3.05265 & 1.09286 & $\\dots$ \\\\\n",
       "\t14 & Blue & LCK & 0 & 2073 & 4.8623 & 5.22115 & $\\dots$ \\\\\n",
       "\t15 & Blue & LMS & 0 & 2256 & 4.60096 & 4.4196 & $\\dots$ \\\\\n",
       "\t16 & Blue & LMS & 0 & 2287 & 3.18783 & 2.16667 & $\\dots$ \\\\\n",
       "\t17 & Blue & LCK & 0 & 1861 & 5.06719 & 6.26693 & $\\dots$ \\\\\n",
       "\t18 & Blue & LMS & 0 & 1735 & 4.15366 & 6.47652 & $\\dots$ \\\\\n",
       "\t19 & Blue & LCS.A & 0 & 1846 & 5.81667 & 5.44531 & $\\dots$ \\\\\n",
       "\t20 & Blue & LCS.A & 0 & 1972 & 3.07353 & 4.05507 & $\\dots$ \\\\\n",
       "\t21 & Blue & LCS.A & 0 & 2554 &  &  & $\\dots$ \\\\\n",
       "\t22 & Blue & OPL & 0 & 2154 & 3.16275 & 6.96896 & $\\dots$ \\\\\n",
       "\t23 & Blue & OPL & 0 & 1597 & 6.0625 & 2.54188 & $\\dots$ \\\\\n",
       "\t24 & Blue & LMS & 0 & 1400 &  &  & $\\dots$ \\\\\n",
       "\t25 & Blue & LCK & 0 & 1896 &  & 5.25595 & $\\dots$ \\\\\n",
       "\t26 & Blue & LMS & 0 & 2605 &  &  & $\\dots$ \\\\\n",
       "\t27 & Blue & LCK & 0 & 1735 & 4.55882 & 1.5 & $\\dots$ \\\\\n",
       "\t28 & Blue & LMS & 0 & 1265 &  &  & $\\dots$ \\\\\n",
       "\t29 & Blue & LPL & 0 & 2030 & 6.43502 & 5.40256 & $\\dots$ \\\\\n",
       "\t30 & Blue & VCS & 0 & 2528 & 4.49444 & 5.22516 & $\\dots$ \\\\\n",
       "\t$\\dots$ & $\\dots$ & $\\dots$ & $\\dots$ & $\\dots$ & $\\dots$ & $\\dots$ &  \\\\\n",
       "\\end{tabular}\n"
      ],
      "text/plain": [
       "2448×484 DataFrame. Omitted printing of 480 columns\n",
       "│ Row  │ side          │ league        │ playoffs │ gamelength │\n",
       "│      │ \u001b[90mCategorical…⍰\u001b[39m │ \u001b[90mCategorical…⍰\u001b[39m │ \u001b[90mInt64⍰\u001b[39m   │ \u001b[90mInt64⍰\u001b[39m     │\n",
       "├──────┼───────────────┼───────────────┼──────────┼────────────┤\n",
       "│ 1    │ Blue          │ CBLOL         │ 0        │ 1770       │\n",
       "│ 2    │ Blue          │ CBLOL         │ 0        │ 2128       │\n",
       "│ 3    │ Blue          │ CBLOL         │ 0        │ 2267       │\n",
       "│ 4    │ Blue          │ CBLOL         │ 0        │ 1924       │\n",
       "│ 5    │ Blue          │ LPL           │ 0        │ 2121       │\n",
       "│ 6    │ Blue          │ LPL           │ 0        │ 1875       │\n",
       "│ 7    │ Blue          │ LPL           │ 0        │ 1860       │\n",
       "│ 8    │ Blue          │ LCK           │ 0        │ 1632       │\n",
       "│ 9    │ Blue          │ LPL           │ 0        │ 2100       │\n",
       "│ 10   │ Blue          │ LPL           │ 0        │ 1663       │\n",
       "⋮\n",
       "│ 2438 │ Red           │ LFL           │ 0        │ 2022       │\n",
       "│ 2439 │ Red           │ LFL           │ 0        │ 1584       │\n",
       "│ 2440 │ Red           │ LFL           │ 0        │ 2038       │\n",
       "│ 2441 │ Red           │ LFL           │ 0        │ 1479       │\n",
       "│ 2442 │ Red           │ OCS           │ 0        │ 1518       │\n",
       "│ 2443 │ Red           │ OCS           │ 0        │ 2037       │\n",
       "│ 2444 │ Red           │ OCS           │ 0        │ 2014       │\n",
       "│ 2445 │ Red           │ LCS.A         │ 0        │ 1898       │\n",
       "│ 2446 │ Red           │ LCS.A         │ 0        │ 2862       │\n",
       "│ 2447 │ Red           │ LCS.A         │ 0        │ 1215       │\n",
       "│ 2448 │ Red           │ LCS.A         │ 0        │ 1978       │"
      ]
     },
     "execution_count": 7,
     "metadata": {},
     "output_type": "execute_result"
    }
   ],
   "source": [
    "# Reading in data\n",
    "train_0_5 = DataFrame(CSV.File(\"/Users/pan/Dropbox (MIT)/ML_league/data/train_0.5_2019.csv\", header=true, missingstring=\"NA\", categorical=true))\n",
    "\n",
    "# Making variables categorical variables, train set\n",
    "# categorical!(train_2y1y_2row, :playoffs)\n",
    "\n",
    "# Same categorical for testing set\n",
    "allowmissing!(train_0_5)"
   ]
  },
  {
   "cell_type": "code",
   "execution_count": 8,
   "metadata": {},
   "outputs": [
    {
     "data": {
      "text/html": [
       "<table class=\"data-frame\"><thead><tr><th></th><th>playoffs</th><th>gamelength</th><th>avg_kda_6mon_top</th><th>avg_kda_6mon_jng</th><th>avg_kda_6mon_mid</th><th>avg_kda_6mon_bot</th></tr><tr><th></th><th>Int64⍰</th><th>Int64⍰</th><th>Float64⍰</th><th>Float64⍰</th><th>Float64⍰</th><th>Float64⍰</th></tr></thead><tbody><p>2,448 rows × 482 columns (omitted printing of 476 columns)</p><tr><th>1</th><td>0</td><td>1770</td><td>3.79973</td><td>5.78351</td><td>6.83712</td><td>6.10606</td></tr><tr><th>2</th><td>0</td><td>2128</td><td>missing</td><td>missing</td><td>3.10455</td><td>4.46372</td></tr><tr><th>3</th><td>0</td><td>2267</td><td>3.17733</td><td>missing</td><td>4.15667</td><td>missing</td></tr><tr><th>4</th><td>0</td><td>1924</td><td>4.13529</td><td>5.07353</td><td>6.70686</td><td>5.06373</td></tr><tr><th>5</th><td>0</td><td>2121</td><td>5.33081</td><td>5.3662</td><td>7.35909</td><td>5.88231</td></tr><tr><th>6</th><td>0</td><td>1875</td><td>4.40992</td><td>missing</td><td>5.22897</td><td>4.70363</td></tr><tr><th>7</th><td>0</td><td>1860</td><td>2.7737</td><td>missing</td><td>5.29015</td><td>3.59147</td></tr><tr><th>8</th><td>0</td><td>1632</td><td>3.80612</td><td>5.00521</td><td>4.0697</td><td>3.76042</td></tr><tr><th>9</th><td>0</td><td>2100</td><td>missing</td><td>missing</td><td>missing</td><td>missing</td></tr><tr><th>10</th><td>0</td><td>1663</td><td>missing</td><td>missing</td><td>missing</td><td>missing</td></tr><tr><th>11</th><td>0</td><td>1799</td><td>3.51667</td><td>4.66333</td><td>4.53145</td><td>5.20586</td></tr><tr><th>12</th><td>0</td><td>2190</td><td>4.8623</td><td>5.22115</td><td>5.54167</td><td>12.0</td></tr><tr><th>13</th><td>0</td><td>2062</td><td>3.05265</td><td>1.09286</td><td>5.00106</td><td>5.61852</td></tr><tr><th>14</th><td>0</td><td>2073</td><td>4.8623</td><td>5.22115</td><td>5.54167</td><td>12.0</td></tr><tr><th>15</th><td>0</td><td>2256</td><td>4.60096</td><td>4.4196</td><td>5.75962</td><td>6.28014</td></tr><tr><th>16</th><td>0</td><td>2287</td><td>3.18783</td><td>2.16667</td><td>4.76667</td><td>4.61389</td></tr><tr><th>17</th><td>0</td><td>1861</td><td>5.06719</td><td>6.26693</td><td>7.17857</td><td>6.30729</td></tr><tr><th>18</th><td>0</td><td>1735</td><td>4.15366</td><td>6.47652</td><td>6.23447</td><td>6.09638</td></tr><tr><th>19</th><td>0</td><td>1846</td><td>5.81667</td><td>5.44531</td><td>5.97414</td><td>7.07292</td></tr><tr><th>20</th><td>0</td><td>1972</td><td>3.07353</td><td>4.05507</td><td>5.35791</td><td>5.22903</td></tr><tr><th>21</th><td>0</td><td>2554</td><td>missing</td><td>missing</td><td>4.92557</td><td>6.63506</td></tr><tr><th>22</th><td>0</td><td>2154</td><td>3.16275</td><td>6.96896</td><td>7.41458</td><td>6.55208</td></tr><tr><th>23</th><td>0</td><td>1597</td><td>6.0625</td><td>2.54188</td><td>3.2744</td><td>4.16429</td></tr><tr><th>24</th><td>0</td><td>1400</td><td>missing</td><td>missing</td><td>missing</td><td>missing</td></tr><tr><th>25</th><td>0</td><td>1896</td><td>missing</td><td>5.25595</td><td>5.62484</td><td>2.78643</td></tr><tr><th>26</th><td>0</td><td>2605</td><td>missing</td><td>missing</td><td>missing</td><td>missing</td></tr><tr><th>27</th><td>0</td><td>1735</td><td>4.55882</td><td>1.5</td><td>4.85306</td><td>5.45045</td></tr><tr><th>28</th><td>0</td><td>1265</td><td>missing</td><td>missing</td><td>missing</td><td>missing</td></tr><tr><th>29</th><td>0</td><td>2030</td><td>6.43502</td><td>5.40256</td><td>6.68468</td><td>5.50303</td></tr><tr><th>30</th><td>0</td><td>2528</td><td>4.49444</td><td>5.22516</td><td>4.44392</td><td>5.60463</td></tr><tr><th>&vellip;</th><td>&vellip;</td><td>&vellip;</td><td>&vellip;</td><td>&vellip;</td><td>&vellip;</td><td>&vellip;</td></tr></tbody></table>"
      ],
      "text/latex": [
       "\\begin{tabular}{r|ccccccc}\n",
       "\t& playoffs & gamelength & avg\\_kda\\_6mon\\_top & avg\\_kda\\_6mon\\_jng & avg\\_kda\\_6mon\\_mid & avg\\_kda\\_6mon\\_bot & \\\\\n",
       "\t\\hline\n",
       "\t& Int64⍰ & Int64⍰ & Float64⍰ & Float64⍰ & Float64⍰ & Float64⍰ & \\\\\n",
       "\t\\hline\n",
       "\t1 & 0 & 1770 & 3.79973 & 5.78351 & 6.83712 & 6.10606 & $\\dots$ \\\\\n",
       "\t2 & 0 & 2128 &  &  & 3.10455 & 4.46372 & $\\dots$ \\\\\n",
       "\t3 & 0 & 2267 & 3.17733 &  & 4.15667 &  & $\\dots$ \\\\\n",
       "\t4 & 0 & 1924 & 4.13529 & 5.07353 & 6.70686 & 5.06373 & $\\dots$ \\\\\n",
       "\t5 & 0 & 2121 & 5.33081 & 5.3662 & 7.35909 & 5.88231 & $\\dots$ \\\\\n",
       "\t6 & 0 & 1875 & 4.40992 &  & 5.22897 & 4.70363 & $\\dots$ \\\\\n",
       "\t7 & 0 & 1860 & 2.7737 &  & 5.29015 & 3.59147 & $\\dots$ \\\\\n",
       "\t8 & 0 & 1632 & 3.80612 & 5.00521 & 4.0697 & 3.76042 & $\\dots$ \\\\\n",
       "\t9 & 0 & 2100 &  &  &  &  & $\\dots$ \\\\\n",
       "\t10 & 0 & 1663 &  &  &  &  & $\\dots$ \\\\\n",
       "\t11 & 0 & 1799 & 3.51667 & 4.66333 & 4.53145 & 5.20586 & $\\dots$ \\\\\n",
       "\t12 & 0 & 2190 & 4.8623 & 5.22115 & 5.54167 & 12.0 & $\\dots$ \\\\\n",
       "\t13 & 0 & 2062 & 3.05265 & 1.09286 & 5.00106 & 5.61852 & $\\dots$ \\\\\n",
       "\t14 & 0 & 2073 & 4.8623 & 5.22115 & 5.54167 & 12.0 & $\\dots$ \\\\\n",
       "\t15 & 0 & 2256 & 4.60096 & 4.4196 & 5.75962 & 6.28014 & $\\dots$ \\\\\n",
       "\t16 & 0 & 2287 & 3.18783 & 2.16667 & 4.76667 & 4.61389 & $\\dots$ \\\\\n",
       "\t17 & 0 & 1861 & 5.06719 & 6.26693 & 7.17857 & 6.30729 & $\\dots$ \\\\\n",
       "\t18 & 0 & 1735 & 4.15366 & 6.47652 & 6.23447 & 6.09638 & $\\dots$ \\\\\n",
       "\t19 & 0 & 1846 & 5.81667 & 5.44531 & 5.97414 & 7.07292 & $\\dots$ \\\\\n",
       "\t20 & 0 & 1972 & 3.07353 & 4.05507 & 5.35791 & 5.22903 & $\\dots$ \\\\\n",
       "\t21 & 0 & 2554 &  &  & 4.92557 & 6.63506 & $\\dots$ \\\\\n",
       "\t22 & 0 & 2154 & 3.16275 & 6.96896 & 7.41458 & 6.55208 & $\\dots$ \\\\\n",
       "\t23 & 0 & 1597 & 6.0625 & 2.54188 & 3.2744 & 4.16429 & $\\dots$ \\\\\n",
       "\t24 & 0 & 1400 &  &  &  &  & $\\dots$ \\\\\n",
       "\t25 & 0 & 1896 &  & 5.25595 & 5.62484 & 2.78643 & $\\dots$ \\\\\n",
       "\t26 & 0 & 2605 &  &  &  &  & $\\dots$ \\\\\n",
       "\t27 & 0 & 1735 & 4.55882 & 1.5 & 4.85306 & 5.45045 & $\\dots$ \\\\\n",
       "\t28 & 0 & 1265 &  &  &  &  & $\\dots$ \\\\\n",
       "\t29 & 0 & 2030 & 6.43502 & 5.40256 & 6.68468 & 5.50303 & $\\dots$ \\\\\n",
       "\t30 & 0 & 2528 & 4.49444 & 5.22516 & 4.44392 & 5.60463 & $\\dots$ \\\\\n",
       "\t$\\dots$ & $\\dots$ & $\\dots$ & $\\dots$ & $\\dots$ & $\\dots$ & $\\dots$ &  \\\\\n",
       "\\end{tabular}\n"
      ],
      "text/plain": [
       "2448×482 DataFrame. Omitted printing of 478 columns\n",
       "│ Row  │ playoffs │ gamelength │ avg_kda_6mon_top │ avg_kda_6mon_jng │\n",
       "│      │ \u001b[90mInt64⍰\u001b[39m   │ \u001b[90mInt64⍰\u001b[39m     │ \u001b[90mFloat64⍰\u001b[39m         │ \u001b[90mFloat64⍰\u001b[39m         │\n",
       "├──────┼──────────┼────────────┼──────────────────┼──────────────────┤\n",
       "│ 1    │ 0        │ 1770       │ 3.79973          │ 5.78351          │\n",
       "│ 2    │ 0        │ 2128       │ \u001b[90mmissing\u001b[39m          │ \u001b[90mmissing\u001b[39m          │\n",
       "│ 3    │ 0        │ 2267       │ 3.17733          │ \u001b[90mmissing\u001b[39m          │\n",
       "│ 4    │ 0        │ 1924       │ 4.13529          │ 5.07353          │\n",
       "│ 5    │ 0        │ 2121       │ 5.33081          │ 5.3662           │\n",
       "│ 6    │ 0        │ 1875       │ 4.40992          │ \u001b[90mmissing\u001b[39m          │\n",
       "│ 7    │ 0        │ 1860       │ 2.7737           │ \u001b[90mmissing\u001b[39m          │\n",
       "│ 8    │ 0        │ 1632       │ 3.80612          │ 5.00521          │\n",
       "│ 9    │ 0        │ 2100       │ \u001b[90mmissing\u001b[39m          │ \u001b[90mmissing\u001b[39m          │\n",
       "│ 10   │ 0        │ 1663       │ \u001b[90mmissing\u001b[39m          │ \u001b[90mmissing\u001b[39m          │\n",
       "⋮\n",
       "│ 2438 │ 0        │ 2022       │ \u001b[90mmissing\u001b[39m          │ 4.43131          │\n",
       "│ 2439 │ 0        │ 1584       │ \u001b[90mmissing\u001b[39m          │ \u001b[90mmissing\u001b[39m          │\n",
       "│ 2440 │ 0        │ 2038       │ 1.25397          │ 4.37667          │\n",
       "│ 2441 │ 0        │ 1479       │ \u001b[90mmissing\u001b[39m          │ 4.43131          │\n",
       "│ 2442 │ 0        │ 1518       │ 8.3              │ \u001b[90mmissing\u001b[39m          │\n",
       "│ 2443 │ 0        │ 2037       │ 4.0              │ 6.58333          │\n",
       "│ 2444 │ 0        │ 2014       │ 6.2375           │ \u001b[90mmissing\u001b[39m          │\n",
       "│ 2445 │ 0        │ 1898       │ \u001b[90mmissing\u001b[39m          │ 4.50256          │\n",
       "│ 2446 │ 0        │ 2862       │ 3.07353          │ 5.825            │\n",
       "│ 2447 │ 0        │ 1215       │ 3.07353          │ 5.825            │\n",
       "│ 2448 │ 0        │ 1978       │ 4.11354          │ 4.05507          │"
      ]
     },
     "execution_count": 8,
     "metadata": {},
     "output_type": "execute_result"
    }
   ],
   "source": [
    "train_0_5_noenemy = train_0_5[:,3:end]"
   ]
  },
  {
   "cell_type": "code",
   "execution_count": 10,
   "metadata": {},
   "outputs": [
    {
     "name": "stderr",
     "output_type": "stream",
     "text": [
      "\u001b[32mTrying different warm starts...      0%|                |  ETA: N/A\u001b[39m\n",
      "\u001b[A4m  Warmstart:  knn\u001b[39m\n",
      "\u001b[32mTrying different warm starts...     17%|██▋             |  ETA: 0:24:09\u001b[39m\n",
      "\u001b[A4m  Warmstart:  rand\u001b[39m\n",
      "\u001b[32mTrying different warm starts...     33%|█████▍          |  ETA: 0:16:11\u001b[39m\n",
      "\u001b[A4m  Warmstart:  rand\u001b[39m\n",
      "\u001b[32mTrying different warm starts...     50%|████████        |  ETA: 0:10:43\u001b[39m\n",
      "\u001b[A4m  Warmstart:  rand\u001b[39m\n",
      "\u001b[32mTrying different warm starts...     67%|██████████▋     |  ETA: 0:06:41\u001b[39m\n",
      "\u001b[A4m  Warmstart:  rand\u001b[39m\n",
      "\u001b[32mTrying different warm starts...     83%|█████████████▍  |  ETA: 0:03:13\u001b[39m\n",
      "\u001b[A4m  Warmstart:  rand\u001b[39m\n",
      "\u001b[32mTrying different warm starts...    100%|████████████████| Time: 0:18:53\u001b[39m\n",
      "\u001b[A4m  Warmstart:  rand\u001b[39m"
     ]
    },
    {
     "name": "stdout",
     "output_type": "stream",
     "text": [
      "\n",
      "\n"
     ]
    },
    {
     "data": {
      "text/html": [
       "<table class=\"data-frame\"><thead><tr><th></th><th>playoffs</th><th>gamelength</th><th>avg_kda_6mon_top</th><th>avg_kda_6mon_jng</th><th>avg_kda_6mon_mid</th><th>avg_kda_6mon_bot</th></tr><tr><th></th><th>Float64⍰</th><th>Float64⍰</th><th>Float64⍰</th><th>Float64⍰</th><th>Float64⍰</th><th>Float64⍰</th></tr></thead><tbody><p>2,448 rows × 482 columns (omitted printing of 476 columns)</p><tr><th>1</th><td>0.0</td><td>1770.0</td><td>3.79973</td><td>5.78351</td><td>6.83712</td><td>6.10606</td></tr><tr><th>2</th><td>0.0</td><td>2128.0</td><td>4.07998</td><td>4.49998</td><td>3.10455</td><td>4.46372</td></tr><tr><th>3</th><td>0.0</td><td>2267.0</td><td>3.17733</td><td>4.87438</td><td>4.15667</td><td>5.35664</td></tr><tr><th>4</th><td>0.0</td><td>1924.0</td><td>4.13529</td><td>5.07353</td><td>6.70686</td><td>5.06373</td></tr><tr><th>5</th><td>0.0</td><td>2121.0</td><td>5.33081</td><td>5.3662</td><td>7.35909</td><td>5.88231</td></tr><tr><th>6</th><td>0.0</td><td>1875.0</td><td>4.40992</td><td>5.03371</td><td>5.22897</td><td>4.70363</td></tr><tr><th>7</th><td>0.0</td><td>1860.0</td><td>2.7737</td><td>4.90604</td><td>5.29015</td><td>3.59147</td></tr><tr><th>8</th><td>0.0</td><td>1632.0</td><td>3.80612</td><td>5.00521</td><td>4.0697</td><td>3.76042</td></tr><tr><th>9</th><td>0.0</td><td>2100.0</td><td>4.42634</td><td>4.44341</td><td>5.19024</td><td>5.66739</td></tr><tr><th>10</th><td>0.0</td><td>1663.0</td><td>4.28257</td><td>4.98086</td><td>4.96612</td><td>4.97545</td></tr><tr><th>11</th><td>0.0</td><td>1799.0</td><td>3.51667</td><td>4.66333</td><td>4.53145</td><td>5.20586</td></tr><tr><th>12</th><td>0.0</td><td>2190.0</td><td>4.8623</td><td>5.22115</td><td>5.54167</td><td>12.0</td></tr><tr><th>13</th><td>0.0</td><td>2062.0</td><td>3.05265</td><td>1.09286</td><td>5.00106</td><td>5.61852</td></tr><tr><th>14</th><td>0.0</td><td>2073.0</td><td>4.8623</td><td>5.22115</td><td>5.54167</td><td>12.0</td></tr><tr><th>15</th><td>0.0</td><td>2256.0</td><td>4.60096</td><td>4.4196</td><td>5.75962</td><td>6.28014</td></tr><tr><th>16</th><td>0.0</td><td>2287.0</td><td>3.18783</td><td>2.16667</td><td>4.76667</td><td>4.61389</td></tr><tr><th>17</th><td>0.0</td><td>1861.0</td><td>5.06719</td><td>6.26693</td><td>7.17857</td><td>6.30729</td></tr><tr><th>18</th><td>0.0</td><td>1735.0</td><td>4.15366</td><td>6.47652</td><td>6.23447</td><td>6.09638</td></tr><tr><th>19</th><td>0.0</td><td>1846.0</td><td>5.81667</td><td>5.44531</td><td>5.97414</td><td>7.07292</td></tr><tr><th>20</th><td>0.0</td><td>1972.0</td><td>3.07353</td><td>4.05507</td><td>5.35791</td><td>5.22903</td></tr><tr><th>21</th><td>0.0</td><td>2554.0</td><td>4.3246</td><td>4.80908</td><td>4.92557</td><td>6.63506</td></tr><tr><th>22</th><td>0.0</td><td>2154.0</td><td>3.16275</td><td>6.96896</td><td>7.41458</td><td>6.55208</td></tr><tr><th>23</th><td>0.0</td><td>1597.0</td><td>6.0625</td><td>2.54188</td><td>3.2744</td><td>4.16429</td></tr><tr><th>24</th><td>0.0</td><td>1400.0</td><td>4.37506</td><td>5.07676</td><td>5.75798</td><td>6.34668</td></tr><tr><th>25</th><td>0.0</td><td>1896.0</td><td>4.52651</td><td>5.25595</td><td>5.62484</td><td>2.78643</td></tr><tr><th>26</th><td>0.0</td><td>2605.0</td><td>4.34083</td><td>5.14094</td><td>5.83796</td><td>6.26432</td></tr><tr><th>27</th><td>0.0</td><td>1735.0</td><td>4.55882</td><td>1.5</td><td>4.85306</td><td>5.45045</td></tr><tr><th>28</th><td>0.0</td><td>1265.0</td><td>4.36123</td><td>4.99143</td><td>5.79263</td><td>6.22373</td></tr><tr><th>29</th><td>0.0</td><td>2030.0</td><td>6.43502</td><td>5.40256</td><td>6.68468</td><td>5.50303</td></tr><tr><th>30</th><td>0.0</td><td>2528.0</td><td>4.49444</td><td>5.22516</td><td>4.44392</td><td>5.60463</td></tr><tr><th>&vellip;</th><td>&vellip;</td><td>&vellip;</td><td>&vellip;</td><td>&vellip;</td><td>&vellip;</td><td>&vellip;</td></tr></tbody></table>"
      ],
      "text/latex": [
       "\\begin{tabular}{r|ccccccc}\n",
       "\t& playoffs & gamelength & avg\\_kda\\_6mon\\_top & avg\\_kda\\_6mon\\_jng & avg\\_kda\\_6mon\\_mid & avg\\_kda\\_6mon\\_bot & \\\\\n",
       "\t\\hline\n",
       "\t& Float64⍰ & Float64⍰ & Float64⍰ & Float64⍰ & Float64⍰ & Float64⍰ & \\\\\n",
       "\t\\hline\n",
       "\t1 & 0.0 & 1770.0 & 3.79973 & 5.78351 & 6.83712 & 6.10606 & $\\dots$ \\\\\n",
       "\t2 & 0.0 & 2128.0 & 4.07998 & 4.49998 & 3.10455 & 4.46372 & $\\dots$ \\\\\n",
       "\t3 & 0.0 & 2267.0 & 3.17733 & 4.87438 & 4.15667 & 5.35664 & $\\dots$ \\\\\n",
       "\t4 & 0.0 & 1924.0 & 4.13529 & 5.07353 & 6.70686 & 5.06373 & $\\dots$ \\\\\n",
       "\t5 & 0.0 & 2121.0 & 5.33081 & 5.3662 & 7.35909 & 5.88231 & $\\dots$ \\\\\n",
       "\t6 & 0.0 & 1875.0 & 4.40992 & 5.03371 & 5.22897 & 4.70363 & $\\dots$ \\\\\n",
       "\t7 & 0.0 & 1860.0 & 2.7737 & 4.90604 & 5.29015 & 3.59147 & $\\dots$ \\\\\n",
       "\t8 & 0.0 & 1632.0 & 3.80612 & 5.00521 & 4.0697 & 3.76042 & $\\dots$ \\\\\n",
       "\t9 & 0.0 & 2100.0 & 4.42634 & 4.44341 & 5.19024 & 5.66739 & $\\dots$ \\\\\n",
       "\t10 & 0.0 & 1663.0 & 4.28257 & 4.98086 & 4.96612 & 4.97545 & $\\dots$ \\\\\n",
       "\t11 & 0.0 & 1799.0 & 3.51667 & 4.66333 & 4.53145 & 5.20586 & $\\dots$ \\\\\n",
       "\t12 & 0.0 & 2190.0 & 4.8623 & 5.22115 & 5.54167 & 12.0 & $\\dots$ \\\\\n",
       "\t13 & 0.0 & 2062.0 & 3.05265 & 1.09286 & 5.00106 & 5.61852 & $\\dots$ \\\\\n",
       "\t14 & 0.0 & 2073.0 & 4.8623 & 5.22115 & 5.54167 & 12.0 & $\\dots$ \\\\\n",
       "\t15 & 0.0 & 2256.0 & 4.60096 & 4.4196 & 5.75962 & 6.28014 & $\\dots$ \\\\\n",
       "\t16 & 0.0 & 2287.0 & 3.18783 & 2.16667 & 4.76667 & 4.61389 & $\\dots$ \\\\\n",
       "\t17 & 0.0 & 1861.0 & 5.06719 & 6.26693 & 7.17857 & 6.30729 & $\\dots$ \\\\\n",
       "\t18 & 0.0 & 1735.0 & 4.15366 & 6.47652 & 6.23447 & 6.09638 & $\\dots$ \\\\\n",
       "\t19 & 0.0 & 1846.0 & 5.81667 & 5.44531 & 5.97414 & 7.07292 & $\\dots$ \\\\\n",
       "\t20 & 0.0 & 1972.0 & 3.07353 & 4.05507 & 5.35791 & 5.22903 & $\\dots$ \\\\\n",
       "\t21 & 0.0 & 2554.0 & 4.3246 & 4.80908 & 4.92557 & 6.63506 & $\\dots$ \\\\\n",
       "\t22 & 0.0 & 2154.0 & 3.16275 & 6.96896 & 7.41458 & 6.55208 & $\\dots$ \\\\\n",
       "\t23 & 0.0 & 1597.0 & 6.0625 & 2.54188 & 3.2744 & 4.16429 & $\\dots$ \\\\\n",
       "\t24 & 0.0 & 1400.0 & 4.37506 & 5.07676 & 5.75798 & 6.34668 & $\\dots$ \\\\\n",
       "\t25 & 0.0 & 1896.0 & 4.52651 & 5.25595 & 5.62484 & 2.78643 & $\\dots$ \\\\\n",
       "\t26 & 0.0 & 2605.0 & 4.34083 & 5.14094 & 5.83796 & 6.26432 & $\\dots$ \\\\\n",
       "\t27 & 0.0 & 1735.0 & 4.55882 & 1.5 & 4.85306 & 5.45045 & $\\dots$ \\\\\n",
       "\t28 & 0.0 & 1265.0 & 4.36123 & 4.99143 & 5.79263 & 6.22373 & $\\dots$ \\\\\n",
       "\t29 & 0.0 & 2030.0 & 6.43502 & 5.40256 & 6.68468 & 5.50303 & $\\dots$ \\\\\n",
       "\t30 & 0.0 & 2528.0 & 4.49444 & 5.22516 & 4.44392 & 5.60463 & $\\dots$ \\\\\n",
       "\t$\\dots$ & $\\dots$ & $\\dots$ & $\\dots$ & $\\dots$ & $\\dots$ & $\\dots$ &  \\\\\n",
       "\\end{tabular}\n"
      ],
      "text/plain": [
       "2448×482 DataFrame. Omitted printing of 478 columns\n",
       "│ Row  │ playoffs │ gamelength │ avg_kda_6mon_top │ avg_kda_6mon_jng │\n",
       "│      │ \u001b[90mFloat64⍰\u001b[39m │ \u001b[90mFloat64⍰\u001b[39m   │ \u001b[90mFloat64⍰\u001b[39m         │ \u001b[90mFloat64⍰\u001b[39m         │\n",
       "├──────┼──────────┼────────────┼──────────────────┼──────────────────┤\n",
       "│ 1    │ 0.0      │ 1770.0     │ 3.79973          │ 5.78351          │\n",
       "│ 2    │ 0.0      │ 2128.0     │ 4.07998          │ 4.49998          │\n",
       "│ 3    │ 0.0      │ 2267.0     │ 3.17733          │ 4.87438          │\n",
       "│ 4    │ 0.0      │ 1924.0     │ 4.13529          │ 5.07353          │\n",
       "│ 5    │ 0.0      │ 2121.0     │ 5.33081          │ 5.3662           │\n",
       "│ 6    │ 0.0      │ 1875.0     │ 4.40992          │ 5.03371          │\n",
       "│ 7    │ 0.0      │ 1860.0     │ 2.7737           │ 4.90604          │\n",
       "│ 8    │ 0.0      │ 1632.0     │ 3.80612          │ 5.00521          │\n",
       "│ 9    │ 0.0      │ 2100.0     │ 4.42634          │ 4.44341          │\n",
       "│ 10   │ 0.0      │ 1663.0     │ 4.28257          │ 4.98086          │\n",
       "⋮\n",
       "│ 2438 │ 0.0      │ 2022.0     │ 4.09932          │ 4.43131          │\n",
       "│ 2439 │ 0.0      │ 1584.0     │ 4.15978          │ 4.64531          │\n",
       "│ 2440 │ 0.0      │ 2038.0     │ 1.25397          │ 4.37667          │\n",
       "│ 2441 │ 0.0      │ 1479.0     │ 4.13806          │ 4.43131          │\n",
       "│ 2442 │ 0.0      │ 1518.0     │ 8.3              │ 4.99985          │\n",
       "│ 2443 │ 0.0      │ 2037.0     │ 4.0              │ 6.58333          │\n",
       "│ 2444 │ 0.0      │ 2014.0     │ 6.2375           │ 4.14782          │\n",
       "│ 2445 │ 0.0      │ 1898.0     │ 4.40155          │ 4.50256          │\n",
       "│ 2446 │ 0.0      │ 2862.0     │ 3.07353          │ 5.825            │\n",
       "│ 2447 │ 0.0      │ 1215.0     │ 3.07353          │ 5.825            │\n",
       "│ 2448 │ 0.0      │ 1978.0     │ 4.11354          │ 4.05507          │"
      ]
     },
     "execution_count": 10,
     "metadata": {},
     "output_type": "execute_result"
    }
   ],
   "source": [
    "lol_imputed_knn = IAI.impute(train_0_5_noenemy,:opt_knn)"
   ]
  },
  {
   "cell_type": "code",
   "execution_count": 12,
   "metadata": {},
   "outputs": [
    {
     "data": {
      "text/plain": [
       "RObject{NilSxp}\n",
       "NULL\n"
      ]
     },
     "execution_count": 12,
     "metadata": {},
     "output_type": "execute_result"
    }
   ],
   "source": [
    "using CSV, DataFrames, RCall\n",
    "\n",
    "# CSV.write(\"/Users/pan/Desktop\", DataFrame(a));\n",
    "\n",
    "\n",
    "@rput lol_imputed_knn\n",
    "\n",
    "R\"\"\"\n",
    "write.csv(lol_imputed_knn,'/Users/pan/Dropbox (MIT)/ML_league/data/train_0.5_2019_nochamp_noenemy_nocat_imputed.csv', row.names = FALSE)\n",
    "\"\"\""
   ]
  },
  {
   "cell_type": "code",
   "execution_count": null,
   "metadata": {},
   "outputs": [],
   "source": []
  }
 ],
 "metadata": {
  "kernelspec": {
   "display_name": "Julia 1.3.1",
   "language": "julia",
   "name": "julia-1.3"
  },
  "language_info": {
   "file_extension": ".jl",
   "mimetype": "application/julia",
   "name": "julia",
   "version": "1.3.1"
  }
 },
 "nbformat": 4,
 "nbformat_minor": 4
}
