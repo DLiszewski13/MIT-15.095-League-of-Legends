{
 "cells": [
  {
   "cell_type": "code",
   "execution_count": 16,
   "metadata": {},
   "outputs": [],
   "source": [
    "using CSV, DataFrames, Statistics, Random, RCall"
   ]
  },
  {
   "cell_type": "code",
   "execution_count": 17,
   "metadata": {
    "scrolled": true
   },
   "outputs": [
    {
     "data": {
      "text/html": [
       "<table class=\"data-frame\"><thead><tr><th></th><th>side</th><th>league</th><th>playoffs</th><th>gamelength</th><th>avg_kda_6mon_top</th><th>avg_kda_6mon_jng</th></tr><tr><th></th><th>Categorical…⍰</th><th>Categorical…⍰</th><th>Int64⍰</th><th>Int64⍰</th><th>Float64⍰</th><th>Float64⍰</th></tr></thead><tbody><p>10,938 rows × 484 columns (omitted printing of 478 columns)</p><tr><th>1</th><td>Blue</td><td>KeSPA</td><td>0</td><td>2220</td><td>3.28742</td><td>4.34984</td></tr><tr><th>2</th><td>Blue</td><td>KeSPA</td><td>0</td><td>2227</td><td>1.83333</td><td>5.64785</td></tr><tr><th>3</th><td>Blue</td><td>KeSPA</td><td>0</td><td>1711</td><td>4.0</td><td>5.64785</td></tr><tr><th>4</th><td>Blue</td><td>KeSPA</td><td>0</td><td>1999</td><td>4.0</td><td>5.64785</td></tr><tr><th>5</th><td>Blue</td><td>KeSPA</td><td>0</td><td>1812</td><td>4.37816</td><td>9.625</td></tr><tr><th>6</th><td>Blue</td><td>KeSPA</td><td>0</td><td>1548</td><td>4.17222</td><td>9.25</td></tr><tr><th>7</th><td>Blue</td><td>KeSPA</td><td>0</td><td>1594</td><td>4.17222</td><td>9.25</td></tr><tr><th>8</th><td>Blue</td><td>KeSPA</td><td>0</td><td>1393</td><td>3.28742</td><td>4.34984</td></tr><tr><th>9</th><td>Blue</td><td>KeSPA</td><td>0</td><td>1809</td><td>4.17222</td><td>9.25</td></tr><tr><th>10</th><td>Blue</td><td>KeSPA</td><td>0</td><td>2085</td><td>3.28742</td><td>4.34984</td></tr><tr><th>11</th><td>Blue</td><td>LPL</td><td>0</td><td>2640</td><td>4.17879</td><td>4.07107</td></tr><tr><th>12</th><td>Blue</td><td>LPL</td><td>0</td><td>1814</td><td>4.17879</td><td>4.07107</td></tr><tr><th>13</th><td>Blue</td><td>LPL</td><td>0</td><td>2283</td><td>4.23161</td><td>4.57073</td></tr><tr><th>14</th><td>Blue</td><td>LPL</td><td>0</td><td>1943</td><td>4.17879</td><td>4.44291</td></tr><tr><th>15</th><td>Blue</td><td>LPL</td><td>0</td><td>1517</td><td>4.59167</td><td>5.90324</td></tr><tr><th>16</th><td>Blue</td><td>LPL</td><td>0</td><td>2116</td><td>4.23161</td><td>4.57073</td></tr><tr><th>17</th><td>Blue</td><td>LPL</td><td>0</td><td>2108</td><td>3.70859</td><td>3.11905</td></tr><tr><th>18</th><td>Blue</td><td>LPL</td><td>0</td><td>1934</td><td>2.70862</td><td>3.11574</td></tr><tr><th>19</th><td>Blue</td><td>LPL</td><td>0</td><td>1666</td><td>2.48722</td><td>4.11905</td></tr><tr><th>20</th><td>Blue</td><td>LPL</td><td>0</td><td>1852</td><td>2.48722</td><td>4.11905</td></tr><tr><th>21</th><td>Blue</td><td>LPL</td><td>0</td><td>1776</td><td>5.39298</td><td>5.85093</td></tr><tr><th>22</th><td>Blue</td><td>LPL</td><td>0</td><td>2128</td><td>5.39298</td><td>5.85093</td></tr><tr><th>23</th><td>Blue</td><td>LPL</td><td>0</td><td>1426</td><td>4.17879</td><td>4.44291</td></tr><tr><th>24</th><td>Blue</td><td>LPL</td><td>0</td><td>1710</td><td>4.08382</td><td>4.68294</td></tr><tr><th>25</th><td>Blue</td><td>LPL</td><td>0</td><td>1645</td><td>2.29683</td><td>8.28333</td></tr><tr><th>26</th><td>Blue</td><td>LPL</td><td>0</td><td>2484</td><td>missing</td><td>8.28333</td></tr><tr><th>27</th><td>Blue</td><td>LPL</td><td>0</td><td>2436</td><td>missing</td><td>3.11574</td></tr><tr><th>28</th><td>Blue</td><td>LPL</td><td>0</td><td>2097</td><td>4.28962</td><td>6.24392</td></tr><tr><th>29</th><td>Blue</td><td>LPL</td><td>0</td><td>2343</td><td>4.74686</td><td>7.44199</td></tr><tr><th>30</th><td>Blue</td><td>LPL</td><td>0</td><td>1617</td><td>3.70859</td><td>3.11905</td></tr><tr><th>&vellip;</th><td>&vellip;</td><td>&vellip;</td><td>&vellip;</td><td>&vellip;</td><td>&vellip;</td><td>&vellip;</td></tr></tbody></table>"
      ],
      "text/latex": [
       "\\begin{tabular}{r|ccccccc}\n",
       "\t& side & league & playoffs & gamelength & avg\\_kda\\_6mon\\_top & avg\\_kda\\_6mon\\_jng & \\\\\n",
       "\t\\hline\n",
       "\t& Categorical…⍰ & Categorical…⍰ & Int64⍰ & Int64⍰ & Float64⍰ & Float64⍰ & \\\\\n",
       "\t\\hline\n",
       "\t1 & Blue & KeSPA & 0 & 2220 & 3.28742 & 4.34984 & $\\dots$ \\\\\n",
       "\t2 & Blue & KeSPA & 0 & 2227 & 1.83333 & 5.64785 & $\\dots$ \\\\\n",
       "\t3 & Blue & KeSPA & 0 & 1711 & 4.0 & 5.64785 & $\\dots$ \\\\\n",
       "\t4 & Blue & KeSPA & 0 & 1999 & 4.0 & 5.64785 & $\\dots$ \\\\\n",
       "\t5 & Blue & KeSPA & 0 & 1812 & 4.37816 & 9.625 & $\\dots$ \\\\\n",
       "\t6 & Blue & KeSPA & 0 & 1548 & 4.17222 & 9.25 & $\\dots$ \\\\\n",
       "\t7 & Blue & KeSPA & 0 & 1594 & 4.17222 & 9.25 & $\\dots$ \\\\\n",
       "\t8 & Blue & KeSPA & 0 & 1393 & 3.28742 & 4.34984 & $\\dots$ \\\\\n",
       "\t9 & Blue & KeSPA & 0 & 1809 & 4.17222 & 9.25 & $\\dots$ \\\\\n",
       "\t10 & Blue & KeSPA & 0 & 2085 & 3.28742 & 4.34984 & $\\dots$ \\\\\n",
       "\t11 & Blue & LPL & 0 & 2640 & 4.17879 & 4.07107 & $\\dots$ \\\\\n",
       "\t12 & Blue & LPL & 0 & 1814 & 4.17879 & 4.07107 & $\\dots$ \\\\\n",
       "\t13 & Blue & LPL & 0 & 2283 & 4.23161 & 4.57073 & $\\dots$ \\\\\n",
       "\t14 & Blue & LPL & 0 & 1943 & 4.17879 & 4.44291 & $\\dots$ \\\\\n",
       "\t15 & Blue & LPL & 0 & 1517 & 4.59167 & 5.90324 & $\\dots$ \\\\\n",
       "\t16 & Blue & LPL & 0 & 2116 & 4.23161 & 4.57073 & $\\dots$ \\\\\n",
       "\t17 & Blue & LPL & 0 & 2108 & 3.70859 & 3.11905 & $\\dots$ \\\\\n",
       "\t18 & Blue & LPL & 0 & 1934 & 2.70862 & 3.11574 & $\\dots$ \\\\\n",
       "\t19 & Blue & LPL & 0 & 1666 & 2.48722 & 4.11905 & $\\dots$ \\\\\n",
       "\t20 & Blue & LPL & 0 & 1852 & 2.48722 & 4.11905 & $\\dots$ \\\\\n",
       "\t21 & Blue & LPL & 0 & 1776 & 5.39298 & 5.85093 & $\\dots$ \\\\\n",
       "\t22 & Blue & LPL & 0 & 2128 & 5.39298 & 5.85093 & $\\dots$ \\\\\n",
       "\t23 & Blue & LPL & 0 & 1426 & 4.17879 & 4.44291 & $\\dots$ \\\\\n",
       "\t24 & Blue & LPL & 0 & 1710 & 4.08382 & 4.68294 & $\\dots$ \\\\\n",
       "\t25 & Blue & LPL & 0 & 1645 & 2.29683 & 8.28333 & $\\dots$ \\\\\n",
       "\t26 & Blue & LPL & 0 & 2484 &  & 8.28333 & $\\dots$ \\\\\n",
       "\t27 & Blue & LPL & 0 & 2436 &  & 3.11574 & $\\dots$ \\\\\n",
       "\t28 & Blue & LPL & 0 & 2097 & 4.28962 & 6.24392 & $\\dots$ \\\\\n",
       "\t29 & Blue & LPL & 0 & 2343 & 4.74686 & 7.44199 & $\\dots$ \\\\\n",
       "\t30 & Blue & LPL & 0 & 1617 & 3.70859 & 3.11905 & $\\dots$ \\\\\n",
       "\t$\\dots$ & $\\dots$ & $\\dots$ & $\\dots$ & $\\dots$ & $\\dots$ & $\\dots$ &  \\\\\n",
       "\\end{tabular}\n"
      ],
      "text/plain": [
       "10938×484 DataFrame. Omitted printing of 480 columns\n",
       "│ Row   │ side          │ league        │ playoffs │ gamelength │\n",
       "│       │ \u001b[90mCategorical…⍰\u001b[39m │ \u001b[90mCategorical…⍰\u001b[39m │ \u001b[90mInt64⍰\u001b[39m   │ \u001b[90mInt64⍰\u001b[39m     │\n",
       "├───────┼───────────────┼───────────────┼──────────┼────────────┤\n",
       "│ 1     │ Blue          │ KeSPA         │ 0        │ 2220       │\n",
       "│ 2     │ Blue          │ KeSPA         │ 0        │ 2227       │\n",
       "│ 3     │ Blue          │ KeSPA         │ 0        │ 1711       │\n",
       "│ 4     │ Blue          │ KeSPA         │ 0        │ 1999       │\n",
       "│ 5     │ Blue          │ KeSPA         │ 0        │ 1812       │\n",
       "│ 6     │ Blue          │ KeSPA         │ 0        │ 1548       │\n",
       "│ 7     │ Blue          │ KeSPA         │ 0        │ 1594       │\n",
       "│ 8     │ Blue          │ KeSPA         │ 0        │ 1393       │\n",
       "│ 9     │ Blue          │ KeSPA         │ 0        │ 1809       │\n",
       "│ 10    │ Blue          │ KeSPA         │ 0        │ 2085       │\n",
       "⋮\n",
       "│ 10928 │ Red           │ WCS           │ 0        │ 1609       │\n",
       "│ 10929 │ Red           │ WCS           │ 0        │ 1972       │\n",
       "│ 10930 │ Red           │ WCS           │ 0        │ 1618       │\n",
       "│ 10931 │ Red           │ WCS           │ 0        │ 2022       │\n",
       "│ 10932 │ Red           │ WCS           │ 0        │ 2166       │\n",
       "│ 10933 │ Red           │ WCS           │ 0        │ 1784       │\n",
       "│ 10934 │ Red           │ WCS           │ 0        │ 1608       │\n",
       "│ 10935 │ Red           │ WCS           │ 0        │ 1522       │\n",
       "│ 10936 │ Red           │ WCS           │ 0        │ 1804       │\n",
       "│ 10937 │ Red           │ WCS           │ 0        │ 1743       │\n",
       "│ 10938 │ Red           │ WCS           │ 0        │ 1935       │"
      ]
     },
     "execution_count": 17,
     "metadata": {},
     "output_type": "execute_result"
    }
   ],
   "source": [
    "# Reading in data\n",
    "test_2y1y_2row = DataFrame(CSV.File(\"../data/test_2y1y_2row_nochamp.csv\", header=true, missingstring=\"NA\", categorical=true))\n",
    "\n",
    "# Making variables categorical variables, train set\n",
    "# categorical!(train_2y1y_2row, :playoffs)\n",
    "\n",
    "# Same categorical for testing set\n",
    "allowmissing!(test_2y1y_2row)"
   ]
  },
  {
   "cell_type": "code",
   "execution_count": 18,
   "metadata": {},
   "outputs": [
    {
     "data": {
      "text/html": [
       "<table class=\"data-frame\"><thead><tr><th></th><th>playoffs</th><th>gamelength</th><th>avg_kda_6mon_top</th><th>avg_kda_6mon_jng</th><th>avg_kda_6mon_mid</th><th>avg_kda_6mon_bot</th></tr><tr><th></th><th>Int64⍰</th><th>Int64⍰</th><th>Float64⍰</th><th>Float64⍰</th><th>Float64⍰</th><th>Float64⍰</th></tr></thead><tbody><p>10,938 rows × 242 columns (omitted printing of 236 columns)</p><tr><th>1</th><td>0</td><td>2220</td><td>3.28742</td><td>4.34984</td><td>4.96748</td><td>4.5</td></tr><tr><th>2</th><td>0</td><td>2227</td><td>1.83333</td><td>5.64785</td><td>5.18427</td><td>6.76505</td></tr><tr><th>3</th><td>0</td><td>1711</td><td>4.0</td><td>5.64785</td><td>5.18427</td><td>6.76505</td></tr><tr><th>4</th><td>0</td><td>1999</td><td>4.0</td><td>5.64785</td><td>5.18427</td><td>6.76505</td></tr><tr><th>5</th><td>0</td><td>1812</td><td>4.37816</td><td>9.625</td><td>6.2963</td><td>5.58103</td></tr><tr><th>6</th><td>0</td><td>1548</td><td>4.17222</td><td>9.25</td><td>6.05133</td><td>5.26667</td></tr><tr><th>7</th><td>0</td><td>1594</td><td>4.17222</td><td>9.25</td><td>6.05133</td><td>5.26667</td></tr><tr><th>8</th><td>0</td><td>1393</td><td>3.28742</td><td>4.34984</td><td>4.91541</td><td>2.93639</td></tr><tr><th>9</th><td>0</td><td>1809</td><td>4.17222</td><td>9.25</td><td>6.05133</td><td>5.26667</td></tr><tr><th>10</th><td>0</td><td>2085</td><td>3.28742</td><td>4.34984</td><td>4.96748</td><td>4.5</td></tr><tr><th>11</th><td>0</td><td>2640</td><td>4.17879</td><td>4.07107</td><td>4.76929</td><td>4.49709</td></tr><tr><th>12</th><td>0</td><td>1814</td><td>4.17879</td><td>4.07107</td><td>4.76929</td><td>4.49709</td></tr><tr><th>13</th><td>0</td><td>2283</td><td>4.23161</td><td>4.57073</td><td>2.68571</td><td>4.94498</td></tr><tr><th>14</th><td>0</td><td>1943</td><td>4.17879</td><td>4.44291</td><td>4.76929</td><td>4.49709</td></tr><tr><th>15</th><td>0</td><td>1517</td><td>4.59167</td><td>5.90324</td><td>4.96569</td><td>5.83889</td></tr><tr><th>16</th><td>0</td><td>2116</td><td>4.23161</td><td>4.57073</td><td>2.68571</td><td>4.94498</td></tr><tr><th>17</th><td>0</td><td>2108</td><td>3.70859</td><td>3.11905</td><td>5.66667</td><td>missing</td></tr><tr><th>18</th><td>0</td><td>1934</td><td>2.70862</td><td>3.11574</td><td>7.07042</td><td>5.07759</td></tr><tr><th>19</th><td>0</td><td>1666</td><td>2.48722</td><td>4.11905</td><td>3.10536</td><td>5.05147</td></tr><tr><th>20</th><td>0</td><td>1852</td><td>2.48722</td><td>4.11905</td><td>3.10536</td><td>5.05147</td></tr><tr><th>21</th><td>0</td><td>1776</td><td>5.39298</td><td>5.85093</td><td>4.28739</td><td>6.86354</td></tr><tr><th>22</th><td>0</td><td>2128</td><td>5.39298</td><td>5.85093</td><td>4.28739</td><td>6.86354</td></tr><tr><th>23</th><td>0</td><td>1426</td><td>4.17879</td><td>4.44291</td><td>4.76929</td><td>4.49709</td></tr><tr><th>24</th><td>0</td><td>1710</td><td>4.08382</td><td>4.68294</td><td>5.40469</td><td>5.12941</td></tr><tr><th>25</th><td>0</td><td>1645</td><td>2.29683</td><td>8.28333</td><td>4.62632</td><td>3.88095</td></tr><tr><th>26</th><td>0</td><td>2484</td><td>missing</td><td>8.28333</td><td>4.62632</td><td>3.88095</td></tr><tr><th>27</th><td>0</td><td>2436</td><td>missing</td><td>3.11574</td><td>7.07042</td><td>5.07759</td></tr><tr><th>28</th><td>0</td><td>2097</td><td>4.28962</td><td>6.24392</td><td>missing</td><td>missing</td></tr><tr><th>29</th><td>0</td><td>2343</td><td>4.74686</td><td>7.44199</td><td>7.95321</td><td>8.45984</td></tr><tr><th>30</th><td>0</td><td>1617</td><td>3.70859</td><td>3.11905</td><td>5.66667</td><td>missing</td></tr><tr><th>&vellip;</th><td>&vellip;</td><td>&vellip;</td><td>&vellip;</td><td>&vellip;</td><td>&vellip;</td><td>&vellip;</td></tr></tbody></table>"
      ],
      "text/latex": [
       "\\begin{tabular}{r|ccccccc}\n",
       "\t& playoffs & gamelength & avg\\_kda\\_6mon\\_top & avg\\_kda\\_6mon\\_jng & avg\\_kda\\_6mon\\_mid & avg\\_kda\\_6mon\\_bot & \\\\\n",
       "\t\\hline\n",
       "\t& Int64⍰ & Int64⍰ & Float64⍰ & Float64⍰ & Float64⍰ & Float64⍰ & \\\\\n",
       "\t\\hline\n",
       "\t1 & 0 & 2220 & 3.28742 & 4.34984 & 4.96748 & 4.5 & $\\dots$ \\\\\n",
       "\t2 & 0 & 2227 & 1.83333 & 5.64785 & 5.18427 & 6.76505 & $\\dots$ \\\\\n",
       "\t3 & 0 & 1711 & 4.0 & 5.64785 & 5.18427 & 6.76505 & $\\dots$ \\\\\n",
       "\t4 & 0 & 1999 & 4.0 & 5.64785 & 5.18427 & 6.76505 & $\\dots$ \\\\\n",
       "\t5 & 0 & 1812 & 4.37816 & 9.625 & 6.2963 & 5.58103 & $\\dots$ \\\\\n",
       "\t6 & 0 & 1548 & 4.17222 & 9.25 & 6.05133 & 5.26667 & $\\dots$ \\\\\n",
       "\t7 & 0 & 1594 & 4.17222 & 9.25 & 6.05133 & 5.26667 & $\\dots$ \\\\\n",
       "\t8 & 0 & 1393 & 3.28742 & 4.34984 & 4.91541 & 2.93639 & $\\dots$ \\\\\n",
       "\t9 & 0 & 1809 & 4.17222 & 9.25 & 6.05133 & 5.26667 & $\\dots$ \\\\\n",
       "\t10 & 0 & 2085 & 3.28742 & 4.34984 & 4.96748 & 4.5 & $\\dots$ \\\\\n",
       "\t11 & 0 & 2640 & 4.17879 & 4.07107 & 4.76929 & 4.49709 & $\\dots$ \\\\\n",
       "\t12 & 0 & 1814 & 4.17879 & 4.07107 & 4.76929 & 4.49709 & $\\dots$ \\\\\n",
       "\t13 & 0 & 2283 & 4.23161 & 4.57073 & 2.68571 & 4.94498 & $\\dots$ \\\\\n",
       "\t14 & 0 & 1943 & 4.17879 & 4.44291 & 4.76929 & 4.49709 & $\\dots$ \\\\\n",
       "\t15 & 0 & 1517 & 4.59167 & 5.90324 & 4.96569 & 5.83889 & $\\dots$ \\\\\n",
       "\t16 & 0 & 2116 & 4.23161 & 4.57073 & 2.68571 & 4.94498 & $\\dots$ \\\\\n",
       "\t17 & 0 & 2108 & 3.70859 & 3.11905 & 5.66667 &  & $\\dots$ \\\\\n",
       "\t18 & 0 & 1934 & 2.70862 & 3.11574 & 7.07042 & 5.07759 & $\\dots$ \\\\\n",
       "\t19 & 0 & 1666 & 2.48722 & 4.11905 & 3.10536 & 5.05147 & $\\dots$ \\\\\n",
       "\t20 & 0 & 1852 & 2.48722 & 4.11905 & 3.10536 & 5.05147 & $\\dots$ \\\\\n",
       "\t21 & 0 & 1776 & 5.39298 & 5.85093 & 4.28739 & 6.86354 & $\\dots$ \\\\\n",
       "\t22 & 0 & 2128 & 5.39298 & 5.85093 & 4.28739 & 6.86354 & $\\dots$ \\\\\n",
       "\t23 & 0 & 1426 & 4.17879 & 4.44291 & 4.76929 & 4.49709 & $\\dots$ \\\\\n",
       "\t24 & 0 & 1710 & 4.08382 & 4.68294 & 5.40469 & 5.12941 & $\\dots$ \\\\\n",
       "\t25 & 0 & 1645 & 2.29683 & 8.28333 & 4.62632 & 3.88095 & $\\dots$ \\\\\n",
       "\t26 & 0 & 2484 &  & 8.28333 & 4.62632 & 3.88095 & $\\dots$ \\\\\n",
       "\t27 & 0 & 2436 &  & 3.11574 & 7.07042 & 5.07759 & $\\dots$ \\\\\n",
       "\t28 & 0 & 2097 & 4.28962 & 6.24392 &  &  & $\\dots$ \\\\\n",
       "\t29 & 0 & 2343 & 4.74686 & 7.44199 & 7.95321 & 8.45984 & $\\dots$ \\\\\n",
       "\t30 & 0 & 1617 & 3.70859 & 3.11905 & 5.66667 &  & $\\dots$ \\\\\n",
       "\t$\\dots$ & $\\dots$ & $\\dots$ & $\\dots$ & $\\dots$ & $\\dots$ & $\\dots$ &  \\\\\n",
       "\\end{tabular}\n"
      ],
      "text/plain": [
       "10938×242 DataFrame. Omitted printing of 238 columns\n",
       "│ Row   │ playoffs │ gamelength │ avg_kda_6mon_top │ avg_kda_6mon_jng │\n",
       "│       │ \u001b[90mInt64⍰\u001b[39m   │ \u001b[90mInt64⍰\u001b[39m     │ \u001b[90mFloat64⍰\u001b[39m         │ \u001b[90mFloat64⍰\u001b[39m         │\n",
       "├───────┼──────────┼────────────┼──────────────────┼──────────────────┤\n",
       "│ 1     │ 0        │ 2220       │ 3.28742          │ 4.34984          │\n",
       "│ 2     │ 0        │ 2227       │ 1.83333          │ 5.64785          │\n",
       "│ 3     │ 0        │ 1711       │ 4.0              │ 5.64785          │\n",
       "│ 4     │ 0        │ 1999       │ 4.0              │ 5.64785          │\n",
       "│ 5     │ 0        │ 1812       │ 4.37816          │ 9.625            │\n",
       "│ 6     │ 0        │ 1548       │ 4.17222          │ 9.25             │\n",
       "│ 7     │ 0        │ 1594       │ 4.17222          │ 9.25             │\n",
       "│ 8     │ 0        │ 1393       │ 3.28742          │ 4.34984          │\n",
       "│ 9     │ 0        │ 1809       │ 4.17222          │ 9.25             │\n",
       "│ 10    │ 0        │ 2085       │ 3.28742          │ 4.34984          │\n",
       "⋮\n",
       "│ 10928 │ 0        │ 1609       │ \u001b[90mmissing\u001b[39m          │ \u001b[90mmissing\u001b[39m          │\n",
       "│ 10929 │ 0        │ 1972       │ \u001b[90mmissing\u001b[39m          │ \u001b[90mmissing\u001b[39m          │\n",
       "│ 10930 │ 0        │ 1618       │ \u001b[90mmissing\u001b[39m          │ \u001b[90mmissing\u001b[39m          │\n",
       "│ 10931 │ 0        │ 2022       │ \u001b[90mmissing\u001b[39m          │ \u001b[90mmissing\u001b[39m          │\n",
       "│ 10932 │ 0        │ 2166       │ \u001b[90mmissing\u001b[39m          │ \u001b[90mmissing\u001b[39m          │\n",
       "│ 10933 │ 0        │ 1784       │ \u001b[90mmissing\u001b[39m          │ \u001b[90mmissing\u001b[39m          │\n",
       "│ 10934 │ 0        │ 1608       │ \u001b[90mmissing\u001b[39m          │ \u001b[90mmissing\u001b[39m          │\n",
       "│ 10935 │ 0        │ 1522       │ \u001b[90mmissing\u001b[39m          │ \u001b[90mmissing\u001b[39m          │\n",
       "│ 10936 │ 0        │ 1804       │ \u001b[90mmissing\u001b[39m          │ \u001b[90mmissing\u001b[39m          │\n",
       "│ 10937 │ 0        │ 1743       │ \u001b[90mmissing\u001b[39m          │ \u001b[90mmissing\u001b[39m          │\n",
       "│ 10938 │ 0        │ 1935       │ \u001b[90mmissing\u001b[39m          │ \u001b[90mmissing\u001b[39m          │"
      ]
     },
     "execution_count": 18,
     "metadata": {},
     "output_type": "execute_result"
    }
   ],
   "source": [
    "test_2y1y_2row_noenemy = test_2y1y_2row[:,3:244]"
   ]
  },
  {
   "cell_type": "code",
   "execution_count": null,
   "metadata": {},
   "outputs": [],
   "source": [
    "lol_imputed_knn = IAI.impute(test_2y1y_2row_noenemy,:opt_knn,max_iter=50,warmstart_use_knn=false,warmstart_num_random_starts=1)"
   ]
  },
  {
   "cell_type": "code",
   "execution_count": 148,
   "metadata": {},
   "outputs": [
    {
     "data": {
      "text/plain": [
       "RObject{NilSxp}\n",
       "NULL\n"
      ]
     },
     "execution_count": 148,
     "metadata": {},
     "output_type": "execute_result"
    }
   ],
   "source": [
    "using CSV, DataFrames, RCall\n",
    "\n",
    "# CSV.write(\"/Users/pan/Desktop\", DataFrame(a));\n",
    "\n",
    "\n",
    "@rput lol_imputed_knn\n",
    "\n",
    "R\"\"\"\n",
    "write.csv(lol_imputed_knn,'../data/train_2y1y_2row_nochamp_noenemy_nocat_imputed.csv', row.names = FALSE)\n",
    "\"\"\""
   ]
  },
  {
   "cell_type": "code",
   "execution_count": null,
   "metadata": {},
   "outputs": [],
   "source": []
  }
 ],
 "metadata": {
  "kernelspec": {
   "display_name": "Julia 1.3.1",
   "language": "julia",
   "name": "julia-1.3"
  },
  "language_info": {
   "file_extension": ".jl",
   "mimetype": "application/julia",
   "name": "julia",
   "version": "1.3.1"
  }
 },
 "nbformat": 4,
 "nbformat_minor": 4
}
