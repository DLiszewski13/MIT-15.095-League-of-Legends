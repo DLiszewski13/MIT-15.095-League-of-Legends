{
 "cells": [
  {
   "cell_type": "markdown",
   "metadata": {},
   "source": [
    "# Optimal Feature (Exact Method)"
   ]
  },
  {
   "cell_type": "markdown",
   "metadata": {},
   "source": [
    "# Train 1st half, Test 2nd half (2019, 1 year imputation)"
   ]
  },
  {
   "cell_type": "markdown",
   "metadata": {},
   "source": [
    "## Reading in Data"
   ]
  },
  {
   "cell_type": "code",
   "execution_count": 5,
   "metadata": {},
   "outputs": [],
   "source": [
    "using CSV, DataFrames, Statistics, Random, Gurobi, JuMP"
   ]
  },
  {
   "cell_type": "code",
   "execution_count": 9,
   "metadata": {},
   "outputs": [
    {
     "name": "stdout",
     "output_type": "stream",
     "text": [
      "\u001b[32m\u001b[1m    Status\u001b[22m\u001b[39m `~/.julia/environments/v1.3/Project.toml`\n",
      " \u001b[90m [336ed68f]\u001b[39m\u001b[37m CSV v0.5.21\u001b[39m\n",
      " \u001b[90m [aaaa29a8]\u001b[39m\u001b[37m Clustering v0.14.2\u001b[39m\n",
      " \u001b[90m [a93c6f00]\u001b[39m\u001b[37m DataFrames v0.20.0\u001b[39m\n",
      " \u001b[90m [7806a523]\u001b[39m\u001b[37m DecisionTree v0.10.10\u001b[39m\n",
      " \u001b[90m [2e9cd046]\u001b[39m\u001b[37m Gurobi v0.9.2\u001b[39m\n",
      " \u001b[90m [7073ff75]\u001b[39m\u001b[37m IJulia v1.22.0\u001b[39m\n",
      " \u001b[90m [4076af6c]\u001b[39m\u001b[37m JuMP v0.21.5\u001b[39m\n",
      " \u001b[90m [2d691ee1]\u001b[39m\u001b[37m LIBLINEAR v0.5.1 ⚲\u001b[39m\n",
      " \u001b[90m [b1bec4e5]\u001b[39m\u001b[37m LIBSVM v0.4.0 ⚲\u001b[39m\n",
      " \u001b[90m [cc2ba9b6]\u001b[39m\u001b[37m MLDataUtils v0.5.2\u001b[39m\n",
      " \u001b[90m [6f286f6a]\u001b[39m\u001b[37m MultivariateStats v0.8.0\u001b[39m\n",
      " \u001b[90m [58dd65bb]\u001b[39m\u001b[37m Plotly v0.3.0\u001b[39m\n",
      " \u001b[90m [91a5bcdd]\u001b[39m\u001b[37m Plots v1.6.12\u001b[39m\n",
      " \u001b[90m [438e738f]\u001b[39m\u001b[37m PyCall v1.92.1\u001b[39m\n",
      " \u001b[90m [d330b81b]\u001b[39m\u001b[37m PyPlot v2.9.0\u001b[39m\n",
      " \u001b[90m [6f49c342]\u001b[39m\u001b[37m RCall v0.13.6\u001b[39m\n",
      " \u001b[90m [3646fa90]\u001b[39m\u001b[37m ScikitLearn v0.6.2\u001b[39m\n",
      " \u001b[90m [2913bbd2]\u001b[39m\u001b[37m StatsBase v0.33.2\u001b[39m\n",
      " \u001b[90m [9a3f8284]\u001b[39m\u001b[37m Random \u001b[39m\n",
      " \u001b[90m [10745b16]\u001b[39m\u001b[37m Statistics \u001b[39m\n"
     ]
    }
   ],
   "source": [
    "Pkg.status()"
   ]
  },
  {
   "cell_type": "code",
   "execution_count": 6,
   "metadata": {},
   "outputs": [],
   "source": [
    "train_2019 = DataFrame(CSV.File(\"../../data/Imputed_Final/train_0.5_2019_imputed_full.csv\", header=true,\n",
    "        missingstring=\"NA\", categorical=true))\n",
    "test_2019 = DataFrame(CSV.File(\"../../data/Imputed_Final/test_0.5_2019_imputed_full.csv\", header=true,\n",
    "        missingstring=\"NA\", categorical=true))\n",
    "# Making variables categorical variables, train set\n",
    "categorical!(train_2019, :result)\n",
    "categorical!(train_2019, :playoffs)\n",
    "# Same categorical for testing set\n",
    "categorical!(test_2019, :result)\n",
    "categorical!(test_2019, :playoffs)\n",
    ";"
   ]
  },
  {
   "cell_type": "code",
   "execution_count": 7,
   "metadata": {},
   "outputs": [],
   "source": [
    "train_2019_X = train_2019[:,Not(:result)]\n",
    "train_2019_y = train_2019[:,:result]\n",
    "test_2019_X = test_2019[:,Not(:result)]\n",
    "test_2019_y = test_2019[:,:result]\n",
    ";"
   ]
  },
  {
   "cell_type": "markdown",
   "metadata": {},
   "source": [
    "## Grid 1"
   ]
  },
  {
   "cell_type": "code",
   "execution_count": 24,
   "metadata": {},
   "outputs": [
    {
     "name": "stdout",
     "output_type": "stream",
     "text": [
      "Academic license - for non-commercial use only\n"
     ]
    },
    {
     "data": {
      "text/plain": [
       "GridSearch - Unfitted OptimalFeatureSelectionClassifier:\n",
       "  relaxation:  false\n",
       "  solver:          sense  : minimize\n",
       "    number of variables             = 0\n",
       "    number of linear constraints    = 0\n",
       "    number of quadratic constraints = 0\n",
       "    number of sos constraints       = 0\n",
       "    number of non-zero coeffs       = 0\n",
       "    number of non-zero qp objective terms  = 0\n",
       "    number of non-zero qp constraint terms = 0\n",
       "\n",
       "  random_seed: 15095\n",
       "\n",
       "GridSearch Params:\n",
       "  (sparsity=5,)\n",
       "  (sparsity=6,)\n",
       "  (sparsity=7,)\n",
       "  (sparsity=8,)\n",
       "  (sparsity=9,)\n",
       "  (sparsity=10,)\n",
       "  (sparsity=11,)\n",
       "  (sparsity=12,)"
      ]
     },
     "execution_count": 24,
     "metadata": {},
     "output_type": "execute_result"
    }
   ],
   "source": [
    "lnr_2019_grid = IAI.OptimalFeatureSelectionClassifier(\n",
    "        random_seed=15095,\n",
    "        relaxation = false,\n",
    "        criterion = :entropy,\n",
    "        solver= Gurobi.Optimizer() #optimizer_with_attributes( \"TimeLimit\" => 60\n",
    "    )\n",
    "\n",
    "grid_2019 = IAI.GridSearch(lnr_2019_grid,sparsity=5:12)\n"
   ]
  },
  {
   "cell_type": "code",
   "execution_count": 25,
   "metadata": {},
   "outputs": [
    {
     "name": "stderr",
     "output_type": "stream",
     "text": [
      "\r",
      "\u001b[32mParameter combination...             0%|                |  ETA: N/A\u001b[39m\n",
      "\u001b[34m  Parameters:  sparsity=>5\u001b[39m\r",
      "\u001b[A"
     ]
    },
    {
     "name": "stdout",
     "output_type": "stream",
     "text": [
      "\n",
      "\n"
     ]
    },
    {
     "ename": "AssertionError",
     "evalue": "AssertionError: lnr.solver isa MathProgBase.AbstractMathProgSolver",
     "output_type": "error",
     "traceback": [
      "AssertionError: lnr.solver isa MathProgBase.AbstractMathProgSolver",
      "",
      "Stacktrace:",
      " [1] fit_exact!(::OptimalFeatureSelection.OptimalFeatureSelectionClassifier, ::IAIBase.Problem{IAIBase.ClassificationTask,IAIBase.Entropy,IAIBase.StandardBaseline{IAIBase.ClassificationTask},IAIBase.ClassificationTarget}, ::Int64, ::IAIBase.RandomStreams.MRG32k3a) at /Users/iai/builds/InterpretableAI/SysImgBuilder/.julia/packages/OptimalFeatureSelection/b0wcC/src/exact.jl:22",
      " [2] (::OptimalFeatureSelection.var\"#13#14\"{OptimalFeatureSelection.OptimalFeatureSelectionClassifier,Int64,IAIBase.RandomStreams.MRG32k3a})() at /Applications/Julia-1.3.app/Contents/Resources/julia/lib/julia/sys.dylib:?",
      " [3] #3 at /Users/iai/builds/InterpretableAI/SysImgBuilder/.julia/packages/OptimalFeatureSelection/b0wcC/src/learner.jl:49 [inlined]",
      " [4] standardize_y!(::OptimalFeatureSelection.var\"#3#6\"{OptimalFeatureSelection.var\"#13#14\"{OptimalFeatureSelection.OptimalFeatureSelectionClassifier,Int64,IAIBase.RandomStreams.MRG32k3a}}, ::OptimalFeatureSelection.OptimalFeatureSelectionClassifier) at /Users/iai/builds/InterpretableAI/SysImgBuilder/.julia/packages/OptimalFeatureSelection/b0wcC/src/classification/learner.jl:42",
      " [5] standardize!(::OptimalFeatureSelection.var\"#13#14\"{OptimalFeatureSelection.OptimalFeatureSelectionClassifier,Int64,IAIBase.RandomStreams.MRG32k3a}, ::OptimalFeatureSelection.OptimalFeatureSelectionClassifier) at /Users/iai/builds/InterpretableAI/SysImgBuilder/.julia/packages/OptimalFeatureSelection/b0wcC/src/learner.jl:48",
      " [6] _fit!(::OptimalFeatureSelection.OptimalFeatureSelectionClassifier) at /Users/iai/builds/InterpretableAI/SysImgBuilder/.julia/packages/OptimalFeatureSelection/b0wcC/src/api.jl:19",
      " [7] #_fit!#148 at /Users/iai/builds/InterpretableAI/SysImgBuilder/.julia/packages/IAIBase/S996c/src/api.jl:144 [inlined]",
      " [8] _fit! at /Users/iai/builds/InterpretableAI/SysImgBuilder/.julia/packages/IAIBase/S996c/src/api.jl:143 [inlined]",
      " [9] #fit!#227 at /Users/iai/builds/InterpretableAI/SysImgBuilder/.julia/packages/IAIBase/S996c/src/api.jl:51 [inlined]",
      " [10] (::IAIBase.var\"#kw##fit!\")(::NamedTuple{(:sample_weight,),Tuple{Nothing}}, ::typeof(IAIBase.fit!), ::OptimalFeatureSelection.OptimalFeatureSelectionClassifier, ::SubDataFrame{DataFrame,DataFrames.Index,Array{Int64,1}}, ::SubArray{CategoricalValue{Int64,UInt32},1,CategoricalArray{Int64,1,UInt32,Int64,CategoricalValue{Int64,UInt32},Union{}},Tuple{Array{Int64,1}},false}) at ./none:0",
      " [11] #grid_fit!#137(::Base.Iterators.Pairs{Union{},Union{},Tuple{},NamedTuple{(),Tuple{}}}, ::typeof(IAIBase.grid_fit!), ::OptimalFeatureSelection.OptimalFeatureSelectionClassifier, ::Tuple{Array{Int64,1},Array{Int64,1}}, ::Dict{Symbol,Any}, ::Symbol, ::DataFrame, ::Nothing, ::CategoricalArray{Int64,1,UInt32,Int64,CategoricalValue{Int64,UInt32},Union{}}) at /Users/iai/builds/InterpretableAI/SysImgBuilder/.julia/packages/IAIBase/S996c/src/gridsearch.jl:567",
      " [12] grid_fit! at /Users/iai/builds/InterpretableAI/SysImgBuilder/.julia/packages/IAIBase/S996c/src/gridsearch.jl:556 [inlined]",
      " [13] #_fit!#123(::Bool, ::Base.Iterators.Pairs{Union{},Union{},Tuple{},NamedTuple{(),Tuple{}}}, ::typeof(IAIBase._fit!), ::IAIBase.GridSearch{OptimalFeatureSelection.OptimalFeatureSelectionClassifier,IAIBase.NullGridResult}, ::DataFrame, ::Nothing, ::Symbol, ::CategoricalArray{Int64,1,UInt32,Int64,CategoricalValue{Int64,UInt32},Union{}}) at /Users/iai/builds/InterpretableAI/SysImgBuilder/.julia/packages/IAIBase/S996c/src/gridsearch.jl:437",
      " [14] _fit! at /Users/iai/builds/InterpretableAI/SysImgBuilder/.julia/packages/IAIBase/S996c/src/gridsearch.jl:405 [inlined]",
      " [15] #_fit!#122 at /Users/iai/builds/InterpretableAI/SysImgBuilder/.julia/packages/IAIBase/S996c/src/gridsearch.jl:389 [inlined]",
      " [16] #_fit! at ./none:0 [inlined]",
      " [17] #_fit!#120(::Base.Iterators.Pairs{Symbol,Symbol,Tuple{Symbol},NamedTuple{(:validation_criterion,),Tuple{Symbol}}}, ::typeof(IAIBase._fit!), ::IAIBase.GridSearch{OptimalFeatureSelection.OptimalFeatureSelectionClassifier,IAIBase.NullGridResult}, ::DataFrame, ::Nothing, ::Float64, ::CategoricalArray{Int64,1,UInt32,Int64,CategoricalValue{Int64,UInt32},Union{}}) at /Users/iai/builds/InterpretableAI/SysImgBuilder/.julia/packages/IAIBase/S996c/src/gridsearch.jl:315",
      " [18] (::IAIBase.var\"#kw##fit!\")(::NamedTuple{(:validation_criterion,),Tuple{Symbol}}, ::typeof(IAIBase.fit!), ::IAIBase.GridSearch{OptimalFeatureSelection.OptimalFeatureSelectionClassifier,IAIBase.NullGridResult}, ::DataFrame, ::CategoricalArray{Int64,1,UInt32,Int64,CategoricalValue{Int64,UInt32},Union{}}) at ./none:0",
      " [19] top-level scope at In[25]:1"
     ]
    }
   ],
   "source": [
    "IAI.fit!(grid_2019, train_2019_X, train_2019_y, validation_criterion=:auc)"
   ]
  },
  {
   "cell_type": "code",
   "execution_count": 12,
   "metadata": {},
   "outputs": [
    {
     "data": {
      "text/plain": [
       "0.5826014359463996"
      ]
     },
     "execution_count": 12,
     "metadata": {},
     "output_type": "execute_result"
    }
   ],
   "source": [
    "lnr_2019_best_1 = IAI.get_learner(grid_2019)\n",
    "\n",
    "IAI.score(grid_2019, test_2019_X, test_2019_y, criterion=:auc)"
   ]
  },
  {
   "cell_type": "code",
   "execution_count": 13,
   "metadata": {},
   "outputs": [
    {
     "data": {
      "text/plain": [
       "0.5700378583017848"
      ]
     },
     "execution_count": 13,
     "metadata": {},
     "output_type": "execute_result"
    }
   ],
   "source": [
    "IAI.score(grid_2019, test_2019_X, test_2019_y, criterion=:accuracy, positive_label = 1)"
   ]
  },
  {
   "cell_type": "code",
   "execution_count": null,
   "metadata": {},
   "outputs": [],
   "source": []
  }
 ],
 "metadata": {
  "kernelspec": {
   "display_name": "Julia 1.3.1",
   "language": "julia",
   "name": "julia-1.3"
  },
  "language_info": {
   "file_extension": ".jl",
   "mimetype": "application/julia",
   "name": "julia",
   "version": "1.3.1"
  }
 },
 "nbformat": 4,
 "nbformat_minor": 4
}
