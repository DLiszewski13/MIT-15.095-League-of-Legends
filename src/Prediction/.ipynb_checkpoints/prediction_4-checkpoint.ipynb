{
 "cells": [
  {
   "cell_type": "markdown",
   "metadata": {},
   "source": [
    "# Optimal Feature (Exact Method)"
   ]
  },
  {
   "cell_type": "markdown",
   "metadata": {},
   "source": [
    "# Train 1st half, Test 2nd half (2019, 1 year imputation)"
   ]
  },
  {
   "cell_type": "markdown",
   "metadata": {},
   "source": [
    "## Reading in Data"
   ]
  },
  {
   "cell_type": "code",
   "execution_count": 3,
   "metadata": {},
   "outputs": [],
   "source": [
    "using CSV, DataFrames, Statistics, Random, Gurobi, JuMP"
   ]
  },
  {
   "cell_type": "code",
   "execution_count": 13,
   "metadata": {},
   "outputs": [],
   "source": [
    "train_2019 = DataFrame(CSV.File(\"../../data/Imputed_Final/train_0.5_2019_imputed_full.csv\", header=true,\n",
    "        missingstring=\"NA\", categorical=true))\n",
    "test_2019 = DataFrame(CSV.File(\"../../data/Imputed_Final/test_0.5_2019_imputed_full.csv\", header=true,\n",
    "        missingstring=\"NA\", categorical=true))\n",
    "# Making variables categorical variables, train set\n",
    "categorical!(train_2019, :result)\n",
    "categorical!(train_2019, :playoffs)\n",
    "# Same categorical for testing set\n",
    "categorical!(test_2019, :result)\n",
    "categorical!(test_2019, :playoffs)\n",
    ";"
   ]
  },
  {
   "cell_type": "code",
   "execution_count": 14,
   "metadata": {},
   "outputs": [],
   "source": [
    "train_2019_X = train_2019[:,Not(:result)]\n",
    "train_2019_y = train_2019[:,:result]\n",
    "test_2019_X = test_2019[:,Not(:result)]\n",
    "test_2019_y = test_2019[:,:result]\n",
    ";"
   ]
  },
  {
   "cell_type": "markdown",
   "metadata": {},
   "source": [
    "## Grid 1"
   ]
  },
  {
   "cell_type": "code",
   "execution_count": 9,
   "metadata": {},
   "outputs": [
    {
     "name": "stderr",
     "output_type": "stream",
     "text": [
      "\u001b[32mParameter combination...             0%|                |  ETA: N/A\u001b[39m\n",
      "\u001b[A4m  Parameters:  sparsity=>5\u001b[39m\n",
      "\u001b[32mParameter combination...             5%|▊               |  ETA: 0:00:44\u001b[39m\n",
      "\u001b[A4m  Parameters:  sparsity=>6\u001b[39m\n",
      "\u001b[32mParameter combination...            10%|█▌              |  ETA: 0:00:40\u001b[39m\n",
      "\u001b[A4m  Parameters:  sparsity=>7\u001b[39m\n",
      "\u001b[32mParameter combination...            14%|██▎             |  ETA: 0:00:36\u001b[39m\n",
      "\u001b[A4m  Parameters:  sparsity=>8\u001b[39m\n",
      "\u001b[32mParameter combination...            19%|███             |  ETA: 0:00:32\u001b[39m\n",
      "\u001b[A4m  Parameters:  sparsity=>9\u001b[39m\n",
      "\u001b[32mParameter combination...            24%|███▊            |  ETA: 0:00:31\u001b[39m\n",
      "\u001b[A4m  Parameters:  sparsity=>10\u001b[39m\n",
      "\u001b[32mParameter combination...            29%|████▋           |  ETA: 0:00:28\u001b[39m\n",
      "\u001b[A4m  Parameters:  sparsity=>11\u001b[39m\n",
      "\u001b[32mParameter combination...            33%|█████▍          |  ETA: 0:00:25\u001b[39m\n",
      "\u001b[A4m  Parameters:  sparsity=>12\u001b[39m\n",
      "\u001b[32mParameter combination...            38%|██████▏         |  ETA: 0:00:23\u001b[39m\n",
      "\u001b[A4m  Parameters:  sparsity=>13\u001b[39m\n",
      "\u001b[32mParameter combination...            43%|██████▉         |  ETA: 0:00:21\u001b[39m\n",
      "\u001b[A4m  Parameters:  sparsity=>14\u001b[39m\n",
      "\u001b[32mParameter combination...            48%|███████▋        |  ETA: 0:00:20\u001b[39m\n",
      "\u001b[A4m  Parameters:  sparsity=>15\u001b[39m\n",
      "\u001b[32mParameter combination...            52%|████████▍       |  ETA: 0:00:18\u001b[39m\n",
      "\u001b[A4m  Parameters:  sparsity=>16\u001b[39m\n",
      "\u001b[32mParameter combination...            57%|█████████▏      |  ETA: 0:00:16\u001b[39m\n",
      "\u001b[A4m  Parameters:  sparsity=>17\u001b[39m\n",
      "\u001b[32mParameter combination...            62%|█████████▉      |  ETA: 0:00:14\u001b[39m\n",
      "\u001b[A4m  Parameters:  sparsity=>18\u001b[39m\n",
      "\u001b[32mParameter combination...            67%|██████████▋     |  ETA: 0:00:12\u001b[39m\n",
      "\u001b[A4m  Parameters:  sparsity=>19\u001b[39m\n",
      "\u001b[32mParameter combination...            71%|███████████▍    |  ETA: 0:00:10\u001b[39m\n",
      "\u001b[A4m  Parameters:  sparsity=>20\u001b[39m\n",
      "\u001b[32mParameter combination...            76%|████████████▎   |  ETA: 0:00:09\u001b[39m\n",
      "\u001b[A4m  Parameters:  sparsity=>21\u001b[39m\n",
      "\u001b[32mParameter combination...            81%|█████████████   |  ETA: 0:00:07\u001b[39m\n",
      "\u001b[A4m  Parameters:  sparsity=>22\u001b[39m\n",
      "\u001b[32mParameter combination...            86%|█████████████▊  |  ETA: 0:00:05\u001b[39m\n",
      "\u001b[A4m  Parameters:  sparsity=>23\u001b[39m\n",
      "\u001b[32mParameter combination...            90%|██████████████▌ |  ETA: 0:00:04\u001b[39m\n",
      "\u001b[A4m  Parameters:  sparsity=>24\u001b[39m\n",
      "\u001b[32mParameter combination...            95%|███████████████▎|  ETA: 0:00:02\u001b[39m\n",
      "\u001b[A4m  Parameters:  sparsity=>25\u001b[39m\n",
      "\u001b[32mParameter combination...           100%|████████████████| Time: 0:00:37\u001b[39m\n",
      "\u001b[32mRefitting with best parameters...    0%|                |  ETA: N/A\u001b[39m\n",
      "\u001b[A4m  Parameters:  sparsity=>10\u001b[39m"
     ]
    },
    {
     "name": "stdout",
     "output_type": "stream",
     "text": [
      "\n",
      "\n"
     ]
    },
    {
     "name": "stderr",
     "output_type": "stream",
     "text": [
      "\n",
      "\r",
      "\u001b[K\u001b[A\r",
      "\u001b[32mRefitting with best parameters...  100%|████████████████| Time: 0:00:02\u001b[39m\n",
      "\u001b[34m  Parameters:  sparsity=>10\u001b[39m\r",
      "\u001b[A"
     ]
    },
    {
     "name": "stdout",
     "output_type": "stream",
     "text": [
      "\n",
      "\n"
     ]
    },
    {
     "data": {
      "text/plain": [
       "All Grid Results:\n",
       "\n",
       "│ Row │ sparsity │ train_score │ valid_score │ rank_valid_score │\n",
       "│     │ \u001b[90mInt64\u001b[39m    │ \u001b[90mFloat64\u001b[39m     │ \u001b[90mFloat64\u001b[39m     │ \u001b[90mInt64\u001b[39m            │\n",
       "├─────┼──────────┼─────────────┼─────────────┼──────────────────┤\n",
       "│ 1   │ 5        │ 0.0355006   │ 0.590634    │ 17               │\n",
       "│ 2   │ 6        │ 0.0376854   │ 0.575817    │ 21               │\n",
       "│ 3   │ 7        │ 0.0424893   │ 0.587805    │ 19               │\n",
       "│ 4   │ 8        │ 0.0412618   │ 0.579957    │ 20               │\n",
       "│ 5   │ 9        │ 0.0468596   │ 0.613118    │ 6                │\n",
       "│ 6   │ 10       │ 0.0529921   │ 0.624312    │ 1                │\n",
       "│ 7   │ 11       │ 0.0533606   │ 0.621439    │ 2                │\n",
       "│ 8   │ 12       │ 0.054227    │ 0.61692     │ 3                │\n",
       "│ 9   │ 13       │ 0.0522509   │ 0.615851    │ 4                │\n",
       "│ 10  │ 14       │ 0.0530451   │ 0.613304    │ 5                │\n",
       "│ 11  │ 15       │ 0.0532717   │ 0.61075     │ 7                │\n",
       "│ 12  │ 16       │ 0.0569353   │ 0.608069    │ 9                │\n",
       "│ 13  │ 17       │ 0.0567674   │ 0.608745    │ 8                │\n",
       "│ 14  │ 18       │ 0.059919    │ 0.606135    │ 12               │\n",
       "│ 15  │ 19       │ 0.0666282   │ 0.589116    │ 18               │\n",
       "│ 16  │ 20       │ 0.0599624   │ 0.606001    │ 13               │\n",
       "│ 17  │ 21       │ 0.0650691   │ 0.597429    │ 16               │\n",
       "│ 18  │ 22       │ 0.06089     │ 0.602697    │ 14               │\n",
       "│ 19  │ 23       │ 0.0641433   │ 0.607189    │ 10               │\n",
       "│ 20  │ 24       │ 0.0675958   │ 0.598654    │ 15               │\n",
       "│ 21  │ 25       │ 0.0646088   │ 0.606662    │ 11               │\n",
       "\n",
       "Best Params:\n",
       "  sparsity => 10\n",
       "\n",
       "Best Model - Fitted OptimalFeatureSelectionClassifier:\n",
       "  Constant: -2.09258\n",
       "  Weights:\n",
       "    avg_death_6mon_sup:           3.49792\n",
       "    avg_death_6mon_top_enemy:    -3.12307\n",
       "    avg_dpm_year_bot:             0.00141018\n",
       "    avg_kda_6mon_sup:             0.105538\n",
       "    avg_kda_year_sup:             0.123177\n",
       "    avg_mk_enemy_year_mid:        0.128911\n",
       "    avg_mk_enemy_year_mid_enemy: -0.195288\n",
       "    champion_bot==Morgana:        2.49925\n",
       "    player_wr_6mon_jng:          -0.0492662\n",
       "    player_wr_year_jng:           0.621634"
      ]
     },
     "execution_count": 9,
     "metadata": {},
     "output_type": "execute_result"
    }
   ],
   "source": [
    "lnr_2019_grid = IAI.OptimalFeatureSelectionClassifier(\n",
    "        random_seed=15095,\n",
    "        relaxation = false,\n",
    "        criterion = :entropy,\n",
    "        solver=optimizer_with_attributes(\n",
    "            Gurobi.Optimizer, \n",
    "            \"TimeLimit\" => 60\n",
    "        )\n",
    "    )\n",
    "\n",
    "grid_2019 = IAI.GridSearch(lnr_2019_grid,\n",
    "    sparsity=8:12,\n",
    ")\n",
    "IAI.fit!(grid_2019, train_2019_X, train_2019_y, validation_criterion=:auc)"
   ]
  },
  {
   "cell_type": "code",
   "execution_count": 12,
   "metadata": {},
   "outputs": [
    {
     "data": {
      "text/plain": [
       "0.5826014359463996"
      ]
     },
     "execution_count": 12,
     "metadata": {},
     "output_type": "execute_result"
    }
   ],
   "source": [
    "lnr_2019_best_1 = IAI.get_learner(grid_2019)\n",
    "\n",
    "IAI.score(grid_2019, test_2019_X, test_2019_y, criterion=:auc)"
   ]
  },
  {
   "cell_type": "code",
   "execution_count": 13,
   "metadata": {},
   "outputs": [
    {
     "data": {
      "text/plain": [
       "0.5700378583017848"
      ]
     },
     "execution_count": 13,
     "metadata": {},
     "output_type": "execute_result"
    }
   ],
   "source": [
    "IAI.score(grid_2019, test_2019_X, test_2019_y, criterion=:accuracy, positive_label = 1)"
   ]
  },
  {
   "cell_type": "code",
   "execution_count": null,
   "metadata": {},
   "outputs": [],
   "source": []
  }
 ],
 "metadata": {
  "kernelspec": {
   "display_name": "Julia 1.0.5",
   "language": "julia",
   "name": "julia-1.0"
  },
  "language_info": {
   "file_extension": ".jl",
   "mimetype": "application/julia",
   "name": "julia",
   "version": "1.0.5"
  }
 },
 "nbformat": 4,
 "nbformat_minor": 4
}
