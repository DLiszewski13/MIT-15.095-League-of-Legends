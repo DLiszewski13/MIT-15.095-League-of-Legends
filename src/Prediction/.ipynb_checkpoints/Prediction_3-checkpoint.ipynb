{
 "cells": [
  {
   "cell_type": "markdown",
   "metadata": {},
   "source": [
    "# Optimal Feature Analysis"
   ]
  },
  {
   "cell_type": "markdown",
   "metadata": {},
   "source": [
    "# Train 1st half, Test 2nd half (2019, 1 year imputation)"
   ]
  },
  {
   "cell_type": "markdown",
   "metadata": {},
   "source": [
    "## Reading in Data"
   ]
  },
  {
   "cell_type": "code",
   "execution_count": 1,
   "metadata": {},
   "outputs": [],
   "source": [
    "using CSV, DataFrames, Statistics, Random"
   ]
  },
  {
   "cell_type": "code",
   "execution_count": 2,
   "metadata": {},
   "outputs": [],
   "source": [
    "train_2019 = DataFrame(CSV.File(\"../../data/Imputed_Final/train_0.5_2019_imputed_full.csv\", header=true,\n",
    "        missingstring=\"NA\", categorical=true))\n",
    "test_2019 = DataFrame(CSV.File(\"../../data/Imputed_Final/test_0.5_2019_imputed_full.csv\", header=true,\n",
    "        missingstring=\"NA\", categorical=true))\n",
    "# Making variables categorical variables, train set\n",
    "categorical!(train_2019, :result)\n",
    "categorical!(train_2019, :playoffs)\n",
    "# Same categorical for testing set\n",
    "categorical!(test_2019, :result)\n",
    "categorical!(test_2019, :playoffs)\n",
    ";"
   ]
  },
  {
   "cell_type": "code",
   "execution_count": 3,
   "metadata": {},
   "outputs": [],
   "source": [
    "train_2019_X = train_2019[:,Not(:result)]\n",
    "train_2019_y = train_2019[:,:result]\n",
    "test_2019_X = test_2019[:,Not(:result)]\n",
    "test_2019_y = test_2019[:,:result]\n",
    ";"
   ]
  },
  {
   "cell_type": "markdown",
   "metadata": {},
   "source": [
    "## Initial try"
   ]
  },
  {
   "cell_type": "code",
   "execution_count": 6,
   "metadata": {},
   "outputs": [
    {
     "name": "stderr",
     "output_type": "stream",
     "text": [
      "┌ Warning: This copy of Interpretable AI software is for academic purposes only and not for commercial use.\n",
      "└ @ IAILicensing /Users/iai/builds/InterpretableAI/SysImgBuilder/.julia/packages/IAILicensing/x1CT6/src/precompile.jl:19\n",
      "┌ Warning: Interpretable AI license expires soon: 2020-12-31. If you need to renew, please send us the following machine ID:\n",
      "│ d78e32e2e088eca49ebcc2d647b7d343912d22a263e67eb78b4f2c7a6cdec772\n",
      "└ @ IAILicensing /Users/iai/builds/InterpretableAI/SysImgBuilder/.julia/packages/IAILicensing/x1CT6/src/precompile.jl:29\n"
     ]
    },
    {
     "data": {
      "text/plain": [
       "Fitted OptimalFeatureSelectionClassifier:\n",
       "  Constant: -2.09258\n",
       "  Weights:\n",
       "    avg_death_6mon_sup:           3.49792\n",
       "    avg_death_6mon_top_enemy:    -3.12307\n",
       "    avg_dpm_year_bot:             0.00141018\n",
       "    avg_kda_6mon_sup:             0.105538\n",
       "    avg_kda_year_sup:             0.123177\n",
       "    avg_mk_enemy_year_mid:        0.128911\n",
       "    avg_mk_enemy_year_mid_enemy: -0.195288\n",
       "    champion_bot==Morgana:        2.49925\n",
       "    player_wr_6mon_jng:          -0.0492662\n",
       "    player_wr_year_jng:           0.621634"
      ]
     },
     "execution_count": 6,
     "metadata": {},
     "output_type": "execute_result"
    }
   ],
   "source": [
    "lnr_2019 = IAI.OptimalFeatureSelectionClassifier(random_seed=15095,\n",
    "    sparsity=10,\n",
    "    relaxation = true,\n",
    "    criterion = :entropy)\n",
    "IAI.fit!(lnr_2019, train_2019_X, train_2019_y) # , validation_criterion=:auc"
   ]
  },
  {
   "cell_type": "code",
   "execution_count": 7,
   "metadata": {},
   "outputs": [
    {
     "data": {
      "text/plain": [
       "0.5826014359463996"
      ]
     },
     "execution_count": 7,
     "metadata": {},
     "output_type": "execute_result"
    }
   ],
   "source": [
    "IAI.score(lnr_2019, test_2019_X, test_2019_y, criterion=:auc)"
   ]
  },
  {
   "cell_type": "markdown",
   "metadata": {},
   "source": [
    "## Grid Search 1 (Entropy)"
   ]
  },
  {
   "cell_type": "code",
   "execution_count": 22,
   "metadata": {},
   "outputs": [
    {
     "name": "stderr",
     "output_type": "stream",
     "text": [
      "\u001b[32mParameter combination...             0%|                |  ETA: N/A\u001b[39m\n",
      "\u001b[A4m  Parameters:  sparsity=>5\u001b[39m\n",
      "\u001b[32mParameter combination...             6%|█               |  ETA: 0:00:19\u001b[39m\n",
      "\u001b[A4m  Parameters:  sparsity=>6\u001b[39m\n",
      "\u001b[32mParameter combination...            12%|██              |  ETA: 0:00:18\u001b[39m\n",
      "\u001b[A4m  Parameters:  sparsity=>7\u001b[39m\n",
      "\u001b[32mParameter combination...            19%|███             |  ETA: 0:00:17\u001b[39m\n",
      "\u001b[A4m  Parameters:  sparsity=>8\u001b[39m\n",
      "\u001b[32mParameter combination...            25%|████            |  ETA: 0:00:15\u001b[39m\n",
      "\u001b[A4m  Parameters:  sparsity=>9\u001b[39m\n",
      "\u001b[32mParameter combination...            31%|█████           |  ETA: 0:00:15\u001b[39m\n",
      "\u001b[A4m  Parameters:  sparsity=>10\u001b[39m\n",
      "\u001b[32mParameter combination...            38%|██████          |  ETA: 0:00:14\u001b[39m\n",
      "\u001b[A4m  Parameters:  sparsity=>11\u001b[39m\n",
      "\u001b[32mParameter combination...            44%|███████         |  ETA: 0:00:13\u001b[39m\n",
      "\u001b[A4m  Parameters:  sparsity=>12\u001b[39m\n",
      "\u001b[32mParameter combination...            50%|████████        |  ETA: 0:00:12\u001b[39m\n",
      "\u001b[A4m  Parameters:  sparsity=>13\u001b[39m\n",
      "\u001b[32mParameter combination...            56%|█████████       |  ETA: 0:00:10\u001b[39m\n",
      "\u001b[A4m  Parameters:  sparsity=>14\u001b[39m\n",
      "\u001b[32mParameter combination...            62%|██████████      |  ETA: 0:00:09\u001b[39m\n",
      "\u001b[A4m  Parameters:  sparsity=>15\u001b[39m\n",
      "\u001b[32mParameter combination...            69%|███████████     |  ETA: 0:00:07\u001b[39m\n",
      "\u001b[A4m  Parameters:  sparsity=>16\u001b[39m\n",
      "\u001b[32mParameter combination...            75%|████████████    |  ETA: 0:00:06\u001b[39m\n",
      "\u001b[A4m  Parameters:  sparsity=>17\u001b[39m\n",
      "\u001b[32mParameter combination...            81%|█████████████   |  ETA: 0:00:04\u001b[39m\n",
      "\u001b[A4m  Parameters:  sparsity=>18\u001b[39m\n",
      "\u001b[32mParameter combination...            88%|██████████████  |  ETA: 0:00:03\u001b[39m\n",
      "\u001b[A4m  Parameters:  sparsity=>19\u001b[39m\n",
      "\u001b[32mParameter combination...            94%|███████████████ |  ETA: 0:00:01\u001b[39m\n",
      "\u001b[A4m  Parameters:  sparsity=>20\u001b[39m\n",
      "\u001b[32mParameter combination...           100%|████████████████| Time: 0:00:22\u001b[39m\n",
      "\u001b[32mRefitting with best parameters...    0%|                |  ETA: N/A\u001b[39m\n",
      "\u001b[A4m  Parameters:  sparsity=>10\u001b[39m"
     ]
    },
    {
     "name": "stdout",
     "output_type": "stream",
     "text": [
      "\n",
      "\n"
     ]
    },
    {
     "name": "stderr",
     "output_type": "stream",
     "text": [
      "\n",
      "\r",
      "\u001b[K\u001b[A\r",
      "\u001b[32mRefitting with best parameters...  100%|████████████████| Time: 0:00:02\u001b[39m\n",
      "\u001b[34m  Parameters:  sparsity=>10\u001b[39m\r",
      "\u001b[A"
     ]
    },
    {
     "name": "stdout",
     "output_type": "stream",
     "text": [
      "\n",
      "\n"
     ]
    },
    {
     "data": {
      "text/plain": [
       "All Grid Results:\n",
       "\n",
       "│ Row │ sparsity │ train_score │ valid_score │ rank_valid_score │\n",
       "│     │ \u001b[90mInt64\u001b[39m    │ \u001b[90mFloat64\u001b[39m     │ \u001b[90mFloat64\u001b[39m     │ \u001b[90mInt64\u001b[39m            │\n",
       "├─────┼──────────┼─────────────┼─────────────┼──────────────────┤\n",
       "│ 1   │ 5        │ 0.0355006   │ 0.590634    │ 12               │\n",
       "│ 2   │ 6        │ 0.0376854   │ 0.575817    │ 16               │\n",
       "│ 3   │ 7        │ 0.0424893   │ 0.587805    │ 14               │\n",
       "│ 4   │ 8        │ 0.0412618   │ 0.579957    │ 15               │\n",
       "│ 5   │ 9        │ 0.0468596   │ 0.613118    │ 6                │\n",
       "│ 6   │ 10       │ 0.0529921   │ 0.624312    │ 1                │\n",
       "│ 7   │ 11       │ 0.0533606   │ 0.621439    │ 2                │\n",
       "│ 8   │ 12       │ 0.054227    │ 0.61692     │ 3                │\n",
       "│ 9   │ 13       │ 0.0522509   │ 0.615851    │ 4                │\n",
       "│ 10  │ 14       │ 0.0530451   │ 0.613304    │ 5                │\n",
       "│ 11  │ 15       │ 0.0532717   │ 0.61075     │ 7                │\n",
       "│ 12  │ 16       │ 0.0569353   │ 0.608069    │ 9                │\n",
       "│ 13  │ 17       │ 0.0567674   │ 0.608745    │ 8                │\n",
       "│ 14  │ 18       │ 0.059919    │ 0.606135    │ 10               │\n",
       "│ 15  │ 19       │ 0.0666282   │ 0.589116    │ 13               │\n",
       "│ 16  │ 20       │ 0.0599624   │ 0.606001    │ 11               │\n",
       "\n",
       "Best Params:\n",
       "  sparsity => 10\n",
       "\n",
       "Best Model - Fitted OptimalFeatureSelectionClassifier:\n",
       "  Constant: -2.09258\n",
       "  Weights:\n",
       "    avg_death_6mon_sup:           3.49792\n",
       "    avg_death_6mon_top_enemy:    -3.12307\n",
       "    avg_dpm_year_bot:             0.00141018\n",
       "    avg_kda_6mon_sup:             0.105538\n",
       "    avg_kda_year_sup:             0.123177\n",
       "    avg_mk_enemy_year_mid:        0.128911\n",
       "    avg_mk_enemy_year_mid_enemy: -0.195288\n",
       "    champion_bot==Morgana:        2.49925\n",
       "    player_wr_6mon_jng:          -0.0492662\n",
       "    player_wr_year_jng:           0.621634"
      ]
     },
     "execution_count": 22,
     "metadata": {},
     "output_type": "execute_result"
    }
   ],
   "source": [
    "lnr_2019_entropy = IAI.OptimalFeatureSelectionClassifier(\n",
    "        random_seed=15095,\n",
    "        relaxation = true,\n",
    "        criterion = :entropy\n",
    "    )\n",
    "\n",
    "grid_2019_1 = IAI.GridSearch(lnr_2019_entropy,\n",
    "    sparsity=5:20,\n",
    ")\n",
    "IAI.fit!(grid_2019_1, train_2019_X, train_2019_y, validation_criterion=:auc)"
   ]
  },
  {
   "cell_type": "code",
   "execution_count": 23,
   "metadata": {},
   "outputs": [
    {
     "data": {
      "text/plain": [
       "0.5826014359463996"
      ]
     },
     "execution_count": 23,
     "metadata": {},
     "output_type": "execute_result"
    }
   ],
   "source": [
    "lnr_2019_best_1 = IAI.get_learner(grid_2019_1)\n",
    "\n",
    "IAI.score(lnr_2019_best_1, test_2019_X, test_2019_y, criterion=:auc)"
   ]
  },
  {
   "cell_type": "code",
   "execution_count": 24,
   "metadata": {},
   "outputs": [
    {
     "data": {
      "text/plain": [
       "0.5700378583017848"
      ]
     },
     "execution_count": 24,
     "metadata": {},
     "output_type": "execute_result"
    }
   ],
   "source": [
    "IAI.score(lnr_2019_best_1, test_2019_X, test_2019_y, criterion=:accuracy, positive_label = 1)"
   ]
  },
  {
   "cell_type": "markdown",
   "metadata": {},
   "source": [
    "### Better Entropy Number"
   ]
  },
  {
   "cell_type": "code",
   "execution_count": 10,
   "metadata": {},
   "outputs": [
    {
     "data": {
      "text/plain": [
       "Fitted OptimalFeatureSelectionClassifier:\n",
       "  Constant: -0.820746\n",
       "  Weights:\n",
       "    avg_dpm_year_bot:              0.00173915\n",
       "    avg_dpm_year_top_enemy:       -0.00194085\n",
       "    avg_gddiff_10_6mon_top_enemy: -0.000478949\n",
       "    avg_gddiff_10_year_top_enemy: -0.000227173\n",
       "    avg_kda_6mon_sup:              0.108274\n",
       "    avg_kda_year_sup:              0.139831\n",
       "    avg_kda_year_sup_enemy:       -0.0507449\n",
       "    avg_mk_enemy_year_mid:         0.145361\n",
       "    avg_mk_enemy_year_mid_enemy:  -0.168502\n",
       "    player_wr_year_sup_enemy:     -0.344643\n",
       "    side==Blue:                    0.138522\n",
       "    side==Red:                    -0.138522"
      ]
     },
     "execution_count": 10,
     "metadata": {},
     "output_type": "execute_result"
    }
   ],
   "source": [
    "lnr_entr = IAI.OptimalFeatureSelectionClassifier(random_seed=15095,\n",
    "    sparsity=12,\n",
    "    relaxation = true,\n",
    "    criterion = :entropy)\n",
    "IAI.fit!(lnr_entr, train_2019_X, train_2019_y)"
   ]
  },
  {
   "cell_type": "code",
   "execution_count": 11,
   "metadata": {},
   "outputs": [
    {
     "data": {
      "text/plain": [
       "0.6024182451312156"
      ]
     },
     "execution_count": 11,
     "metadata": {},
     "output_type": "execute_result"
    }
   ],
   "source": [
    "IAI.score(lnr_entr, test_2019_X, test_2019_y, criterion=:auc)"
   ]
  },
  {
   "cell_type": "code",
   "execution_count": 12,
   "metadata": {},
   "outputs": [
    {
     "data": {
      "text/plain": [
       "0.5722011898323418"
      ]
     },
     "execution_count": 12,
     "metadata": {},
     "output_type": "execute_result"
    }
   ],
   "source": [
    "IAI.score(lnr_entr, test_2019_X, test_2019_y, criterion=:accuracy, positive_label=1)"
   ]
  },
  {
   "cell_type": "markdown",
   "metadata": {},
   "source": [
    "## Grid 2 (Hinge L1)"
   ]
  },
  {
   "cell_type": "code",
   "execution_count": 17,
   "metadata": {},
   "outputs": [
    {
     "name": "stderr",
     "output_type": "stream",
     "text": [
      "\u001b[32mParameter combination...             0%|                |  ETA: N/A\u001b[39m\n",
      "\u001b[A4m  Parameters:  sparsity=>5\u001b[39m\n",
      "\u001b[32mParameter combination...             6%|█               |  ETA: 0:02:39\u001b[39m\n",
      "\u001b[A4m  Parameters:  sparsity=>6\u001b[39m\n",
      "\u001b[32mParameter combination...            12%|██              |  ETA: 0:02:15\u001b[39m\n",
      "\u001b[A4m  Parameters:  sparsity=>7\u001b[39m\n",
      "\u001b[32mParameter combination...            19%|███             |  ETA: 0:02:10\u001b[39m\n",
      "\u001b[A4m  Parameters:  sparsity=>8\u001b[39m\n",
      "\u001b[32mParameter combination...            25%|████            |  ETA: 0:02:08\u001b[39m\n",
      "\u001b[A4m  Parameters:  sparsity=>9\u001b[39m\n",
      "\u001b[32mParameter combination...            31%|█████           |  ETA: 0:02:07\u001b[39m\n",
      "\u001b[A4m  Parameters:  sparsity=>10\u001b[39m\n",
      "\u001b[32mParameter combination...            38%|██████          |  ETA: 0:02:01\u001b[39m\n",
      "\u001b[A4m  Parameters:  sparsity=>11\u001b[39m\n",
      "\u001b[32mParameter combination...            44%|███████         |  ETA: 0:01:59\u001b[39m\n",
      "\u001b[A4m  Parameters:  sparsity=>12\u001b[39m\n",
      "\u001b[32mParameter combination...            50%|████████        |  ETA: 0:01:50\u001b[39m\n",
      "\u001b[A4m  Parameters:  sparsity=>13\u001b[39m\n",
      "\u001b[32mParameter combination...            56%|█████████       |  ETA: 0:01:37\u001b[39m\n",
      "\u001b[A4m  Parameters:  sparsity=>14\u001b[39m\n",
      "\u001b[32mParameter combination...            62%|██████████      |  ETA: 0:01:28\u001b[39m\n",
      "\u001b[A4m  Parameters:  sparsity=>15\u001b[39m\n",
      "\u001b[32mParameter combination...            69%|███████████     |  ETA: 0:01:15\u001b[39m\n",
      "\u001b[A4m  Parameters:  sparsity=>16\u001b[39m\n",
      "\u001b[32mParameter combination...            75%|████████████    |  ETA: 0:01:01\u001b[39m\n",
      "\u001b[A4m  Parameters:  sparsity=>17\u001b[39m\n",
      "\u001b[32mParameter combination...            81%|█████████████   |  ETA: 0:00:46\u001b[39m\n",
      "\u001b[A4m  Parameters:  sparsity=>18\u001b[39m\n",
      "\u001b[32mParameter combination...            88%|██████████████  |  ETA: 0:00:32\u001b[39m\n",
      "\u001b[A4m  Parameters:  sparsity=>19\u001b[39m\n",
      "\u001b[32mParameter combination...            94%|███████████████ |  ETA: 0:00:16\u001b[39m\n",
      "\u001b[A4m  Parameters:  sparsity=>20\u001b[39m\n",
      "\u001b[32mParameter combination...           100%|████████████████| Time: 0:04:21\u001b[39m\n",
      "\u001b[32mRefitting with best parameters...    0%|                |  ETA: N/A\u001b[39m\n",
      "\u001b[A4m  Parameters:  sparsity=>10\u001b[39m"
     ]
    },
    {
     "name": "stdout",
     "output_type": "stream",
     "text": [
      "\n",
      "\n"
     ]
    },
    {
     "name": "stderr",
     "output_type": "stream",
     "text": [
      "\n",
      "\r",
      "\u001b[K\u001b[A\r",
      "\u001b[32mRefitting with best parameters...  100%|████████████████| Time: 0:00:22\u001b[39m\n",
      "\u001b[34m  Parameters:  sparsity=>10\u001b[39m\r",
      "\u001b[A"
     ]
    },
    {
     "name": "stdout",
     "output_type": "stream",
     "text": [
      "\n",
      "\n"
     ]
    },
    {
     "data": {
      "text/plain": [
       "All Grid Results:\n",
       "\n",
       "│ Row │ sparsity │ train_score │ valid_score │ rank_valid_score │\n",
       "│     │ \u001b[90mInt64\u001b[39m    │ \u001b[90mFloat64\u001b[39m     │ \u001b[90mFloat64\u001b[39m     │ \u001b[90mInt64\u001b[39m            │\n",
       "├─────┼──────────┼─────────────┼─────────────┼──────────────────┤\n",
       "│ 1   │ 5        │ 0.105487    │ 0.57523     │ 11               │\n",
       "│ 2   │ 6        │ 0.108297    │ 0.605623    │ 3                │\n",
       "│ 3   │ 7        │ 0.117287    │ 0.577339    │ 10               │\n",
       "│ 4   │ 8        │ 0.117336    │ 0.572479    │ 12               │\n",
       "│ 5   │ 9        │ 0.120446    │ 0.585734    │ 6                │\n",
       "│ 6   │ 10       │ 0.129084    │ 0.608489    │ 1                │\n",
       "│ 7   │ 11       │ 0.12124     │ 0.598398    │ 4                │\n",
       "│ 8   │ 12       │ 0.122669    │ 0.607056    │ 2                │\n",
       "│ 9   │ 13       │ 0.129651    │ 0.56717     │ 13               │\n",
       "│ 10  │ 14       │ 0.134682    │ 0.563257    │ 15               │\n",
       "│ 11  │ 15       │ 0.134595    │ 0.57895     │ 8                │\n",
       "│ 12  │ 16       │ 0.136747    │ 0.566405    │ 14               │\n",
       "│ 13  │ 17       │ 0.148755    │ 0.57777     │ 9                │\n",
       "│ 14  │ 18       │ 0.143909    │ 0.553563    │ 16               │\n",
       "│ 15  │ 19       │ 0.143394    │ 0.590709    │ 5                │\n",
       "│ 16  │ 20       │ 0.141557    │ 0.583098    │ 7                │\n",
       "\n",
       "Best Params:\n",
       "  sparsity => 10\n",
       "\n",
       "Best Model - Fitted OptimalFeatureSelectionClassifier:\n",
       "  Constant: -3.94522\n",
       "  Weights:\n",
       "    avg_csdiff_15_6mon_mid:            0.0124082\n",
       "    avg_csdiff_15_year_mid:            0.0180921\n",
       "    avg_kda_6mon_sup:                  0.185086\n",
       "    avg_kda_year_sup:                  0.151819\n",
       "    avg_wardsplaced_year_mid_enemy:    0.0737356\n",
       "    champion_mid_enemy==Aatrox:        1.0986\n",
       "    champion_mid_enemy==Taliyah:       1.15232\n",
       "    n_games_champions_year_sup_enemy: -0.0420548\n",
       "    player_fb_6mon_bot:                2.46051\n",
       "    player_wr_year_jng:                1.61172"
      ]
     },
     "execution_count": 17,
     "metadata": {},
     "output_type": "execute_result"
    }
   ],
   "source": [
    "lnr_2019_hinge_L1 = IAI.OptimalFeatureSelectionClassifier(\n",
    "        random_seed=15095,\n",
    "        relaxation = true,\n",
    "        criterion = :l1hinge\n",
    "    )\n",
    "\n",
    "grid_2019_2 = IAI.GridSearch(lnr_2019_hinge_L1,\n",
    "    sparsity=5:15\n",
    ")\n",
    "IAI.fit!(grid_2019_2, train_2019_X, train_2019_y, validation_criterion=:auc)"
   ]
  },
  {
   "cell_type": "code",
   "execution_count": 18,
   "metadata": {},
   "outputs": [
    {
     "data": {
      "text/plain": [
       "0.5458070645941862"
      ]
     },
     "execution_count": 18,
     "metadata": {},
     "output_type": "execute_result"
    }
   ],
   "source": [
    "lnr_2019_best_2 = IAI.get_learner(grid_2019_2)\n",
    "\n",
    "IAI.score(grid_2019_2, test_2019_X, test_2019_y, criterion=:auc)"
   ]
  },
  {
   "cell_type": "code",
   "execution_count": 19,
   "metadata": {},
   "outputs": [
    {
     "data": {
      "text/plain": [
       "0.5462412114656571"
      ]
     },
     "execution_count": 19,
     "metadata": {},
     "output_type": "execute_result"
    }
   ],
   "source": [
    "IAI.score(grid_2019_2, test_2019_X, test_2019_y, criterion=:accuracy, positive_label = 1)"
   ]
  },
  {
   "cell_type": "markdown",
   "metadata": {},
   "source": [
    "## Grid 3 (Hinge L2)"
   ]
  },
  {
   "cell_type": "code",
   "execution_count": 7,
   "metadata": {},
   "outputs": [
    {
     "name": "stderr",
     "output_type": "stream",
     "text": [
      "\u001b[32mParameter combination...             0%|                |  ETA: N/A\u001b[39m\n",
      "\u001b[A4m  Parameters:  sparsity=>14\u001b[39m\n",
      "\u001b[32mParameter combination...            25%|████            |  ETA: 0:02:11\u001b[39m\n",
      "\u001b[A4m  Parameters:  sparsity=>15\u001b[39m\n",
      "\u001b[32mParameter combination...            50%|████████        |  ETA: 0:01:29\u001b[39m\n",
      "\u001b[A4m  Parameters:  sparsity=>16\u001b[39m\n",
      "\u001b[32mParameter combination...            75%|████████████    |  ETA: 0:00:42\u001b[39m\n",
      "\u001b[A4m  Parameters:  sparsity=>17\u001b[39m\n",
      "\u001b[32mParameter combination...           100%|████████████████| Time: 0:02:46\u001b[39m\n",
      "\u001b[32mRefitting with best parameters...    0%|                |  ETA: N/A\u001b[39m\n",
      "\u001b[A4m  Parameters:  sparsity=>14\u001b[39m"
     ]
    },
    {
     "name": "stdout",
     "output_type": "stream",
     "text": [
      "\n",
      "\n"
     ]
    },
    {
     "name": "stderr",
     "output_type": "stream",
     "text": [
      "\n",
      "\r",
      "\u001b[K\u001b[A\r",
      "\u001b[32mRefitting with best parameters...  100%|████████████████| Time: 0:00:54\u001b[39m\n",
      "\u001b[34m  Parameters:  sparsity=>14\u001b[39m\r",
      "\u001b[A"
     ]
    },
    {
     "name": "stdout",
     "output_type": "stream",
     "text": [
      "\n",
      "\n"
     ]
    },
    {
     "data": {
      "text/plain": [
       "All Grid Results:\n",
       "\n",
       "│ Row │ sparsity │ train_score │ valid_score │ rank_valid_score │\n",
       "│     │ \u001b[90mInt64\u001b[39m    │ \u001b[90mFloat64\u001b[39m     │ \u001b[90mFloat64\u001b[39m     │ \u001b[90mInt64\u001b[39m            │\n",
       "├─────┼──────────┼─────────────┼─────────────┼──────────────────┤\n",
       "│ 1   │ 14       │ 0.0725445   │ 0.611351    │ 1                │\n",
       "│ 2   │ 15       │ 0.0762672   │ 0.610412    │ 3                │\n",
       "│ 3   │ 16       │ 0.0762746   │ 0.61105     │ 2                │\n",
       "│ 4   │ 17       │ 0.0765108   │ 0.610286    │ 4                │\n",
       "\n",
       "Best Params:\n",
       "  sparsity => 14\n",
       "\n",
       "Best Model - Fitted OptimalFeatureSelectionClassifier:\n",
       "  Constant: -0.155127\n",
       "  Weights:\n",
       "    avg_dpm_6mon_top_enemy:            0.000252236\n",
       "    avg_dpm_year_top_enemy:           -0.00104451\n",
       "    avg_gddiff_10_6mon_top_enemy:     -0.000136349\n",
       "    avg_gddiff_10_year_top_enemy:     -0.00011516\n",
       "    avg_kda_6mon_sup:                  0.0427854\n",
       "    avg_kda_year_sup:                  0.0969796\n",
       "    avg_kda_year_sup_enemy:           -0.0250985\n",
       "    avg_mk_enemy_6mon_top_enemy:      -0.0163573\n",
       "    avg_mk_enemy_year_mid_enemy:      -0.0829185\n",
       "    avg_wardskilled_year_mid:          0.0429983\n",
       "    n_games_champions_year_sup_enemy: -0.0119387\n",
       "    player_wr_year_sup_enemy:         -0.0279833\n",
       "    side==Blue:                        0.072012\n",
       "    side==Red:                        -0.072012"
      ]
     },
     "execution_count": 7,
     "metadata": {},
     "output_type": "execute_result"
    }
   ],
   "source": [
    "lnr_2019_hinge_L2 = IAI.OptimalFeatureSelectionClassifier(\n",
    "        random_seed=15095,\n",
    "        relaxation = true,\n",
    "        criterion = :l2hinge\n",
    "    )\n",
    "\n",
    "grid_2019_3 = IAI.GridSearch(lnr_2019_hinge_L2,\n",
    "    sparsity=14:17\n",
    ")\n",
    "IAI.fit!(grid_2019_3, train_2019_X, train_2019_y, validation_criterion=:auc)"
   ]
  },
  {
   "cell_type": "code",
   "execution_count": 8,
   "metadata": {},
   "outputs": [
    {
     "data": {
      "text/plain": [
       "0.5955860327534309"
      ]
     },
     "execution_count": 8,
     "metadata": {},
     "output_type": "execute_result"
    }
   ],
   "source": [
    "lnr_2019_best_3 = IAI.get_learner(grid_2019_3)\n",
    "\n",
    "IAI.score(grid_2019_3, test_2019_X, test_2019_y, criterion=:auc)"
   ]
  },
  {
   "cell_type": "code",
   "execution_count": 9,
   "metadata": {},
   "outputs": [
    {
     "data": {
      "text/plain": [
       "0.5700378583017848"
      ]
     },
     "execution_count": 9,
     "metadata": {},
     "output_type": "execute_result"
    }
   ],
   "source": [
    "IAI.score(grid_2019_3, test_2019_X, test_2019_y, criterion=:accuracy, positive_label = 1)"
   ]
  },
  {
   "cell_type": "markdown",
   "metadata": {},
   "source": [
    "# Passing to OCT"
   ]
  },
  {
   "cell_type": "code",
   "execution_count": null,
   "metadata": {},
   "outputs": [],
   "source": [
    "vars_importance = IAI.variable_importance(lnr_2019_best_1)\n",
    "imp_vars_2019 = findall(vars_importance .> 0)"
   ]
  },
  {
   "cell_type": "code",
   "execution_count": null,
   "metadata": {},
   "outputs": [],
   "source": [
    "train_2019_X_imp = train_2019_X[:,imp_vars_2019]"
   ]
  },
  {
   "cell_type": "code",
   "execution_count": null,
   "metadata": {},
   "outputs": [],
   "source": [
    "#### CROSS VALIDATION\n",
    "lnr_2019_gini = IAI.OptimalTreeClassifier(random_seed=15095, \n",
    "    criterion=:gini,\n",
    "    treat_unknown_level_missing=true, \n",
    "    missingdatamode=:separate_class)\n",
    "\n",
    "grid_2019_gini_1 = IAI.GridSearch(lnr_2019_gini,\n",
    "    max_depth=[3,7,10],\n",
    "    minbucket = [20,30,40]\n",
    ")\n",
    "IAI.fit!(grid_2019_gini_1, train_2019_X, train_2019_y)"
   ]
  },
  {
   "cell_type": "code",
   "execution_count": null,
   "metadata": {},
   "outputs": [],
   "source": [
    "lnr_2019_gini_best_1 = IAI.get_learner(grid_2019_gini_1)\n",
    "\n",
    "IAI.score(lnr_2019_gini_best_1, test_2019_X, test_2019_y, criterion=:auc)"
   ]
  },
  {
   "cell_type": "code",
   "execution_count": null,
   "metadata": {},
   "outputs": [],
   "source": [
    "IAI.score(lnr_2019_gini_best_1, test_2019_X, test_2019_y, criterion=:accuracy, positive_label=1)"
   ]
  }
 ],
 "metadata": {
  "kernelspec": {
   "display_name": "Julia 1.0.5",
   "language": "julia",
   "name": "julia-1.0"
  },
  "language_info": {
   "file_extension": ".jl",
   "mimetype": "application/julia",
   "name": "julia",
   "version": "1.0.5"
  }
 },
 "nbformat": 4,
 "nbformat_minor": 4
}
